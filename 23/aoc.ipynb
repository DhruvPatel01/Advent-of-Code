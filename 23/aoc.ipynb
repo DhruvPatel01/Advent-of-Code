{
 "cells": [
  {
   "cell_type": "code",
   "execution_count": 1,
   "id": "76ec7ec6-b47c-4a50-83e0-7a43b8017dfc",
   "metadata": {
    "lines_to_next_cell": 2
   },
   "outputs": [],
   "source": [
    "%load_ext autoreload\n",
    "%autoreload 2"
   ]
  },
  {
   "cell_type": "code",
   "execution_count": 2,
   "id": "379e77e4-c2fe-40a1-aea9-750affc17562",
   "metadata": {},
   "outputs": [
    {
     "name": "stderr",
     "output_type": "stream",
     "text": [
      "/home/dhruv/Projects/Advent-of-Code/23/helper.py:4: TqdmExperimentalWarning: Using `tqdm.autonotebook.tqdm` in notebook mode. Use `tqdm.tqdm` instead to force console mode (e.g. in jupyter console)\n",
      "  from tqdm.autonotebook import tqdm\n"
     ]
    }
   ],
   "source": [
    "from helper import *"
   ]
  },
  {
   "cell_type": "markdown",
   "id": "61ffc201-a1ab-442c-893d-e7c41f792aa5",
   "metadata": {
    "tags": []
   },
   "source": [
    "# Day 1"
   ]
  },
  {
   "cell_type": "code",
   "execution_count": 3,
   "id": "cd70a902-8957-4f49-b14e-1ccd34e6bf71",
   "metadata": {},
   "outputs": [],
   "source": [
    "input = read('1')\n",
    "reg = re.compile('\\d')"
   ]
  },
  {
   "cell_type": "code",
   "execution_count": 4,
   "id": "71665fff-95aa-4ce0-8d6e-bfda29007b2f",
   "metadata": {},
   "outputs": [
    {
     "data": {
      "text/plain": [
       "54953"
      ]
     },
     "execution_count": 4,
     "metadata": {},
     "output_type": "execute_result"
    }
   ],
   "source": [
    "sum(int(x[0] + x[-1]) for x in map(reg.findall, input))"
   ]
  },
  {
   "cell_type": "code",
   "execution_count": 5,
   "id": "22236053-7c26-4615-8622-8585efd316a0",
   "metadata": {},
   "outputs": [],
   "source": [
    "reg = re.compile('(?=(\\d|one|two|three|four|five|six|seven|eight|nine))')\n",
    "inv_map = tuple('one|two|three|four|five|six|seven|eight|nine'.split('|'))\n",
    "inv_map = {k:str(i) for i, k in enumerate(inv_map, 1)}\n",
    "inv_map.update({str(i):str(i) for i in range(1, 10)})"
   ]
  },
  {
   "cell_type": "code",
   "execution_count": 6,
   "id": "042daae8-abfa-457d-844e-214582613dea",
   "metadata": {},
   "outputs": [
    {
     "data": {
      "text/plain": [
       "53868"
      ]
     },
     "execution_count": 6,
     "metadata": {},
     "output_type": "execute_result"
    }
   ],
   "source": [
    "sum(\n",
    "    map(lambda x: int(inv_map[x[0]] + inv_map[x[-1]]), \n",
    "        map(reg.findall,\n",
    "            input)))"
   ]
  },
  {
   "cell_type": "markdown",
   "id": "a5ab1976-cc13-4c69-a848-08b39939b708",
   "metadata": {},
   "source": [
    "# Day 2"
   ]
  },
  {
   "cell_type": "code",
   "execution_count": 7,
   "id": "475f0f63-0cb7-467c-b5bb-d6b2fe87d8d3",
   "metadata": {},
   "outputs": [],
   "source": [
    "input = read('2')\n",
    "\n",
    "g = r'(\\d+) green'\n",
    "b = r'(\\d+) blue'\n",
    "r = r'(\\d+) red'"
   ]
  },
  {
   "cell_type": "code",
   "execution_count": 8,
   "id": "7d696aa1-cd67-42e4-98b7-22c9283dc767",
   "metadata": {},
   "outputs": [],
   "source": [
    "part1 = part2 = 0\n",
    "for i, game in enumerate(input, 1):\n",
    "    possible = True\n",
    "    power = 1\n",
    "    for (color, mx) in zip((r, g, b), (12,13,14)):\n",
    "        mx_ = max(map(int, \n",
    "                      re.findall(color, game)))\n",
    "        power *= mx_\n",
    "        possible &= mx_ <= mx\n",
    "    part1 += possible*i\n",
    "    part2 += power"
   ]
  },
  {
   "cell_type": "code",
   "execution_count": 9,
   "id": "363e3c6c-d471-4175-b4d7-ad1e04a0404c",
   "metadata": {},
   "outputs": [
    {
     "data": {
      "text/plain": [
       "2162"
      ]
     },
     "execution_count": 9,
     "metadata": {},
     "output_type": "execute_result"
    }
   ],
   "source": [
    "part1"
   ]
  },
  {
   "cell_type": "code",
   "execution_count": 10,
   "id": "11a285cd-c7c3-4425-bdc3-47bc4a0d5189",
   "metadata": {},
   "outputs": [
    {
     "data": {
      "text/plain": [
       "72513"
      ]
     },
     "execution_count": 10,
     "metadata": {},
     "output_type": "execute_result"
    }
   ],
   "source": [
    "part2"
   ]
  },
  {
   "cell_type": "markdown",
   "id": "8bf42dd1-ac4e-4979-8268-9471ae6346cf",
   "metadata": {},
   "source": [
    "# Day 3"
   ]
  },
  {
   "cell_type": "code",
   "execution_count": null,
   "id": "45d9c43f-6e68-43d1-95f2-6d0ce87ac518",
   "metadata": {},
   "outputs": [],
   "source": []
  }
 ],
 "metadata": {
  "jupytext": {
   "encoding": "# -*- coding: utf-8 -*-",
   "formats": "ipynb,py:light"
  },
  "kernelspec": {
   "display_name": "Python 3 (ipykernel)",
   "language": "python",
   "name": "python3"
  },
  "language_info": {
   "codemirror_mode": {
    "name": "ipython",
    "version": 3
   },
   "file_extension": ".py",
   "mimetype": "text/x-python",
   "name": "python",
   "nbconvert_exporter": "python",
   "pygments_lexer": "ipython3",
   "version": "3.11.6"
  }
 },
 "nbformat": 4,
 "nbformat_minor": 5
}
