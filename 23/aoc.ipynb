{
 "cells": [
  {
   "cell_type": "code",
   "execution_count": 1,
   "id": "76ec7ec6-b47c-4a50-83e0-7a43b8017dfc",
   "metadata": {
    "lines_to_next_cell": 2
   },
   "outputs": [],
   "source": [
    "%load_ext autoreload\n",
    "%autoreload 2"
   ]
  },
  {
   "cell_type": "code",
   "execution_count": 2,
   "id": "379e77e4-c2fe-40a1-aea9-750affc17562",
   "metadata": {},
   "outputs": [
    {
     "name": "stderr",
     "output_type": "stream",
     "text": [
      "/home/dhruv/Projects/Advent-of-Code/23/helper.py:4: TqdmExperimentalWarning: Using `tqdm.autonotebook.tqdm` in notebook mode. Use `tqdm.tqdm` instead to force console mode (e.g. in jupyter console)\n",
      "  from tqdm.autonotebook import tqdm\n"
     ]
    }
   ],
   "source": [
    "from helper import *"
   ]
  },
  {
   "cell_type": "markdown",
   "id": "61ffc201-a1ab-442c-893d-e7c41f792aa5",
   "metadata": {
    "tags": []
   },
   "source": [
    "# Day 1"
   ]
  },
  {
   "cell_type": "code",
   "execution_count": 3,
   "id": "cd70a902-8957-4f49-b14e-1ccd34e6bf71",
   "metadata": {},
   "outputs": [],
   "source": [
    "input = read(1)\n",
    "reg = re.compile('\\d')"
   ]
  },
  {
   "cell_type": "code",
   "execution_count": 4,
   "id": "71665fff-95aa-4ce0-8d6e-bfda29007b2f",
   "metadata": {},
   "outputs": [
    {
     "data": {
      "text/plain": [
       "54953"
      ]
     },
     "execution_count": 4,
     "metadata": {},
     "output_type": "execute_result"
    }
   ],
   "source": [
    "sum(int(x[0] + x[-1]) for x in map(reg.findall, input))"
   ]
  },
  {
   "cell_type": "code",
   "execution_count": 5,
   "id": "22236053-7c26-4615-8622-8585efd316a0",
   "metadata": {},
   "outputs": [],
   "source": [
    "reg = re.compile('(?=(\\d|one|two|three|four|five|six|seven|eight|nine))')\n",
    "inv_map = tuple('one|two|three|four|five|six|seven|eight|nine'.split('|'))\n",
    "inv_map = {k:str(i) for i, k in enumerate(inv_map, 1)}\n",
    "inv_map.update({str(i):str(i) for i in range(1, 10)})"
   ]
  },
  {
   "cell_type": "code",
   "execution_count": 6,
   "id": "042daae8-abfa-457d-844e-214582613dea",
   "metadata": {},
   "outputs": [
    {
     "data": {
      "text/plain": [
       "53868"
      ]
     },
     "execution_count": 6,
     "metadata": {},
     "output_type": "execute_result"
    }
   ],
   "source": [
    "sum(\n",
    "    map(lambda x: int(inv_map[x[0]] + inv_map[x[-1]]), \n",
    "        map(reg.findall,\n",
    "            input)))"
   ]
  },
  {
   "cell_type": "markdown",
   "id": "a5ab1976-cc13-4c69-a848-08b39939b708",
   "metadata": {},
   "source": [
    "# Day 2"
   ]
  },
  {
   "cell_type": "code",
   "execution_count": 7,
   "id": "475f0f63-0cb7-467c-b5bb-d6b2fe87d8d3",
   "metadata": {},
   "outputs": [],
   "source": [
    "test_data = \"\"\"Game 1: 3 blue, 4 red; 1 red, 2 green, 6 blue; 2 green\n",
    "Game 2: 1 blue, 2 green; 3 green, 4 blue, 1 red; 1 green, 1 blue\n",
    "Game 3: 8 green, 6 blue, 20 red; 5 blue, 4 red, 13 green; 5 green, 1 red\n",
    "Game 4: 1 green, 3 red, 6 blue; 3 green, 6 red; 3 green, 15 blue, 14 red\n",
    "Game 5: 6 red, 1 blue, 3 green; 2 blue, 1 red, 2 green\"\"\"\n",
    "input = read(2)\n",
    "\n",
    "g = r'(\\d+) green'\n",
    "b = r'(\\d+) blue'\n",
    "r = r'(\\d+) red'"
   ]
  },
  {
   "cell_type": "code",
   "execution_count": 8,
   "id": "7d696aa1-cd67-42e4-98b7-22c9283dc767",
   "metadata": {},
   "outputs": [],
   "source": [
    "part1 = part2 = 0\n",
    "for i, game in enumerate(input, 1):\n",
    "    possible = True\n",
    "    power = 1\n",
    "    for (color, mx) in zip((r, g, b), (12,13,14)):\n",
    "        mx_ = max(map(int, \n",
    "                      re.findall(color, game)))\n",
    "        power *= mx_\n",
    "        possible &= mx_ <= mx\n",
    "    part1 += possible*i\n",
    "    part2 += power"
   ]
  },
  {
   "cell_type": "code",
   "execution_count": 9,
   "id": "363e3c6c-d471-4175-b4d7-ad1e04a0404c",
   "metadata": {},
   "outputs": [
    {
     "data": {
      "text/plain": [
       "2162"
      ]
     },
     "execution_count": 9,
     "metadata": {},
     "output_type": "execute_result"
    }
   ],
   "source": [
    "part1"
   ]
  },
  {
   "cell_type": "code",
   "execution_count": 10,
   "id": "11a285cd-c7c3-4425-bdc3-47bc4a0d5189",
   "metadata": {},
   "outputs": [
    {
     "data": {
      "text/plain": [
       "72513"
      ]
     },
     "execution_count": 10,
     "metadata": {},
     "output_type": "execute_result"
    }
   ],
   "source": [
    "part2"
   ]
  },
  {
   "cell_type": "markdown",
   "id": "8bf42dd1-ac4e-4979-8268-9471ae6346cf",
   "metadata": {},
   "source": [
    "# Day 3"
   ]
  },
  {
   "cell_type": "code",
   "execution_count": 11,
   "id": "45d9c43f-6e68-43d1-95f2-6d0ce87ac518",
   "metadata": {},
   "outputs": [],
   "source": [
    "test_data = \"\"\"467..114..\n",
    "...*......\n",
    "..35..633.\n",
    "......#...\n",
    "617*......\n",
    ".....+.58.\n",
    "..592.....\n",
    "......755.\n",
    "...$.*....\n",
    ".664.598..\n",
    "\"\"\"\n",
    "\n",
    "input = read(3)\n",
    "width = len(input[0])+2\n",
    "input = ['.'*width]  + [f\".{row}.\" for row in input] + ['.'*width]"
   ]
  },
  {
   "cell_type": "code",
   "execution_count": 12,
   "id": "38aedf6b-94d2-4e5f-9f61-c027e6be47cf",
   "metadata": {},
   "outputs": [
    {
     "data": {
      "text/plain": [
       "('.', '0', '1', '2', '3', '4', '5', '6', '7', '8', '9')"
      ]
     },
     "execution_count": 12,
     "metadata": {},
     "output_type": "execute_result"
    }
   ],
   "source": [
    "invalid = ('.',) + tuple(str(i) for i in range(0, 10))\n",
    "invalid"
   ]
  },
  {
   "cell_type": "code",
   "execution_count": 13,
   "id": "d00c91ae-02d9-4826-9373-88a00690de8a",
   "metadata": {},
   "outputs": [],
   "source": [
    "part1 = []\n",
    "\n",
    "def valid_position(i, j):\n",
    "    for ii in range(i-1, i+2):\n",
    "        for jj in range(j-1, j+2):\n",
    "            if input[ii][jj] not in invalid: return True\n",
    "    return False\n",
    "    \n",
    "for i, row in enumerate(input[1:-1], 1):\n",
    "    s = 0\n",
    "    valid = False\n",
    "    for j, c in enumerate(row[1:], 1):\n",
    "        if c.isnumeric():\n",
    "            s = s*10 + int(c)\n",
    "            valid = valid or valid_position(i, j)\n",
    "        else:\n",
    "            if valid:\n",
    "                part1.append(s)\n",
    "            s = 0\n",
    "            valid = False"
   ]
  },
  {
   "cell_type": "code",
   "execution_count": 14,
   "id": "5ed160b9-e14f-4be1-a146-e3b0cbb52d8c",
   "metadata": {},
   "outputs": [
    {
     "data": {
      "text/plain": [
       "530849"
      ]
     },
     "execution_count": 14,
     "metadata": {},
     "output_type": "execute_result"
    }
   ],
   "source": [
    "sum(part1)"
   ]
  },
  {
   "cell_type": "code",
   "execution_count": 15,
   "id": "2a91906e-4aac-4234-b096-51b389645e05",
   "metadata": {},
   "outputs": [],
   "source": [
    "part2 = []\n",
    "\n",
    "def parse_number(i, j):\n",
    "    l = r = j\n",
    "    while input[i][r+1].isnumeric(): r += 1\n",
    "    while input[i][l-1].isnumeric(): l -= 1\n",
    "    return int(input[i][l:r+1])\n",
    "               \n",
    "for i, row in enumerate(input[1:-1], 1):\n",
    "    for j, c in enumerate(row[1:-1], 1):\n",
    "        if c == '*':\n",
    "            l = r = bl = br = b = tl = tr = t = False\n",
    "            l = row[j-1].isnumeric()\n",
    "            r = row[j+1].isnumeric()\n",
    "            if input[i+1][j].isnumeric():\n",
    "                b = True\n",
    "            else:\n",
    "                if input[i+1][j-1].isnumeric(): bl = True\n",
    "                if input[i+1][j+1].isnumeric(): br = True\n",
    "            if input[i-1][j].isnumeric():\n",
    "                t = True\n",
    "            else:\n",
    "                if input[i-1][j-1].isnumeric(): tl = True\n",
    "                if input[i-1][j+1].isnumeric(): tr = True\n",
    "            if l+r+t+b+bl+br+tl+tr != 2: continue\n",
    "\n",
    "            ratio = 1\n",
    "            if  l: ratio *= parse_number(i, j-1)\n",
    "            if  r: ratio *= parse_number(i, j+1)\n",
    "            if  t: ratio *= parse_number(i-1, j)\n",
    "            if  b: ratio *= parse_number(i+1, j)\n",
    "            if tl: ratio *= parse_number(i-1, j-1)\n",
    "            if bl: ratio *= parse_number(i+1, j-1)\n",
    "            if tr: ratio *= parse_number(i-1, j+1)\n",
    "            if br: ratio *= parse_number(i+1, j+1)\n",
    "            part2.append(ratio)\n",
    "       "
   ]
  },
  {
   "cell_type": "code",
   "execution_count": 16,
   "id": "850320a8-e012-4f1d-8b1d-20271668a84d",
   "metadata": {},
   "outputs": [
    {
     "data": {
      "text/plain": [
       "84900879"
      ]
     },
     "execution_count": 16,
     "metadata": {},
     "output_type": "execute_result"
    }
   ],
   "source": [
    "sum(part2)"
   ]
  },
  {
   "cell_type": "markdown",
   "id": "22e43b0f-9fa1-405e-94fd-0d1089a2c7ed",
   "metadata": {},
   "source": [
    "# Day 4"
   ]
  },
  {
   "cell_type": "code",
   "execution_count": 55,
   "id": "4ed4a67b-bd1e-4d46-8637-0bb740e2cc46",
   "metadata": {},
   "outputs": [
    {
     "name": "stdout",
     "output_type": "stream",
     "text": [
      "28750\n",
      "10212704\n"
     ]
    }
   ],
   "source": [
    "test = \"\"\"Card 1: 41 48 83 86 17 | 83 86  6 31 17  9 48 53\n",
    "Card 2: 13 32 20 16 61 | 61 30 68 82 17 32 24 19\n",
    "Card 3:  1 21 53 59 44 | 69 82 63 72 16 21 14  1\n",
    "Card 4: 41 92 73 84 69 | 59 84 76 51 58  5 54 83\n",
    "Card 5: 87 83 26 28 32 | 88 30 70 12 93 22 82 36\n",
    "Card 6: 31 18 13 56 72 | 74 77 10 23 35 67 36 11\n",
    "\"\"\"\n",
    "input = read(4)\n",
    "\n",
    "part1 = 0\n",
    "part2 = [1]*len(input)\n",
    "\n",
    "for i, row in enumerate(input):\n",
    "    l, r = row.split(':')[1].split('|')\n",
    "    l = set(l.strip().split())\n",
    "    pow = sum(e in l for e in r.strip().split())\n",
    "    if pow:\n",
    "        part1 += 2**(pow-1)\n",
    "        for j in range(i+1, i+pow+1):\n",
    "            part2[j] += part2[i]\n",
    "print(part1)\n",
    "print(sum(part2))"
   ]
  },
  {
   "cell_type": "code",
   "execution_count": 49,
   "id": "f52b9a52-1862-4c35-acb2-a6044364f6f0",
   "metadata": {},
   "outputs": [
    {
     "data": {
      "text/plain": [
       "13"
      ]
     },
     "execution_count": 49,
     "metadata": {},
     "output_type": "execute_result"
    }
   ],
   "source": [
    "part1"
   ]
  },
  {
   "cell_type": "code",
   "execution_count": 53,
   "id": "a9c71374-6640-48e6-a6fc-7acf69fca28a",
   "metadata": {},
   "outputs": [
    {
     "data": {
      "text/plain": [
       "30"
      ]
     },
     "execution_count": 53,
     "metadata": {},
     "output_type": "execute_result"
    }
   ],
   "source": [
    "sum(part2)"
   ]
  },
  {
   "cell_type": "markdown",
   "id": "898ade7a-ef0c-422a-bed8-583e25d1c031",
   "metadata": {},
   "source": [
    "# Day 5"
   ]
  },
  {
   "cell_type": "code",
   "execution_count": null,
   "id": "69ebc227-e542-4ab7-9f29-f523feee7d65",
   "metadata": {},
   "outputs": [],
   "source": [
    "test = \"\"\"\n",
    "\"\"\"\n",
    "input = read(test)\n",
    "\n",
    "part1 = None\n",
    "part2 = None"
   ]
  }
 ],
 "metadata": {
  "jupytext": {
   "encoding": "# -*- coding: utf-8 -*-",
   "formats": "ipynb,py:light"
  },
  "kernelspec": {
   "display_name": "Python 3 (ipykernel)",
   "language": "python",
   "name": "python3"
  },
  "language_info": {
   "codemirror_mode": {
    "name": "ipython",
    "version": 3
   },
   "file_extension": ".py",
   "mimetype": "text/x-python",
   "name": "python",
   "nbconvert_exporter": "python",
   "pygments_lexer": "ipython3",
   "version": "3.11.6"
  }
 },
 "nbformat": 4,
 "nbformat_minor": 5
}
