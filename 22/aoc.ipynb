{
 "cells": [
  {
   "cell_type": "code",
   "execution_count": 1,
   "id": "676ff8c8-e8c4-42e9-b56a-703bbb2d8417",
   "metadata": {},
   "outputs": [],
   "source": [
    "%load_ext autoreload\n",
    "%autoreload 2"
   ]
  },
  {
   "cell_type": "markdown",
   "id": "cd5e2020-ad9e-4117-857a-99acb3e673e2",
   "metadata": {},
   "source": [
    "# Helpers"
   ]
  },
  {
   "cell_type": "code",
   "execution_count": 2,
   "id": "76ec7ec6-b47c-4a50-83e0-7a43b8017dfc",
   "metadata": {},
   "outputs": [],
   "source": [
    "import re\n",
    "from collections import Counter, defaultdict\n",
    "import itertools\n"
   ]
  },
  {
   "cell_type": "code",
   "execution_count": 3,
   "id": "379e77e4-c2fe-40a1-aea9-750affc17562",
   "metadata": {},
   "outputs": [],
   "source": [
    "def id(x): return x\n",
    "\n",
    "def read(day, part=1, process=id):\n",
    "    with open(f'./inputs/{day}.{part}.txt') as f:\n",
    "        return list(map(process, map(str.strip, f)))\n",
    "    \n",
    "def partition_into(lst: list, when, preprocess=id, postprocess=id) -> list[list]:\n",
    "    res = [[], ]\n",
    "    for item in map(preprocess, lst):\n",
    "        if when(item): res.append([])\n",
    "        else: res[-1].append(postprocess(item))\n",
    "    return res"
   ]
  },
  {
   "cell_type": "markdown",
   "id": "61ffc201-a1ab-442c-893d-e7c41f792aa5",
   "metadata": {
    "tags": []
   },
   "source": [
    "# Day 1"
   ]
  },
  {
   "cell_type": "code",
   "execution_count": 4,
   "id": "cd70a902-8957-4f49-b14e-1ccd34e6bf71",
   "metadata": {},
   "outputs": [
    {
     "name": "stdout",
     "output_type": "stream",
     "text": [
      "66487\n"
     ]
    }
   ],
   "source": [
    "input = partition_into(read(1), lambda x: not x, postprocess=int)\n",
    "calories = [sum(l) for  l in input]\n",
    "calories.sort()\n",
    "print(calories[-1])"
   ]
  },
  {
   "cell_type": "code",
   "execution_count": 5,
   "id": "16c2d0e1-97de-4b9d-a877-e997b163c7d3",
   "metadata": {},
   "outputs": [
    {
     "name": "stdout",
     "output_type": "stream",
     "text": [
      "197301\n"
     ]
    }
   ],
   "source": [
    "print(sum(calories[-3:]))"
   ]
  },
  {
   "cell_type": "markdown",
   "id": "0108693e-3d34-4db1-b531-7b0df2efb7f7",
   "metadata": {
    "tags": []
   },
   "source": [
    "# Day 2"
   ]
  },
  {
   "cell_type": "code",
   "execution_count": 6,
   "id": "fd8837b1-a104-49ae-a24d-c99db1d5bdf3",
   "metadata": {},
   "outputs": [],
   "source": [
    "scores = {\n",
    "    'A X': 1+3,\n",
    "    'A Y': 2+6,\n",
    "    'A Z': 3+0,\n",
    "    'B X': 1+0,\n",
    "    'B Y': 2+3,\n",
    "    'B Z': 3+6,\n",
    "    'C X': 1+6,\n",
    "    'C Y': 2+0,\n",
    "    'C Z': 3+3,\n",
    "}"
   ]
  },
  {
   "cell_type": "code",
   "execution_count": 7,
   "id": "072242fb-fd2f-475f-9cbd-fe16b64d0946",
   "metadata": {},
   "outputs": [],
   "source": [
    "input = read(2, 1)"
   ]
  },
  {
   "cell_type": "code",
   "execution_count": 8,
   "id": "72355cab-1d95-42a3-b983-f826beb8129d",
   "metadata": {},
   "outputs": [
    {
     "name": "stdout",
     "output_type": "stream",
     "text": [
      "10994\n"
     ]
    }
   ],
   "source": [
    "print(sum(map(scores.get, input)))"
   ]
  },
  {
   "cell_type": "code",
   "execution_count": 9,
   "id": "9f7a5d9b-85aa-46df-ba32-45768abbdc45",
   "metadata": {},
   "outputs": [],
   "source": [
    "scores2 = {\n",
    "    'A X': 3+0,\n",
    "    'A Y': 1+3,\n",
    "    'A Z': 2+6,\n",
    "    'B X': 1+0,\n",
    "    'B Y': 2+3,\n",
    "    'B Z': 3+6,\n",
    "    'C X': 2+0,\n",
    "    'C Y': 3+3,\n",
    "    'C Z': 1+6,\n",
    "}"
   ]
  },
  {
   "cell_type": "code",
   "execution_count": 10,
   "id": "017cffba-e5ed-4a19-bc9e-dfdc8b171fcd",
   "metadata": {},
   "outputs": [
    {
     "name": "stdout",
     "output_type": "stream",
     "text": [
      "12526\n"
     ]
    }
   ],
   "source": [
    "print(sum(map(scores2.get, input)))"
   ]
  },
  {
   "cell_type": "markdown",
   "id": "9d32c835-6428-4d0a-827d-ef7eb9ec4b83",
   "metadata": {},
   "source": [
    "# Day 3"
   ]
  },
  {
   "cell_type": "code",
   "execution_count": 11,
   "id": "93ce95eb-2ce8-40ab-a884-ce7aba82b1c6",
   "metadata": {},
   "outputs": [],
   "source": [
    "import string\n",
    "\n",
    "priority = dict(enumerate(string.ascii_lowercase, 1))\n",
    "priority |= dict(enumerate(string.ascii_uppercase, 27))\n",
    "priority = {v:k for k,v in priority.items()}"
   ]
  },
  {
   "cell_type": "code",
   "execution_count": 12,
   "id": "280c8d0b-99bf-4643-8e1d-6c29d5960db5",
   "metadata": {},
   "outputs": [],
   "source": [
    "input = read(3, 1)"
   ]
  },
  {
   "cell_type": "code",
   "execution_count": 13,
   "id": "4a2ee712-9f44-46d9-939d-3d5d84448b53",
   "metadata": {},
   "outputs": [],
   "source": [
    "def split_half (x):\n",
    "    n = len(x)//2\n",
    "    return set(x[:n]), set(x[n:])\n",
    "\n",
    "common = [x&y for x, y in map(split_half, input)]"
   ]
  },
  {
   "cell_type": "code",
   "execution_count": 14,
   "id": "b6b496ca-34c0-48d7-9df1-9ef783a130f5",
   "metadata": {},
   "outputs": [
    {
     "data": {
      "text/plain": [
       "7848"
      ]
     },
     "execution_count": 14,
     "metadata": {},
     "output_type": "execute_result"
    }
   ],
   "source": [
    "sum(sum(map(priority.get, c)) for c in common)"
   ]
  },
  {
   "cell_type": "code",
   "execution_count": 15,
   "id": "11938256-778a-45e5-97e5-6fd75187c5e7",
   "metadata": {},
   "outputs": [
    {
     "data": {
      "text/plain": [
       "2616"
      ]
     },
     "execution_count": 15,
     "metadata": {},
     "output_type": "execute_result"
    }
   ],
   "source": [
    "groups = [input[i:i+3] for i in range(0, len(input), 3)]\n",
    "groups = [list(set(x)&set(y)&set(z))[0] for x, y, z in groups]\n",
    "sum(map(priority.get, groups))"
   ]
  },
  {
   "cell_type": "markdown",
   "id": "c094a31b-2c3b-4cbc-a642-172dc310ef40",
   "metadata": {},
   "source": [
    "# Day 4"
   ]
  },
  {
   "cell_type": "code",
   "execution_count": null,
   "id": "11fc4ab3-cae7-404a-845d-f43f63d81479",
   "metadata": {},
   "outputs": [],
   "source": []
  }
 ],
 "metadata": {
  "kernelspec": {
   "display_name": "Python 3",
   "language": "python",
   "name": "python3"
  },
  "language_info": {
   "codemirror_mode": {
    "name": "ipython",
    "version": 3
   },
   "file_extension": ".py",
   "mimetype": "text/x-python",
   "name": "python",
   "nbconvert_exporter": "python",
   "pygments_lexer": "ipython3",
   "version": "3.10.8"
  }
 },
 "nbformat": 4,
 "nbformat_minor": 5
}
