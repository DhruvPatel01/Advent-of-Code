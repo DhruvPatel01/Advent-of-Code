{
 "cells": [
  {
   "cell_type": "code",
   "execution_count": 1,
   "id": "676ff8c8-e8c4-42e9-b56a-703bbb2d8417",
   "metadata": {},
   "outputs": [],
   "source": [
    "%load_ext autoreload\n",
    "%autoreload 2"
   ]
  },
  {
   "cell_type": "markdown",
   "id": "cd5e2020-ad9e-4117-857a-99acb3e673e2",
   "metadata": {},
   "source": [
    "# Helpers"
   ]
  },
  {
   "cell_type": "code",
   "execution_count": 2,
   "id": "76ec7ec6-b47c-4a50-83e0-7a43b8017dfc",
   "metadata": {},
   "outputs": [],
   "source": [
    "import re\n",
    "from collections import Counter, defaultdict\n",
    "import itertools\n"
   ]
  },
  {
   "cell_type": "code",
   "execution_count": 3,
   "id": "ff57332a-5fbb-4d9d-94c0-45ed4b025f80",
   "metadata": {},
   "outputs": [],
   "source": [
    "digits = re.compile(r'\\d+')"
   ]
  },
  {
   "cell_type": "code",
   "execution_count": 4,
   "id": "7cf9a629-1c8d-4af8-b9fd-b7f16ad76af0",
   "metadata": {},
   "outputs": [
    {
     "data": {
      "text/plain": [
       "['1', '2', '3', '4']"
      ]
     },
     "execution_count": 4,
     "metadata": {},
     "output_type": "execute_result"
    }
   ],
   "source": [
    "digits.findall('1-2,3-4')"
   ]
  },
  {
   "cell_type": "code",
   "execution_count": 5,
   "id": "379e77e4-c2fe-40a1-aea9-750affc17562",
   "metadata": {},
   "outputs": [],
   "source": [
    "def id(x): return x\n",
    "\n",
    "def parse_uint(line): return [int(x) for x in re.findall(r'\\d+', line)]\n",
    "def  parse_int(line): return [int(x) for x in re.findall(r'-?\\d+', line)]\n",
    "\n",
    "def read(day, part=1, process=id, split='\\n'):\n",
    "    with open(f'./inputs/{day}.{part}.txt') as f:\n",
    "        return list(map(process, f.read().split(split)))\n",
    "    \n",
    "def partition_into(lst: list, when, preprocess=id, postprocess=id) -> list[list]:\n",
    "    res = [[], ]\n",
    "    for item in map(preprocess, lst):\n",
    "        if when(item): res.append([])\n",
    "        else: res[-1].append(postprocess(item))\n",
    "    return res\n",
    "\n",
    "def partition(inp, segment_length):\n",
    "    res = []\n",
    "    for i in range(0, len(inp), segment_length):\n",
    "        res.append(inp[i:i+segment_length])\n",
    "    return res"
   ]
  },
  {
   "cell_type": "markdown",
   "id": "61ffc201-a1ab-442c-893d-e7c41f792aa5",
   "metadata": {
    "tags": []
   },
   "source": [
    "# Day 1"
   ]
  },
  {
   "cell_type": "code",
   "execution_count": 6,
   "id": "cd70a902-8957-4f49-b14e-1ccd34e6bf71",
   "metadata": {},
   "outputs": [
    {
     "name": "stdout",
     "output_type": "stream",
     "text": [
      "66487\n"
     ]
    }
   ],
   "source": [
    "input = partition_into(read(1), lambda x: not x, postprocess=int)\n",
    "calories = [sum(l) for  l in input]\n",
    "calories.sort()\n",
    "print(calories[-1])"
   ]
  },
  {
   "cell_type": "code",
   "execution_count": 7,
   "id": "16c2d0e1-97de-4b9d-a877-e997b163c7d3",
   "metadata": {},
   "outputs": [
    {
     "name": "stdout",
     "output_type": "stream",
     "text": [
      "197301\n"
     ]
    }
   ],
   "source": [
    "print(sum(calories[-3:]))"
   ]
  },
  {
   "cell_type": "markdown",
   "id": "0108693e-3d34-4db1-b531-7b0df2efb7f7",
   "metadata": {
    "tags": []
   },
   "source": [
    "# Day 2"
   ]
  },
  {
   "cell_type": "code",
   "execution_count": 8,
   "id": "fd8837b1-a104-49ae-a24d-c99db1d5bdf3",
   "metadata": {},
   "outputs": [],
   "source": [
    "scores = {\n",
    "    'A X': 1+3,\n",
    "    'A Y': 2+6,\n",
    "    'A Z': 3+0,\n",
    "    'B X': 1+0,\n",
    "    'B Y': 2+3,\n",
    "    'B Z': 3+6,\n",
    "    'C X': 1+6,\n",
    "    'C Y': 2+0,\n",
    "    'C Z': 3+3,\n",
    "}"
   ]
  },
  {
   "cell_type": "code",
   "execution_count": 9,
   "id": "e2b967e1-b4cd-49d1-b8e1-a06f2e8e1883",
   "metadata": {},
   "outputs": [],
   "source": [
    "input = read(2, 1)\n",
    "input = input[:-1] # remove the last empty line"
   ]
  },
  {
   "cell_type": "code",
   "execution_count": 10,
   "id": "72355cab-1d95-42a3-b983-f826beb8129d",
   "metadata": {},
   "outputs": [
    {
     "name": "stdout",
     "output_type": "stream",
     "text": [
      "10994\n"
     ]
    }
   ],
   "source": [
    "print(sum(map(scores.get, input)))"
   ]
  },
  {
   "cell_type": "code",
   "execution_count": 11,
   "id": "9f7a5d9b-85aa-46df-ba32-45768abbdc45",
   "metadata": {},
   "outputs": [],
   "source": [
    "scores2 = {\n",
    "    'A X': 3+0,\n",
    "    'A Y': 1+3,\n",
    "    'A Z': 2+6,\n",
    "    'B X': 1+0,\n",
    "    'B Y': 2+3,\n",
    "    'B Z': 3+6,\n",
    "    'C X': 2+0,\n",
    "    'C Y': 3+3,\n",
    "    'C Z': 1+6,\n",
    "}"
   ]
  },
  {
   "cell_type": "code",
   "execution_count": 12,
   "id": "017cffba-e5ed-4a19-bc9e-dfdc8b171fcd",
   "metadata": {},
   "outputs": [
    {
     "name": "stdout",
     "output_type": "stream",
     "text": [
      "12526\n"
     ]
    }
   ],
   "source": [
    "print(sum(map(scores2.get, input)))"
   ]
  },
  {
   "cell_type": "markdown",
   "id": "9d32c835-6428-4d0a-827d-ef7eb9ec4b83",
   "metadata": {},
   "source": [
    "# Day 3"
   ]
  },
  {
   "cell_type": "code",
   "execution_count": 13,
   "id": "93ce95eb-2ce8-40ab-a884-ce7aba82b1c6",
   "metadata": {},
   "outputs": [],
   "source": [
    "import string\n",
    "\n",
    "priority = dict(enumerate(string.ascii_lowercase, 1))\n",
    "priority |= dict(enumerate(string.ascii_uppercase, 27))\n",
    "priority = {v:k for k,v in priority.items()}"
   ]
  },
  {
   "cell_type": "code",
   "execution_count": 14,
   "id": "280c8d0b-99bf-4643-8e1d-6c29d5960db5",
   "metadata": {},
   "outputs": [],
   "source": [
    "input = read(3, 1, str.strip)[:-1]"
   ]
  },
  {
   "cell_type": "code",
   "execution_count": 15,
   "id": "4a2ee712-9f44-46d9-939d-3d5d84448b53",
   "metadata": {},
   "outputs": [],
   "source": [
    "def split_half (x):\n",
    "    n = len(x)//2\n",
    "    return set(x[:n]), set(x[n:])\n",
    "\n",
    "common = [x&y for x, y in map(split_half, input)]"
   ]
  },
  {
   "cell_type": "code",
   "execution_count": 16,
   "id": "b6b496ca-34c0-48d7-9df1-9ef783a130f5",
   "metadata": {},
   "outputs": [
    {
     "data": {
      "text/plain": [
       "7848"
      ]
     },
     "execution_count": 16,
     "metadata": {},
     "output_type": "execute_result"
    }
   ],
   "source": [
    "sum(sum(map(priority.get, c)) for c in common)"
   ]
  },
  {
   "cell_type": "code",
   "execution_count": 17,
   "id": "11938256-778a-45e5-97e5-6fd75187c5e7",
   "metadata": {},
   "outputs": [
    {
     "data": {
      "text/plain": [
       "2616"
      ]
     },
     "execution_count": 17,
     "metadata": {},
     "output_type": "execute_result"
    }
   ],
   "source": [
    "groups = [input[i:i+3] for i in range(0, len(input), 3)]\n",
    "groups = [list(set(x)&set(y)&set(z))[0] for x, y, z in groups]\n",
    "sum(map(priority.get, groups))"
   ]
  },
  {
   "cell_type": "markdown",
   "id": "c094a31b-2c3b-4cbc-a642-172dc310ef40",
   "metadata": {},
   "source": [
    "# Day 4"
   ]
  },
  {
   "cell_type": "code",
   "execution_count": 18,
   "id": "bc80c87d-df45-4c80-bf71-f8a750a5a85d",
   "metadata": {},
   "outputs": [],
   "source": [
    "input = read(4, 1, parse_uint)[:-1]"
   ]
  },
  {
   "cell_type": "code",
   "execution_count": 19,
   "id": "78f503f5-ddbd-4f2a-9b33-209f62988685",
   "metadata": {},
   "outputs": [],
   "source": [
    "def overlap(args):\n",
    "    a, b, c, d = args\n",
    "    return a <= c <= d <= b or c <= a <= b <= d"
   ]
  },
  {
   "cell_type": "code",
   "execution_count": 20,
   "id": "18ba6d98-6b1d-4930-8cf8-4b95656912e9",
   "metadata": {},
   "outputs": [
    {
     "data": {
      "text/plain": [
       "582"
      ]
     },
     "execution_count": 20,
     "metadata": {},
     "output_type": "execute_result"
    }
   ],
   "source": [
    "sum(map(overlap, input))"
   ]
  },
  {
   "cell_type": "code",
   "execution_count": 21,
   "id": "64c5317a-06d1-4a45-ac53-80ed3983374b",
   "metadata": {},
   "outputs": [],
   "source": [
    "def partial(args):\n",
    "    a, b, c, d = args\n",
    "    return a <= c <= b <= d or c <= a <= d <= b or overlap(args)"
   ]
  },
  {
   "cell_type": "code",
   "execution_count": 22,
   "id": "9b3b1ab4-ead2-4ba7-b1ad-e47196fb6359",
   "metadata": {},
   "outputs": [
    {
     "data": {
      "text/plain": [
       "893"
      ]
     },
     "execution_count": 22,
     "metadata": {},
     "output_type": "execute_result"
    }
   ],
   "source": [
    "sum(map(partial, input))"
   ]
  },
  {
   "cell_type": "markdown",
   "id": "5133d8ae-62d8-477c-bf64-80a658524d66",
   "metadata": {},
   "source": [
    "# Day 5"
   ]
  },
  {
   "cell_type": "code",
   "execution_count": 23,
   "id": "63f06a1c-9130-4e78-a8a8-f9f5c288f69f",
   "metadata": {},
   "outputs": [],
   "source": [
    "input = read(5, 1, lambda x: f' {x}')[:-1]"
   ]
  },
  {
   "cell_type": "code",
   "execution_count": 29,
   "id": "408f357d-9011-4ec1-a162-f054e8653158",
   "metadata": {},
   "outputs": [],
   "source": [
    "crates = [[] for _ in range(10)]\n",
    "for i in range(8):\n",
    "    for j, elem in enumerate(partition(input[i], 4), 1):\n",
    "        if elem.strip():\n",
    "            crates[j].append(elem[2])\n",
    "\n",
    "crates_orig = [crate[::-1] for crate in crates]"
   ]
  },
  {
   "cell_type": "code",
   "execution_count": 30,
   "id": "9ae98760-ee86-4be6-98dc-0326021902d6",
   "metadata": {},
   "outputs": [],
   "source": [
    "crates = [crate.copy() for crate in crates_orig]\n",
    "for line in input[10:]:\n",
    "    a, b, c = parse_int(line)\n",
    "    for j in range(a):\n",
    "        crates[c].append(crates[b].pop())"
   ]
  },
  {
   "cell_type": "code",
   "execution_count": 31,
   "id": "cb24d1d2-b6e4-407c-8423-be460b012c58",
   "metadata": {},
   "outputs": [
    {
     "data": {
      "text/plain": [
       "'CWMTGHBDW'"
      ]
     },
     "execution_count": 31,
     "metadata": {},
     "output_type": "execute_result"
    }
   ],
   "source": [
    "''.join(crate[-1] for crate in crates[1:])"
   ]
  },
  {
   "cell_type": "code",
   "execution_count": 32,
   "id": "900db123-0547-41af-86e9-0c2b7a92ab74",
   "metadata": {},
   "outputs": [],
   "source": [
    "crates = [crate.copy() for crate in crates_orig]\n",
    "for line in input[10:]:\n",
    "    a, b, c = parse_int(line)\n",
    "    crates[c].extend(crates[b][-a:])\n",
    "    crates[b] = crates[b][:-a]"
   ]
  },
  {
   "cell_type": "code",
   "execution_count": 33,
   "id": "f692d671-5782-4f9d-a14b-5def1b640fff",
   "metadata": {},
   "outputs": [
    {
     "data": {
      "text/plain": [
       "'SSCGWJCRB'"
      ]
     },
     "execution_count": 33,
     "metadata": {},
     "output_type": "execute_result"
    }
   ],
   "source": [
    "''.join(crate[-1] for crate in crates[1:])"
   ]
  },
  {
   "cell_type": "markdown",
   "id": "999fddf4-1a71-4dc6-9d64-7dbb33e57456",
   "metadata": {},
   "source": [
    "## Day 6"
   ]
  },
  {
   "cell_type": "code",
   "execution_count": null,
   "id": "f5bb00d1-a36c-4df9-8319-0e834c6a916d",
   "metadata": {},
   "outputs": [],
   "source": [
    "input = read(6, 1)[:-1]"
   ]
  }
 ],
 "metadata": {
  "kernelspec": {
   "display_name": "Python 3",
   "language": "python",
   "name": "python3"
  },
  "language_info": {
   "codemirror_mode": {
    "name": "ipython",
    "version": 3
   },
   "file_extension": ".py",
   "mimetype": "text/x-python",
   "name": "python",
   "nbconvert_exporter": "python",
   "pygments_lexer": "ipython3",
   "version": "3.10.8"
  }
 },
 "nbformat": 4,
 "nbformat_minor": 5
}
