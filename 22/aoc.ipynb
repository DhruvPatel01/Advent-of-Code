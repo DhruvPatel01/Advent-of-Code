{
 "cells": [
  {
   "cell_type": "code",
   "execution_count": null,
   "id": "76ec7ec6-b47c-4a50-83e0-7a43b8017dfc",
   "metadata": {
    "lines_to_next_cell": 2
   },
   "outputs": [],
   "source": [
    "%load_ext autoreload\n",
    "%autoreload 2"
   ]
  },
  {
   "cell_type": "code",
   "execution_count": 2,
   "id": "379e77e4-c2fe-40a1-aea9-750affc17562",
   "metadata": {},
   "outputs": [
    {
     "name": "stderr",
     "output_type": "stream",
     "text": [
      "/home/dhruv/Projects/aoc/22/helper.py:4: TqdmExperimentalWarning: Using `tqdm.autonotebook.tqdm` in notebook mode. Use `tqdm.tqdm` instead to force console mode (e.g. in jupyter console)\n",
      "  from tqdm.autonotebook import tqdm\n"
     ]
    }
   ],
   "source": [
    "from helper import *"
   ]
  },
  {
   "cell_type": "markdown",
   "id": "61ffc201-a1ab-442c-893d-e7c41f792aa5",
   "metadata": {
    "tags": []
   },
   "source": [
    "# Day 1"
   ]
  },
  {
   "cell_type": "code",
   "execution_count": 191,
   "id": "cd70a902-8957-4f49-b14e-1ccd34e6bf71",
   "metadata": {},
   "outputs": [],
   "source": [
    "input = partition_into(read(1), lambda x: not x, postprocess=int)\n",
    "calories = [sum(l) for  l in input]\n",
    "calories.sort()\n",
    "assert calories[-1] == 66487\n",
    "assert sum(calories[-3:]) == 197301"
   ]
  },
  {
   "cell_type": "markdown",
   "id": "0108693e-3d34-4db1-b531-7b0df2efb7f7",
   "metadata": {
    "tags": []
   },
   "source": [
    "# Day 2"
   ]
  },
  {
   "cell_type": "code",
   "execution_count": 192,
   "id": "fd8837b1-a104-49ae-a24d-c99db1d5bdf3",
   "metadata": {},
   "outputs": [],
   "source": [
    "scores = {\n",
    "    'A X': 1+3,\n",
    "    'A Y': 2+6,\n",
    "    'A Z': 3+0,\n",
    "    'B X': 1+0,\n",
    "    'B Y': 2+3,\n",
    "    'B Z': 3+6,\n",
    "    'C X': 1+6,\n",
    "    'C Y': 2+0,\n",
    "    'C Z': 3+3,\n",
    "}"
   ]
  },
  {
   "cell_type": "code",
   "execution_count": 193,
   "id": "e2b967e1-b4cd-49d1-b8e1-a06f2e8e1883",
   "metadata": {},
   "outputs": [],
   "source": [
    "input = read(2)"
   ]
  },
  {
   "cell_type": "code",
   "execution_count": 194,
   "id": "72355cab-1d95-42a3-b983-f826beb8129d",
   "metadata": {},
   "outputs": [],
   "source": [
    "assert sum(map(scores.get, input)) == 10994"
   ]
  },
  {
   "cell_type": "code",
   "execution_count": 195,
   "id": "9f7a5d9b-85aa-46df-ba32-45768abbdc45",
   "metadata": {},
   "outputs": [],
   "source": [
    "scores2 = {\n",
    "    'A X': 3+0,\n",
    "    'A Y': 1+3,\n",
    "    'A Z': 2+6,\n",
    "    'B X': 1+0,\n",
    "    'B Y': 2+3,\n",
    "    'B Z': 3+6,\n",
    "    'C X': 2+0,\n",
    "    'C Y': 3+3,\n",
    "    'C Z': 1+6,\n",
    "}"
   ]
  },
  {
   "cell_type": "code",
   "execution_count": 196,
   "id": "017cffba-e5ed-4a19-bc9e-dfdc8b171fcd",
   "metadata": {},
   "outputs": [],
   "source": [
    "assert sum(map(scores2.get, input)) == 12526"
   ]
  },
  {
   "cell_type": "markdown",
   "id": "9d32c835-6428-4d0a-827d-ef7eb9ec4b83",
   "metadata": {},
   "source": [
    "# Day 3"
   ]
  },
  {
   "cell_type": "code",
   "execution_count": 197,
   "id": "93ce95eb-2ce8-40ab-a884-ce7aba82b1c6",
   "metadata": {},
   "outputs": [],
   "source": [
    "import string\n",
    "\n",
    "priority = dict(enumerate(string.ascii_lowercase, 1))\n",
    "priority |= dict(enumerate(string.ascii_uppercase, 27))\n",
    "priority = {v:k for k,v in priority.items()}"
   ]
  },
  {
   "cell_type": "code",
   "execution_count": 198,
   "id": "280c8d0b-99bf-4643-8e1d-6c29d5960db5",
   "metadata": {},
   "outputs": [],
   "source": [
    "input = read(3, str.strip)"
   ]
  },
  {
   "cell_type": "code",
   "execution_count": 199,
   "id": "4a2ee712-9f44-46d9-939d-3d5d84448b53",
   "metadata": {},
   "outputs": [],
   "source": [
    "def split_half (x):\n",
    "    n = len(x)//2\n",
    "    return set(x[:n]), set(x[n:])\n",
    "\n",
    "common = [x&y for x, y in map(split_half, input)]"
   ]
  },
  {
   "cell_type": "code",
   "execution_count": 200,
   "id": "b6b496ca-34c0-48d7-9df1-9ef783a130f5",
   "metadata": {},
   "outputs": [],
   "source": [
    "asset = sum(sum(map(priority.get, c)) for c in common) == 7848"
   ]
  },
  {
   "cell_type": "code",
   "execution_count": 201,
   "id": "11938256-778a-45e5-97e5-6fd75187c5e7",
   "metadata": {},
   "outputs": [],
   "source": [
    "groups = [input[i:i+3] for i in range(0, len(input), 3)]\n",
    "groups = [list(set(x)&set(y)&set(z))[0] for x, y, z in groups]\n",
    "assert sum(map(priority.get, groups)) == 2616"
   ]
  },
  {
   "cell_type": "markdown",
   "id": "c094a31b-2c3b-4cbc-a642-172dc310ef40",
   "metadata": {},
   "source": [
    "# Day 4"
   ]
  },
  {
   "cell_type": "code",
   "execution_count": 202,
   "id": "bc80c87d-df45-4c80-bf71-f8a750a5a85d",
   "metadata": {},
   "outputs": [],
   "source": [
    "input = read(4, parse_uint)"
   ]
  },
  {
   "cell_type": "code",
   "execution_count": 203,
   "id": "78f503f5-ddbd-4f2a-9b33-209f62988685",
   "metadata": {},
   "outputs": [],
   "source": [
    "def overlap(args):\n",
    "    a, b, c, d = args\n",
    "    return a <= c <= d <= b or c <= a <= b <= d"
   ]
  },
  {
   "cell_type": "code",
   "execution_count": 204,
   "id": "18ba6d98-6b1d-4930-8cf8-4b95656912e9",
   "metadata": {},
   "outputs": [],
   "source": [
    "assert sum(map(overlap, input)) == 582"
   ]
  },
  {
   "cell_type": "code",
   "execution_count": 205,
   "id": "64c5317a-06d1-4a45-ac53-80ed3983374b",
   "metadata": {},
   "outputs": [],
   "source": [
    "def partial(args):\n",
    "    a, b, c, d = args\n",
    "    return a <= c <= b <= d or c <= a <= d <= b or overlap(args)"
   ]
  },
  {
   "cell_type": "code",
   "execution_count": 206,
   "id": "9b3b1ab4-ead2-4ba7-b1ad-e47196fb6359",
   "metadata": {},
   "outputs": [],
   "source": [
    "assert sum(map(partial, input)) == 893"
   ]
  },
  {
   "cell_type": "markdown",
   "id": "5133d8ae-62d8-477c-bf64-80a658524d66",
   "metadata": {},
   "source": [
    "# Day 5"
   ]
  },
  {
   "cell_type": "code",
   "execution_count": 207,
   "id": "63f06a1c-9130-4e78-a8a8-f9f5c288f69f",
   "metadata": {},
   "outputs": [],
   "source": [
    "input = read(5, lambda x: f' {x}')"
   ]
  },
  {
   "cell_type": "code",
   "execution_count": 208,
   "id": "408f357d-9011-4ec1-a162-f054e8653158",
   "metadata": {},
   "outputs": [],
   "source": [
    "crates = [[] for _ in range(10)]\n",
    "for i in range(8):\n",
    "    for j, elem in enumerate(partition(input[i], 4), 1):\n",
    "        if elem.strip():\n",
    "            crates[j].append(elem[2])\n",
    "\n",
    "crates_orig = [crate[::-1] for crate in crates]"
   ]
  },
  {
   "cell_type": "code",
   "execution_count": 209,
   "id": "9ae98760-ee86-4be6-98dc-0326021902d6",
   "metadata": {},
   "outputs": [],
   "source": [
    "crates = [crate.copy() for crate in crates_orig]\n",
    "for line in input[10:]:\n",
    "    a, b, c = parse_int(line)\n",
    "    for j in range(a):\n",
    "        crates[c].append(crates[b].pop())"
   ]
  },
  {
   "cell_type": "code",
   "execution_count": 210,
   "id": "cb24d1d2-b6e4-407c-8423-be460b012c58",
   "metadata": {},
   "outputs": [],
   "source": [
    "assert ''.join(crate[-1] for crate in crates[1:]) == 'CWMTGHBDW'"
   ]
  },
  {
   "cell_type": "code",
   "execution_count": 211,
   "id": "900db123-0547-41af-86e9-0c2b7a92ab74",
   "metadata": {},
   "outputs": [],
   "source": [
    "crates = [crate.copy() for crate in crates_orig]\n",
    "for line in input[10:]:\n",
    "    a, b, c = parse_int(line)\n",
    "    crates[c].extend(crates[b][-a:])\n",
    "    crates[b] = crates[b][:-a]"
   ]
  },
  {
   "cell_type": "code",
   "execution_count": 212,
   "id": "f692d671-5782-4f9d-a14b-5def1b640fff",
   "metadata": {},
   "outputs": [],
   "source": [
    "assert ''.join(crate[-1] for crate in crates[1:]) == 'SSCGWJCRB'"
   ]
  },
  {
   "cell_type": "markdown",
   "id": "999fddf4-1a71-4dc6-9d64-7dbb33e57456",
   "metadata": {},
   "source": [
    "## Day 6"
   ]
  },
  {
   "cell_type": "code",
   "execution_count": 213,
   "id": "f5bb00d1-a36c-4df9-8319-0e834c6a916d",
   "metadata": {},
   "outputs": [],
   "source": [
    "input = read(6)[0]"
   ]
  },
  {
   "cell_type": "code",
   "execution_count": 214,
   "id": "f83b8c60-93e1-49f2-aebd-71c8164f7c03",
   "metadata": {},
   "outputs": [],
   "source": [
    "def solve_6(input, L):\n",
    "    for i, window in enumerate(windows(input, L)):\n",
    "        if len(set(window)) == L:\n",
    "            return i+L"
   ]
  },
  {
   "cell_type": "code",
   "execution_count": 215,
   "id": "c8116c0e-f314-4965-a8df-f3a9912bea4c",
   "metadata": {},
   "outputs": [],
   "source": [
    "assert solve_6(input, 4) == 1480\n",
    "assert solve_6(input, 14) == 2746"
   ]
  },
  {
   "cell_type": "markdown",
   "id": "4a2a9de2-bdf3-4706-b0d6-727ca3706552",
   "metadata": {},
   "source": [
    "# Day 7"
   ]
  },
  {
   "cell_type": "code",
   "execution_count": 216,
   "id": "e7862c13-fbf6-4899-bff8-30f3e0d37c66",
   "metadata": {},
   "outputs": [],
   "source": [
    "# Note: This is not the first version of the code I wrote.\n",
    "# The first version was messy, and is located inside `original.py`.\n",
    "# It simulated the whole filesystem as a tree, and did a depth-first-search."
   ]
  },
  {
   "cell_type": "code",
   "execution_count": 217,
   "id": "67326339-96c7-499f-bcc4-a2491cbfd504",
   "metadata": {},
   "outputs": [],
   "source": [
    "input = read(7, split='$')[1:]"
   ]
  },
  {
   "cell_type": "code",
   "execution_count": 218,
   "id": "4e081625-5f39-42a7-80c8-142cb8a7d1d9",
   "metadata": {
    "lines_to_next_cell": 2
   },
   "outputs": [],
   "source": [
    "cwd = []\n",
    "dirs = Counter()\n",
    "for command in input:\n",
    "    command, *output = command.strip().split()\n",
    "    match command:\n",
    "        case 'cd':\n",
    "            match output[0]:\n",
    "                case '/': \n",
    "                    cwd = ['/']\n",
    "                case '..': \n",
    "                    if cwd: cwd.pop()\n",
    "                case d:\n",
    "                    cwd.append(d)\n",
    "        case 'ls':\n",
    "            if '/'.join(cwd) not in dirs:\n",
    "                s = sum(int(a) for a, b in partition(output, 2) if a != 'dir')\n",
    "                for i in range(len(cwd)):\n",
    "                    dirs['/'.join(cwd[:i+1])] += s"
   ]
  },
  {
   "cell_type": "code",
   "execution_count": 219,
   "id": "4f920e49-128d-475a-a42f-1e02f734f7b5",
   "metadata": {},
   "outputs": [],
   "source": [
    "assert sum(v for v in dirs.values() if v <= 100000) == 1306611"
   ]
  },
  {
   "cell_type": "code",
   "execution_count": 220,
   "id": "6066d8e9-de66-4967-b076-876fde224a25",
   "metadata": {},
   "outputs": [],
   "source": [
    "need = 30000000 - (70000000-dirs['/'])\n",
    "assert min(v for v in dirs.values() if v >= need) == 13210366"
   ]
  },
  {
   "cell_type": "markdown",
   "id": "05cda7d4-2d67-44d0-8399-81e2890e494d",
   "metadata": {},
   "source": [
    "# Day 8"
   ]
  },
  {
   "cell_type": "code",
   "execution_count": 221,
   "id": "1013e395-4277-44ed-8af9-1ebd961b8f12",
   "metadata": {},
   "outputs": [],
   "source": [
    "import numpy as np"
   ]
  },
  {
   "cell_type": "code",
   "execution_count": 222,
   "id": "ed31a9ba-46e2-4a7d-a25e-84ce6b2853d3",
   "metadata": {
    "lines_to_next_cell": 2
   },
   "outputs": [],
   "source": [
    "input = read(8)\n",
    "# input = '''30373\n",
    "# 25512\n",
    "# 65332\n",
    "# 33549\n",
    "# 35390'''.split()"
   ]
  },
  {
   "cell_type": "code",
   "execution_count": 223,
   "id": "d1cc06bc-9d32-4303-9ce4-197d63ee6bd1",
   "metadata": {},
   "outputs": [],
   "source": [
    "input = [mapt(int, line) for line in input]"
   ]
  },
  {
   "cell_type": "code",
   "execution_count": 224,
   "id": "d43355df-7b6f-4182-a4ba-937701222cde",
   "metadata": {},
   "outputs": [],
   "source": [
    "grid = np.array(input)\n",
    "h, w = grid.shape"
   ]
  },
  {
   "cell_type": "code",
   "execution_count": 225,
   "id": "2ec80d55-663e-402c-976e-df34ade936ee",
   "metadata": {},
   "outputs": [],
   "source": [
    "td = np.maximum.accumulate(grid, axis=0)\n",
    "lr = np.maximum.accumulate(grid, axis=1)\n",
    "dt = np.maximum.accumulate(grid[::-1, :], axis=0)[::-1, :]\n",
    "rl = np.maximum.accumulate(grid[:, ::-1], axis=1)[:, ::-1]"
   ]
  },
  {
   "cell_type": "code",
   "execution_count": 226,
   "id": "fc6d562a-457b-4892-a077-f921df5b84bf",
   "metadata": {},
   "outputs": [],
   "source": [
    "td = td[0:-2, 1:-1]\n",
    "lr = lr[1:-1, 0:-2]\n",
    "dt = dt[2:, 1:-1]\n",
    "rl = rl[1:-1, 2:]"
   ]
  },
  {
   "cell_type": "code",
   "execution_count": 227,
   "id": "090f159e-3d4b-4727-a145-af07b1b79a8f",
   "metadata": {},
   "outputs": [],
   "source": [
    "grid = grid[1:-1, 1:-1]"
   ]
  },
  {
   "cell_type": "code",
   "execution_count": 228,
   "id": "7a5ccd15-658d-400f-b1fd-6fe53997e995",
   "metadata": {},
   "outputs": [],
   "source": [
    "flag = grid > td\n",
    "flag |= grid > dt\n",
    "flag |= grid > lr\n",
    "flag |= grid > rl"
   ]
  },
  {
   "cell_type": "code",
   "execution_count": 229,
   "id": "ac393733-5744-46a9-9688-2116d0867d46",
   "metadata": {},
   "outputs": [
    {
     "data": {
      "text/plain": [
       "1690"
      ]
     },
     "execution_count": 229,
     "metadata": {},
     "output_type": "execute_result"
    }
   ],
   "source": [
    "flag.sum() + h*2 + (w-2)*2"
   ]
  },
  {
   "cell_type": "code",
   "execution_count": 230,
   "id": "30ed7198-9ea0-44f0-bbc2-e2f0fad680ed",
   "metadata": {},
   "outputs": [],
   "source": [
    "grid = np.array(input)\n",
    "h, w = grid.shape"
   ]
  },
  {
   "cell_type": "code",
   "execution_count": 231,
   "id": "0aa7f8e6-64db-499b-af5f-dc997ccf70d2",
   "metadata": {},
   "outputs": [],
   "source": [
    "mx = 0\n",
    "for i in range(h):\n",
    "    for j in range(w):\n",
    "        col = (grid[:, j] - grid[i, j]) >= 0\n",
    "        \n",
    "        try:\n",
    "            t = col[:i][::-1].tolist().index(True)+1\n",
    "        except: \n",
    "            t = i\n",
    "            \n",
    "        try:\n",
    "            b = col[i+1:].tolist().index(True)+1\n",
    "        except:\n",
    "            b = h-i-1\n",
    "        \n",
    "        \n",
    "        row = (grid[i, :] - grid[i, j]) >= 0\n",
    "        try:\n",
    "            l = row[:j][::-1].tolist().index(True)+1\n",
    "        except:\n",
    "            l = j\n",
    "            \n",
    "        try:\n",
    "            r = row[j+1:].tolist().index(True)+1\n",
    "        except:\n",
    "            r = w-j-1\n",
    "        \n",
    "        mx = max(mx, t*b*l*r)"
   ]
  },
  {
   "cell_type": "code",
   "execution_count": 232,
   "id": "6fb7fa5c-1898-49f4-bedd-34196154480f",
   "metadata": {},
   "outputs": [
    {
     "data": {
      "text/plain": [
       "535680"
      ]
     },
     "execution_count": 232,
     "metadata": {},
     "output_type": "execute_result"
    }
   ],
   "source": [
    "mx"
   ]
  },
  {
   "cell_type": "code",
   "execution_count": 233,
   "id": "96c6d74b-8b7f-4199-9f22-a3bec4ff2bd8",
   "metadata": {},
   "outputs": [
    {
     "data": {
      "text/plain": [
       "99"
      ]
     },
     "execution_count": 233,
     "metadata": {},
     "output_type": "execute_result"
    }
   ],
   "source": [
    "w"
   ]
  },
  {
   "cell_type": "markdown",
   "id": "8a937cc6-a197-455a-9451-c62af3c9ecd3",
   "metadata": {},
   "source": [
    "# Day 9"
   ]
  },
  {
   "cell_type": "code",
   "execution_count": 234,
   "id": "7691d94a-3975-487a-8d2e-983fd8795ed3",
   "metadata": {},
   "outputs": [],
   "source": [
    "input = '''R 4\n",
    "U 4\n",
    "L 3\n",
    "D 1\n",
    "R 4\n",
    "D 1\n",
    "L 5\n",
    "R 2'''.split()\n",
    "\n",
    "input = '''R 5\n",
    "U 8\n",
    "L 8\n",
    "D 3\n",
    "R 17\n",
    "D 10\n",
    "L 25\n",
    "U 20'''.split()"
   ]
  },
  {
   "cell_type": "code",
   "execution_count": 235,
   "id": "bfebde96-6c71-4d7a-acb8-7709b4df39bc",
   "metadata": {},
   "outputs": [],
   "source": [
    "input = read(9, split=None)"
   ]
  },
  {
   "cell_type": "code",
   "execution_count": 236,
   "id": "d2361310-1177-4b46-9113-f4c4db9b11b1",
   "metadata": {},
   "outputs": [],
   "source": [
    "hr = hc = tr = tc = 0\n",
    "\n",
    "visited = {(0, 0)}\n",
    "for command in partition(input, 2):\n",
    "    match command:\n",
    "        case ('U', x):\n",
    "            for _ in range(int(x)):\n",
    "                hr += 1\n",
    "                if tr < hr-1:\n",
    "                    tc = hc\n",
    "                    tr = hr-1\n",
    "                    visited.add((tr, tc))\n",
    "                # print(command, tr, tc)\n",
    "        case ('D', x):\n",
    "            for _ in range(int(x)):\n",
    "                hr -= 1\n",
    "                if tr > hr+1:\n",
    "                    tc = hc\n",
    "                    tr = hr+1\n",
    "                    visited.add((tr, tc))\n",
    "                # print(command, tr, tc)\n",
    "        case ('L', x):\n",
    "            for _ in range(int(x)):\n",
    "                hc -= 1\n",
    "                if tc > hc+1:\n",
    "                    tr = hr\n",
    "                    tc = hc+1\n",
    "                    visited.add((tr, tc))\n",
    "                # print(command, tr, tc)\n",
    "        case ('R', x):\n",
    "            for _ in range(int(x)):\n",
    "                hc += 1\n",
    "                if tc < hc-1:\n",
    "                    tr = hr\n",
    "                    tc = hc-1\n",
    "                    visited.add((tr, tc))\n",
    "                # print(command, tr, tc)\n"
   ]
  },
  {
   "cell_type": "code",
   "execution_count": 237,
   "id": "23db0174-fdf7-4cc7-afc8-f421a5c1d70b",
   "metadata": {},
   "outputs": [],
   "source": [
    "def vis_grid(pos):\n",
    "    min_r = min(p[0] for p in pos)\n",
    "    min_c = min(p[1] for p in pos)\n",
    "    \n",
    "    width = 50\n",
    "    height = 50\n",
    "    \n",
    "    grid = [['.' for _ in range(width)] \n",
    "            for _ in range(height)]\n",
    "    for i, (r, c) in enumerate(pos[::-1]):\n",
    "        grid[min_r+r][min_c+c] = chr(ord('9') - i)\n",
    "    \n",
    "    return '\\n'.join(''.join(line) for line in grid[::-1])"
   ]
  },
  {
   "cell_type": "code",
   "execution_count": 238,
   "id": "5a4be52d-f471-4a97-b2aa-a77e28b0ec69",
   "metadata": {
    "scrolled": true,
    "tags": []
   },
   "outputs": [],
   "source": [
    "# pos = [[0,0] for i in range(10)]\n",
    "\n",
    "# visited = {(0, 0)}\n",
    "# for (command, repeat) in partition(input, 2):\n",
    "#     print('X'*40)\n",
    "#     print(vis_grid(pos))\n",
    "#     # print(pos)\n",
    "#     for i in range(int(repeat)):\n",
    "#         hr, hc = pos[0]\n",
    "#         for j in range(1, 10):\n",
    "#             tr, tc = pos[j]\n",
    "#             moved = False\n",
    "#             match command:\n",
    "#                 case 'U':\n",
    "#                     hr += 1\n",
    "#                     if tr < hr-1:\n",
    "#                         tc = hc\n",
    "#                         tr = hr-1\n",
    "#                         moved = True\n",
    "#                 case 'D':\n",
    "#                     hr -= 1\n",
    "#                     if tr > hr+1:\n",
    "#                         tc = hc\n",
    "#                         tr = hr+1\n",
    "#                         moved = True\n",
    "#                 case 'L':\n",
    "#                     hc -= 1\n",
    "#                     if tc > hc+1:\n",
    "#                         tr = hr\n",
    "#                         tc = hc+1\n",
    "#                         moved = True\n",
    "#                 case 'R':\n",
    "#                     hc += 1\n",
    "#                     if tc < hc-1:\n",
    "#                         tr = hr\n",
    "#                         tc = hc-1\n",
    "#                         moved = True\n",
    "#             pos[j-1] = hr, hc\n",
    "#             hr, hc = tr, tc\n",
    "#             if not moved: break\n",
    "#         visited.add((tr, tc))\n",
    "#         pos[9] = (tr, tc)"
   ]
  },
  {
   "cell_type": "code",
   "execution_count": 239,
   "id": "8c20e9a7-21d2-4b72-84bd-4a247cce27ba",
   "metadata": {},
   "outputs": [],
   "source": [
    "\n",
    "# min_r = min(p[0] for p in pos)\n",
    "# min_c = min(p[1] for p in pos)\n",
    "# width = 30\n",
    "# height = 30\n",
    "\n",
    "# grid = [['.' for _ in range(width)] \n",
    "#         for _ in range(height)]\n",
    "# for i, (r, c) in enumerate(pos[::-1]):\n",
    "#     grid[min_r+r][min_c+c] = chr(ord('9') - i)"
   ]
  },
  {
   "cell_type": "code",
   "execution_count": 240,
   "id": "87a0ce78-2d87-41c3-ae53-a816b0588567",
   "metadata": {
    "scrolled": true,
    "tags": []
   },
   "outputs": [],
   "source": [
    "# print(vis_grid(pos))"
   ]
  },
  {
   "cell_type": "markdown",
   "id": "9ccac0df-6ec0-4384-b6a7-e32935aa297d",
   "metadata": {},
   "source": [
    "# Day 10"
   ]
  },
  {
   "cell_type": "code",
   "execution_count": 241,
   "id": "d9337fa2-61e5-42a7-86ee-c3c73d1e4962",
   "metadata": {},
   "outputs": [],
   "source": [
    "input = read(10, split='\\n')"
   ]
  },
  {
   "cell_type": "code",
   "execution_count": 242,
   "id": "4d8ef4eb-df88-4a8d-85c8-e873da8624c8",
   "metadata": {
    "lines_to_next_cell": 2
   },
   "outputs": [],
   "source": [
    "Xs = [1]\n",
    "for inst in input:\n",
    "    Xs.append(Xs[-1])\n",
    "    if inst != 'noop': Xs.append(Xs[-1]+int(inst.split()[-1]))"
   ]
  },
  {
   "cell_type": "code",
   "execution_count": 243,
   "id": "aaa298e5-62f8-4da4-bfd0-a21869a693f4",
   "metadata": {},
   "outputs": [
    {
     "data": {
      "text/plain": [
       "11220"
      ]
     },
     "execution_count": 243,
     "metadata": {},
     "output_type": "execute_result"
    }
   ],
   "source": [
    "sum(i*v for i, v in enumerate(Xs, 1) if (i - 20)%40 == 0)"
   ]
  },
  {
   "cell_type": "code",
   "execution_count": 244,
   "id": "b6f5acd0-d45e-44ce-a3a0-76aa2be30089",
   "metadata": {},
   "outputs": [],
   "source": [
    "C = 0\n",
    "X = 1\n",
    "output = []\n",
    "row = []\n",
    "\n",
    "def draw():\n",
    "    global row        \n",
    "    c = C%40 \n",
    "    row.append('█'  if X-1 <= c <= X+1 else ' ')\n",
    "    if len(row) == 40:\n",
    "        output.append(row)\n",
    "        row = []\n",
    "   \n",
    "for inst in input:\n",
    "    draw()\n",
    "    if inst == 'noop':\n",
    "        C += 1\n",
    "    else:\n",
    "        C += 1\n",
    "        draw()\n",
    "        C += 1\n",
    "        X += int(inst.split()[1])"
   ]
  },
  {
   "cell_type": "code",
   "execution_count": 245,
   "id": "17f58985-46f7-4b07-a3bb-4020e9ad8c7b",
   "metadata": {},
   "outputs": [
    {
     "name": "stdout",
     "output_type": "stream",
     "text": [
      "███  ████ ███   ██    ██ ████ █    █  █ \n",
      "█  █    █ █  █ █  █    █ █    █    █ █  \n",
      "███    █  █  █ █  █    █ ███  █    ██   \n",
      "█  █  █   ███  ████    █ █    █    █ █  \n",
      "█  █ █    █    █  █ █  █ █    █    █ █  \n",
      "███  ████ █    █  █  ██  ████ ████ █  █ \n"
     ]
    }
   ],
   "source": [
    "print('\\n'.join(''.join(line) for line in output))"
   ]
  },
  {
   "cell_type": "markdown",
   "id": "371173bd-7774-4dd9-9ca2-60dfc3bb2f8e",
   "metadata": {},
   "source": [
    "# Day 11"
   ]
  },
  {
   "cell_type": "code",
   "execution_count": 246,
   "id": "8bf870f5-2859-49ff-b906-f25ec1a8e81e",
   "metadata": {},
   "outputs": [],
   "source": [
    "def parse_monkey(s):\n",
    "    s = s.split('\\n')\n",
    "    items = list(parse_uint(s[1]))\n",
    "    op = s[2].split('=')[1]\n",
    "    test = parse_uint(s[3])[0]\n",
    "    true = parse_uint(s[4])[0]\n",
    "    false = parse_uint(s[5])[0]\n",
    "    \n",
    "    return (items, op, test, true, false)"
   ]
  },
  {
   "cell_type": "code",
   "execution_count": 247,
   "id": "289ac870-5924-43c7-b257-e1f97a828f6b",
   "metadata": {},
   "outputs": [],
   "source": [
    "def round(inspects):\n",
    "    for i, d in enumerate(data):\n",
    "        inspects[i] += len(d[0])\n",
    "        for old in d[0]:\n",
    "            new = eval(d[1])\n",
    "            new //= 3\n",
    "            if new % d[2] == 0:\n",
    "                data[d[3]][0].append(new)\n",
    "            else:\n",
    "                data[d[4]][0].append(new)\n",
    "        d[0].clear()"
   ]
  },
  {
   "cell_type": "code",
   "execution_count": 248,
   "id": "91862fc2-f6b7-4d40-9e08-2c8364b682e2",
   "metadata": {},
   "outputs": [],
   "source": [
    "input = read(11, split='\\n\\n')"
   ]
  },
  {
   "cell_type": "code",
   "execution_count": 249,
   "id": "da80326b-d748-4b4a-914a-47d9aa47b70a",
   "metadata": {},
   "outputs": [],
   "source": [
    "data = [parse_monkey(s) for s in input]\n",
    "inspects = [0]*len(data)\n",
    "for r in range(20):\n",
    "    round(inspects)\n",
    "\n",
    "assert prod(sorted(inspects)[-2:]) == 120056"
   ]
  },
  {
   "cell_type": "code",
   "execution_count": 250,
   "id": "6a7e260b-9ee5-47f1-a5ca-545e5eb2bcec",
   "metadata": {
    "tags": []
   },
   "outputs": [],
   "source": [
    "def round2(inspects):\n",
    "    for i, d in enumerate(data):\n",
    "        inspects[i] += len(d[0])\n",
    "        for old in d[0]:\n",
    "            new = eval(d[1])\n",
    "            if new % d[2] == 0:\n",
    "                data[d[3]][0].append(new % div)\n",
    "            else:\n",
    "                data[d[4]][0].append(new % div)\n",
    "        d[0].clear()"
   ]
  },
  {
   "cell_type": "code",
   "execution_count": 251,
   "id": "7b71ef0b-c339-4b8a-8256-554f692c1f07",
   "metadata": {},
   "outputs": [
    {
     "data": {
      "application/vnd.jupyter.widget-view+json": {
       "model_id": "41512c5c43ae455a88c4f413083d368d",
       "version_major": 2,
       "version_minor": 0
      },
      "text/plain": [
       "  0%|          | 0/10000 [00:00<?, ?it/s]"
      ]
     },
     "metadata": {},
     "output_type": "display_data"
    }
   ],
   "source": [
    "data = [parse_monkey(s) for s in input]\n",
    "div = prod(d[2] for d in data)\n",
    "inspects = [0]*len(data)\n",
    "for r in tqdm(range(10000)):\n",
    "    round2(inspects)\n",
    "\n",
    "assert prod(sorted(inspects)[-2:]) == 21816744824\n"
   ]
  },
  {
   "cell_type": "markdown",
   "id": "e4e001d8-4b44-4b03-b744-d872a9b6563a",
   "metadata": {},
   "source": [
    "## Day 12"
   ]
  },
  {
   "cell_type": "code",
   "execution_count": 252,
   "id": "ed9fd92c-f906-4eeb-921a-5675e51a7305",
   "metadata": {},
   "outputs": [],
   "source": [
    "input = read(12)\n",
    "\n",
    "grid = [[ord('z')+2]*(len(input[0])+2)]\n",
    "for i, line in enumerate(input, 1):\n",
    "    row = [ord('z')+2]\n",
    "    row.extend(map(ord, line))\n",
    "    row.append(ord('z')+2)\n",
    "    if 'S' in line:\n",
    "        start = (i, line.index('S')+1)\n",
    "        row[start[1]] = ord('a')\n",
    "    if 'E' in line:\n",
    "        stop = (i, line.index('E')+1)\n",
    "        row[stop[1]] = ord('z')\n",
    "    grid.append(row)\n",
    "grid.append(grid[0])\n",
    "\n",
    "h, w = len(grid), len(grid[0])\n",
    "\n",
    "def neighbors(i, j):\n",
    "    if grid[i][j]+1 >= grid[i-1][j]: yield i-1, j\n",
    "    if grid[i][j]+1 >= grid[i][j+1]: yield i, j+1\n",
    "    if grid[i][j]+1 >= grid[i+1][j]: yield i+1, j\n",
    "    if grid[i][j]+1 >= grid[i][j-1]: yield i, j-1\n",
    "        \n",
    "def bfs(start):\n",
    "    steps = {k: 0 for k in start}\n",
    "    heap = deque(start)\n",
    "    \n",
    "    while heap:\n",
    "        pos = heap.popleft()\n",
    "        if pos == stop:  return steps[pos]\n",
    "        \n",
    "        d = steps[pos]\n",
    "        for n in neighbors(*pos):\n",
    "            if n not in steps:\n",
    "                steps[n] = d + 1\n",
    "                heap.append(n)\n",
    "\n",
    "\n"
   ]
  },
  {
   "cell_type": "code",
   "execution_count": 253,
   "id": "aac47223-2689-4fa9-a8a3-2c6186e1effc",
   "metadata": {},
   "outputs": [],
   "source": [
    "assert bfs([start])  == 437"
   ]
  },
  {
   "cell_type": "code",
   "execution_count": 254,
   "id": "0907e16b-dc20-4139-ac43-5c63a5c4c4dc",
   "metadata": {
    "lines_to_next_cell": 2
   },
   "outputs": [],
   "source": [
    "starts = [(i, j) for i, row in enumerate(grid)\n",
    "              for j, c in enumerate(row) if c == ord('a')]"
   ]
  },
  {
   "cell_type": "code",
   "execution_count": 255,
   "id": "a4509144-fe58-4db9-a8ca-c0595d17c6da",
   "metadata": {},
   "outputs": [],
   "source": [
    "assert bfs(starts) == 430"
   ]
  },
  {
   "cell_type": "markdown",
   "id": "2ca17ccd-bf77-4c30-8f7c-159f3602f568",
   "metadata": {},
   "source": [
    "# Day 13"
   ]
  },
  {
   "cell_type": "code",
   "execution_count": 256,
   "id": "192872fc-872b-4052-a8ab-13b020a3324f",
   "metadata": {},
   "outputs": [],
   "source": [
    "def compare(a, b):\n",
    "    match a, b:\n",
    "        case list(), list():\n",
    "            for aa, bb in zip(a, b):\n",
    "                r = compare(aa, bb)\n",
    "                if r != 0: return r\n",
    "            return len(a)-len(b)\n",
    "        case int(), list():\n",
    "            return compare([a], b)\n",
    "        case list(), int():\n",
    "            return compare(a, [b])\n",
    "        case _:\n",
    "            return a-b"
   ]
  },
  {
   "cell_type": "code",
   "execution_count": 257,
   "id": "5c3de66d-f359-4c6e-97d1-8c5e8cca70f2",
   "metadata": {},
   "outputs": [],
   "source": [
    "input = read(13, split='\\n\\n',process=lambda x: mapt(eval, x.split('\\n')))"
   ]
  },
  {
   "cell_type": "code",
   "execution_count": 258,
   "id": "41d581ca-6975-490c-b4b9-b774ec1ac496",
   "metadata": {},
   "outputs": [],
   "source": [
    "assert sum(i*(compare(a, b) < 0) for i, (a, b) in enumerate(input, 1)) == 5825"
   ]
  },
  {
   "cell_type": "code",
   "execution_count": 259,
   "id": "56992cd1-361b-48de-a0bf-49a0c54cb5cc",
   "metadata": {},
   "outputs": [],
   "source": [
    "from functools import cmp_to_key\n",
    "\n",
    "input = list(itertools.chain(*input))\n",
    "input.extend(([[2]], [[6]]))\n",
    "input.sort(key=cmp_to_key(compare))\n",
    "\n",
    "assert (input.index([[2]])+1)*(input.index([[6]])+1) == 24477"
   ]
  },
  {
   "cell_type": "markdown",
   "id": "761e0f74-f50a-4341-ab3d-61f10464e1f3",
   "metadata": {},
   "source": [
    "# Day 14"
   ]
  },
  {
   "cell_type": "code",
   "execution_count": 260,
   "id": "b1233653-5da4-407d-87d5-cc15d9c6c156",
   "metadata": {},
   "outputs": [],
   "source": [
    "input = read('14', process=parse_uint)"
   ]
  },
  {
   "cell_type": "code",
   "execution_count": 262,
   "id": "34bb8972-ac36-4ba2-8a3e-a3c3e55887af",
   "metadata": {},
   "outputs": [],
   "source": [
    "blocked = set()\n",
    "\n",
    "def block_hline(y, x1, x2):\n",
    "    if x1 > x2: x1, x2 = x2, x1\n",
    "    for x in range(x1, x2+1): blocked.add((x, y))\n",
    "    \n",
    "def block_vline(x, y1, y2):\n",
    "    if y1 > y2: y1, y2 = y2, y1\n",
    "    for y in range(y1, y2+1): blocked.add((x, y))                                      \n",
    "\n",
    "def init_day14():\n",
    "    blocked.clear()\n",
    "    for line in input:\n",
    "        for (xx, yy), (x, y) in windows(partition(line, 2), 2):\n",
    "            if x == xx: block_vline(x, yy, y)\n",
    "            else      : block_hline(y, xx, x)\n",
    "        \n",
    "def simulate(abyss, is_unblocked):\n",
    "    count = 0\n",
    "    x, y = (500, 0)\n",
    "    while True:\n",
    "        if abyss(x, y):\n",
    "            break\n",
    "        elif is_unblocked(x, y+1):\n",
    "            y = y+1\n",
    "        elif is_unblocked(x-1, y+1):\n",
    "            x, y = x-1, y+1\n",
    "        elif is_unblocked(x+1, y+1):\n",
    "            x, y = x+1, y+1\n",
    "        else:\n",
    "            blocked.add((x, y))\n",
    "            count += 1\n",
    "            x, y = 500, 0\n",
    "           \n",
    "            if (x, y) in blocked:\n",
    "                break\n",
    "    return count"
   ]
  },
  {
   "cell_type": "code",
   "execution_count": 273,
   "id": "71cdfa8f-3937-4dae-8047-b400b51bf9ad",
   "metadata": {},
   "outputs": [],
   "source": [
    "init_day14()\n",
    "Y = max(p[1] for p in blocked)\n",
    "assert simulate(lambda x, y: y > Y, lambda x, y: (x, y) not in blocked) == 779"
   ]
  },
  {
   "cell_type": "code",
   "execution_count": 275,
   "id": "9454cfce-cadb-4853-a2fe-0a12bab0bd1d",
   "metadata": {},
   "outputs": [],
   "source": [
    "init_day14()\n",
    "Y = max(p[1] for p in blocked)+2\n",
    "assert simulate(abyss=lambda x, y: abs(x-500) > y, \n",
    "                is_unblocked=lambda x, y: not(y == Y or (x, y) in blocked)) == 27426"
   ]
  },
  {
   "cell_type": "markdown",
   "id": "36106c54-477f-4033-aa09-56c45f977299",
   "metadata": {},
   "source": [
    "# Day 15"
   ]
  },
  {
   "cell_type": "code",
   "execution_count": 36,
   "id": "cc5e79a8-56dc-46ba-8cf4-ff1727fbd6d0",
   "metadata": {},
   "outputs": [],
   "source": [
    "input = read('15', parse_int)"
   ]
  },
  {
   "cell_type": "code",
   "execution_count": 72,
   "id": "e79cbc0e-9f86-402a-abab-ef3a3e28167f",
   "metadata": {},
   "outputs": [],
   "source": [
    "@numba.njit\n",
    "def find_interesting_locations(input, target_row, MN, MX):\n",
    "    segments = []\n",
    "    for x, y, x1, y1 in input:\n",
    "        r = abs(x-x1)+abs(y-y1)\n",
    "        if target_row-r <= y <= target_row+r:\n",
    "            width = r - abs(y-target_row)\n",
    "            segments.append((max(MN, x-width), min(MX, x+width)))\n",
    "        \n",
    "        if MN <= y1 < MX:\n",
    "            segments.append((y1, y1))\n",
    "    \n",
    "    segments.sort()\n",
    "    answer = 0\n",
    "    L, U = segments[0]\n",
    "    breakpt = None\n",
    "    for l, u in segments[1:]:\n",
    "        if l <= U+1:\n",
    "            U = max(u, U)\n",
    "        else:\n",
    "            breakpt = U+1\n",
    "            answer += (U-L)\n",
    "            L, U = l, u\n",
    "    answer += (U-L)\n",
    "    return answer, breakpt"
   ]
  },
  {
   "cell_type": "code",
   "execution_count": 73,
   "id": "b31082d0-7ac8-4bdc-8519-c67d02a725c7",
   "metadata": {},
   "outputs": [],
   "source": [
    "MN = float('-inf')\n",
    "MX = float('inf')\n",
    "assert int(find_interesting_locations(input, 2000000, MN, MX)[0]) == 5256611"
   ]
  },
  {
   "cell_type": "code",
   "execution_count": 74,
   "id": "aa61dfb7-51da-4871-84f0-17954c888ef3",
   "metadata": {},
   "outputs": [],
   "source": [
    "@numba.njit\n",
    "def find_discontinuity(input):\n",
    "    for row in range(0, 4000001):\n",
    "        _, dis = find_interesting_locations(input, row, 0, 4000_000)\n",
    "        if dis is not None:\n",
    "            return dis*4000000+row"
   ]
  },
  {
   "cell_type": "code",
   "execution_count": 75,
   "id": "5d04563a-fb71-4869-974c-021fc20cd3bd",
   "metadata": {},
   "outputs": [],
   "source": [
    "assert find_discontinuity(input) == 13337919186981"
   ]
  },
  {
   "cell_type": "markdown",
   "id": "c863e188-f9d1-4a3e-83ae-cc1f692e09de",
   "metadata": {},
   "source": [
    "# Day 16"
   ]
  },
  {
   "cell_type": "code",
   "execution_count": 469,
   "id": "94e6085d-ec2a-4967-bd79-ed9061460a38",
   "metadata": {},
   "outputs": [],
   "source": [
    "def parse_nodes(line):\n",
    "    return re.findall(r'[A-Z]{2}', line)\n",
    "\n",
    "input = read('16', parse_nodes)\n",
    "\n",
    "graph = defaultdict(set)\n",
    "for u, *vs in input:\n",
    "    graph[u].update(vs)\n",
    "\n",
    "flow_rates = {i[0]: j[0] for i, j in zip(input, read('16', parse_uint))}"
   ]
  },
  {
   "cell_type": "code",
   "execution_count": 472,
   "id": "36a30c14-ae1d-40af-a818-b4dca23d23fa",
   "metadata": {},
   "outputs": [
    {
     "data": {
      "application/vnd.jupyter.widget-view+json": {
       "model_id": "ef24ec2b45334be5bd763f159d9e78f7",
       "version_major": 2,
       "version_minor": 0
      },
      "text/plain": [
       "  0%|          | 0/29 [00:00<?, ?it/s]"
      ]
     },
     "metadata": {},
     "output_type": "display_data"
    }
   ],
   "source": [
    "valid = set(sorted(k for k, v in flow_rates.items() if v > 0))\n",
    "# valid = {'HH', 'DD'}\n",
    "subsets = set()\n",
    "for i in range(1, len(valid)+1):\n",
    "    subsets.update(itertools.combinations(valid, i))\n",
    "\n",
    "nextlevel = defaultdict(int)\n",
    "for subset in subsets:\n",
    "    for s in subset:\n",
    "        nextlevel[s, subset] = flow_rates[s]\n",
    "    \n",
    "for level in tqdm(range(28, -1, -1)):\n",
    "    current = defaultdict(int)\n",
    "    for subset in subsets:\n",
    "        for s in subset:\n",
    "            val1 = nextlevel[s, tuple(t for t in subset if t!=s)]\n",
    "            val1 += (30-level-1)*flow_rates[s]\n",
    "            \n",
    "            val2 = max(nextlevel[t, subset] for t in graph[s])\n",
    "            current[s, subset] = max(val1, val2)\n",
    "        for s in set(graph) - set(subset):\n",
    "            current[s, subset] = max(nextlevel[t, subset] for t in graph[s])\n",
    "    nextlevel = current\n",
    "    del current\n"
   ]
  },
  {
   "cell_type": "code",
   "execution_count": 474,
   "id": "c61445f8-63ec-4195-8695-6bce671aadf9",
   "metadata": {},
   "outputs": [
    {
     "data": {
      "text/plain": [
       "0"
      ]
     },
     "execution_count": 474,
     "metadata": {},
     "output_type": "execute_result"
    }
   ],
   "source": [
    "level"
   ]
  },
  {
   "cell_type": "code",
   "execution_count": 475,
   "id": "41988d25-3804-44e0-a761-362c5e7a6ccc",
   "metadata": {},
   "outputs": [
    {
     "data": {
      "text/plain": [
       "1653"
      ]
     },
     "execution_count": 475,
     "metadata": {},
     "output_type": "execute_result"
    }
   ],
   "source": [
    "max(v for k, v in nextlevel.items() if k[0] == 'AA')"
   ]
  },
  {
   "cell_type": "code",
   "execution_count": null,
   "id": "55ff7d7d-9c0d-4195-862c-1fcf2231fca7",
   "metadata": {},
   "outputs": [],
   "source": [
    "valid = set(sorted(k for k, v in flow_rates.items() if v > 0))\n",
    "all_nodes = sorted(graph)\n",
    "\n",
    "subsets = set()\n",
    "for i in range(1, len(valid)+1):\n",
    "    subsets.update(itertools.combinations(valid, i))\n",
    "\n",
    "nextlevel = defaultdict(int)\n",
    "for subset in subsets:\n",
    "    for s, t in itertools.combinations(all_nodes, 2):\n",
    "        nextlevel[(s, t), subset] = flow_rates[s]+flow_rates[t]\n",
    "            \n",
    "    \n",
    "for level in tqdm(range(24, -1, -1)):\n",
    "    current = defaultdict(int)\n",
    "    for s, t in itertools.combinations(all_nodes, 2):\n",
    "        for subset in subsets:\n",
    "            match s in subset, t in subset:\n",
    "                case False, False:\n",
    "                    pass\n",
    "                case False, True:\n",
    "                    pass\n",
    "                case True, False:\n",
    "                    pass\n",
    "                case True, True:\n",
    "                    pass\n",
    "            \n",
    "            \n"
   ]
  },
  {
   "cell_type": "code",
   "execution_count": 477,
   "id": "3f0ab5bb-8437-4ca5-a158-9353bb776d86",
   "metadata": {},
   "outputs": [
    {
     "data": {
      "text/plain": [
       "[(1, 2), (1, 3), (1, 4), (2, 3), (2, 4), (3, 4)]"
      ]
     },
     "execution_count": 477,
     "metadata": {},
     "output_type": "execute_result"
    }
   ],
   "source": [
    "list(itertools.combinations([1, 2, 3, 4], 2))"
   ]
  },
  {
   "cell_type": "code",
   "execution_count": 478,
   "id": "99e36bb7-4270-403f-b473-296e195e98f4",
   "metadata": {},
   "outputs": [
    {
     "data": {
      "text/plain": [
       "2097088"
      ]
     },
     "execution_count": 478,
     "metadata": {},
     "output_type": "execute_result"
    }
   ],
   "source": [
    "len(nextlevel)"
   ]
  },
  {
   "cell_type": "code",
   "execution_count": null,
   "id": "ace5bb09-5a9a-4fd3-87b6-fd489eb391ce",
   "metadata": {},
   "outputs": [],
   "source": []
  }
 ],
 "metadata": {
  "jupytext": {
   "encoding": "# -*- coding: utf-8 -*-",
   "formats": "ipynb,py:light"
  },
  "kernelspec": {
   "display_name": "Python 3",
   "language": "python",
   "name": "python3"
  },
  "language_info": {
   "codemirror_mode": {
    "name": "ipython",
    "version": 3
   },
   "file_extension": ".py",
   "mimetype": "text/x-python",
   "name": "python",
   "nbconvert_exporter": "python",
   "pygments_lexer": "ipython3",
   "version": "3.10.8"
  }
 },
 "nbformat": 4,
 "nbformat_minor": 5
}
