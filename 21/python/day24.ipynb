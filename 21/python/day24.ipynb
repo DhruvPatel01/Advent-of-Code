{
 "cells": [
  {
   "cell_type": "code",
   "execution_count": 3,
   "id": "7838b2bb-122c-4735-91c9-124e947d4aaf",
   "metadata": {},
   "outputs": [],
   "source": [
    "from itertools import product\n",
    "from math import prod\n",
    "import random"
   ]
  },
  {
   "cell_type": "code",
   "execution_count": 4,
   "id": "5794b7ba-6717-464f-9cf9-d74fb5e3613a",
   "metadata": {},
   "outputs": [],
   "source": [
    "def is_number(x):\n",
    "    try: \n",
    "        _ = int(x)\n",
    "        return True\n",
    "    except:\n",
    "        return False\n",
    "\n",
    "def merge_names(name, op):\n",
    "    args = list(map(str.strip, name.split(op)))\n",
    "    symbs = [a for a in args if not is_number(a)]\n",
    "    other = [int(a) for a in args if is_number(a)]\n",
    "    if op == '+': op = sum\n",
    "    elif op == '*': op = prod\n",
    "    symbs.append(str(op(other)))\n",
    "    return ' + '.join(symbs)"
   ]
  },
  {
   "cell_type": "code",
   "execution_count": 5,
   "id": "653548da-5345-4d4b-97b2-c11f6d6e87f2",
   "metadata": {},
   "outputs": [
    {
     "data": {
      "text/plain": [
       "'d0 + d1 + 4'"
      ]
     },
     "execution_count": 5,
     "metadata": {},
     "output_type": "execute_result"
    }
   ],
   "source": [
    "merge_names('d0 + d1 + 3 + 2 +  -1', '+')"
   ]
  },
  {
   "cell_type": "code",
   "execution_count": 6,
   "id": "51736c80-d6bc-41ae-8f29-5a561e86085b",
   "metadata": {},
   "outputs": [],
   "source": [
    "class Symbol:\n",
    "    def __init__(self, name, rnge=range(1, 10)):\n",
    "        self.range = set(rnge)\n",
    "        if self.is_const:\n",
    "            self.name = str(self.const_value)\n",
    "        else:\n",
    "            self.name = name\n",
    "    \n",
    "    def __repr__(self):\n",
    "        return f'{self.name}'\n",
    "    \n",
    "    @property\n",
    "    def is_const(self):\n",
    "        return len(self.range) == 1\n",
    "    \n",
    "    @property\n",
    "    def const_value(self):\n",
    "        if not self.is_const: raise ValueError(\"Is not constant\")\n",
    "        return next(iter(self.range))\n",
    "    \n",
    "    @property\n",
    "    def is_zero(self):\n",
    "        return self.is_const and self.const_value == 0\n",
    "    \n",
    "    @property\n",
    "    def is_one(self): \n",
    "        return self.is_const and self.const_value == 1\n",
    "    \n",
    "    def __radd__(self, other):\n",
    "        if isinstance(other, int):\n",
    "            other = Symbol(f'{other}', {other})\n",
    "        if self.is_zero and other.is_zero: return zero\n",
    "        elif other.is_zero: return self\n",
    "        elif self.is_zero: return other\n",
    "        \n",
    "        res = Symbol(f'({self.name} + {other.name})',\n",
    "                      set(a+b for a in self.range for b in other.range))\n",
    "        res.left = other\n",
    "        res.right = self\n",
    "        return res\n",
    "    \n",
    "    def __add__(self, other):\n",
    "        return self.__radd__(other)\n",
    "    \n",
    "    def __rmul__(self, other):\n",
    "        if isinstance(other, int):\n",
    "            other = Symbol(f'{other}', {other})\n",
    "        if self.is_zero or other.is_zero: return zero\n",
    "        elif self.is_one: return other\n",
    "        elif other.is_one: return self\n",
    "        res = Symbol(f'({self.name} * {other.name})',\n",
    "                      set(a*b for a in self.range for b in other.range))\n",
    "        res.left = other\n",
    "        res.right = self\n",
    "        return res\n",
    "    \n",
    "    def __mul__(self, other):\n",
    "        return self.__rmul__(other)\n",
    "    \n",
    "    def __floordiv__(self, other):\n",
    "        if isinstance(other, int):\n",
    "            other = Symbol(f'{other}', {other})\n",
    "        if other.is_one: return self\n",
    "        res = Symbol(f'({self.name} / {other.name})', \n",
    "                      set(int(a/b) for a in self.range for b in other.range))\n",
    "        res.left = self\n",
    "        res.right = other\n",
    "        return res\n",
    "       \n",
    "    def __mod__(self, other):\n",
    "        if isinstance(other, int):\n",
    "            other = Symbol(f'{other}', {other})\n",
    "        res = Symbol(f'({self.name} % {other.name})',\n",
    "                  set(a%b for a in self.range for b in other.range))\n",
    "        res.left = self\n",
    "        res.right = other\n",
    "        return res\n",
    "    \n",
    "    def __rmod__(self, other):\n",
    "        return self.__mod__(other)\n",
    "    \n",
    "    def __eq__(self, other):\n",
    "        if isinstance(other, int):\n",
    "            other = Symbol(f'{other}', {other})\n",
    "        if self.is_const and other.is_const:\n",
    "            return one if self.const_value == other.const_value else zero\n",
    "        \n",
    "        if self.range & other.range:\n",
    "            res = Symbol(f'[{self.name} == {other.name}]', {0, 1})\n",
    "            res.left = self\n",
    "            res.right = other\n",
    "            return res\n",
    "        else:\n",
    "            return zero\n",
    "        \n",
    "zero = Symbol('0', {0})\n",
    "one = Symbol('1', {1})"
   ]
  },
  {
   "cell_type": "code",
   "execution_count": 7,
   "id": "f193cfd4-75ff-4b3f-9e3d-6a3dac79db78",
   "metadata": {},
   "outputs": [],
   "source": [
    "symbols = [Symbol(f'd{i}') for i in range(14)]"
   ]
  },
  {
   "cell_type": "code",
   "execution_count": 8,
   "id": "23d3f9c2-cc20-4415-b529-1a443c614874",
   "metadata": {},
   "outputs": [],
   "source": [
    "program = list(map(str.split, open('../input/day24')))"
   ]
  },
  {
   "cell_type": "code",
   "execution_count": 9,
   "id": "d389c11a-86ca-4c0f-8004-cd39c4fe9fd0",
   "metadata": {},
   "outputs": [
    {
     "name": "stdout",
     "output_type": "stream",
     "text": [
      "{'w': 0, 'x': 0, 'y': 0, 'z': 0}\n"
     ]
    },
    {
     "name": "stdin",
     "output_type": "stream",
     "text": [
      " \n"
     ]
    },
    {
     "name": "stdout",
     "output_type": "stream",
     "text": [
      "{'w': d0, 'x': 1, 'y': (d0 + 15), 'z': (d0 + 15)}\n"
     ]
    },
    {
     "name": "stdin",
     "output_type": "stream",
     "text": [
      " \n"
     ]
    },
    {
     "name": "stdout",
     "output_type": "stream",
     "text": [
      "{'w': d1, 'x': 1, 'y': (d1 + 8), 'z': ((z1 * 26) + (d1 + 8))}\n"
     ]
    },
    {
     "name": "stdin",
     "output_type": "stream",
     "text": [
      " \n"
     ]
    },
    {
     "name": "stdout",
     "output_type": "stream",
     "text": [
      "{'w': d2, 'x': 1, 'y': (d2 + 2), 'z': ((z2 * 26) + (d2 + 2))}\n"
     ]
    },
    {
     "name": "stdin",
     "output_type": "stream",
     "text": [
      " \n"
     ]
    },
    {
     "name": "stdout",
     "output_type": "stream",
     "text": [
      "{'w': d3, 'x': [[((z3 % 26) + -9) == d3] == 0], 'y': ((d3 + 6) * [[((z3 % 26) + -9) == d3] == 0]), 'z': (((z3 / 26) * ((25 * [[((z3 % 26) + -9) == d3] == 0]) + 1)) + ((d3 + 6) * [[((z3 % 26) + -9) == d3] == 0]))}\n"
     ]
    },
    {
     "name": "stdin",
     "output_type": "stream",
     "text": [
      " \n"
     ]
    },
    {
     "name": "stdout",
     "output_type": "stream",
     "text": [
      "{'w': d4, 'x': 1, 'y': (d4 + 13), 'z': ((z4 * 26) + (d4 + 13))}\n"
     ]
    },
    {
     "name": "stdin",
     "output_type": "stream",
     "text": [
      " \n"
     ]
    },
    {
     "name": "stdout",
     "output_type": "stream",
     "text": [
      "{'w': d5, 'x': 1, 'y': (d5 + 4), 'z': ((z5 * 26) + (d5 + 4))}\n"
     ]
    },
    {
     "name": "stdin",
     "output_type": "stream",
     "text": [
      " \n"
     ]
    },
    {
     "name": "stdout",
     "output_type": "stream",
     "text": [
      "{'w': d6, 'x': 1, 'y': (d6 + 1), 'z': ((z6 * 26) + (d6 + 1))}\n"
     ]
    },
    {
     "name": "stdin",
     "output_type": "stream",
     "text": [
      " \n"
     ]
    },
    {
     "name": "stdout",
     "output_type": "stream",
     "text": [
      "{'w': d7, 'x': [[((z7 % 26) + -5) == d7] == 0], 'y': ((d7 + 9) * [[((z7 % 26) + -5) == d7] == 0]), 'z': (((z7 / 26) * ((25 * [[((z7 % 26) + -5) == d7] == 0]) + 1)) + ((d7 + 9) * [[((z7 % 26) + -5) == d7] == 0]))}\n"
     ]
    },
    {
     "name": "stdin",
     "output_type": "stream",
     "text": [
      " \n"
     ]
    },
    {
     "name": "stdout",
     "output_type": "stream",
     "text": [
      "{'w': d8, 'x': 1, 'y': (d8 + 5), 'z': ((z8 * 26) + (d8 + 5))}\n"
     ]
    },
    {
     "name": "stdin",
     "output_type": "stream",
     "text": [
      " \n"
     ]
    },
    {
     "name": "stdout",
     "output_type": "stream",
     "text": [
      "{'w': d9, 'x': [[((z9 % 26) + -7) == d9] == 0], 'y': ((d9 + 13) * [[((z9 % 26) + -7) == d9] == 0]), 'z': (((z9 / 26) * ((25 * [[((z9 % 26) + -7) == d9] == 0]) + 1)) + ((d9 + 13) * [[((z9 % 26) + -7) == d9] == 0]))}\n"
     ]
    },
    {
     "name": "stdin",
     "output_type": "stream",
     "text": [
      " \n"
     ]
    },
    {
     "name": "stdout",
     "output_type": "stream",
     "text": [
      "{'w': d10, 'x': [[((z10 % 26) + -12) == d10] == 0], 'y': ((d10 + 9) * [[((z10 % 26) + -12) == d10] == 0]), 'z': (((z10 / 26) * ((25 * [[((z10 % 26) + -12) == d10] == 0]) + 1)) + ((d10 + 9) * [[((z10 % 26) + -12) == d10] == 0]))}\n"
     ]
    },
    {
     "name": "stdin",
     "output_type": "stream",
     "text": [
      " \n"
     ]
    },
    {
     "name": "stdout",
     "output_type": "stream",
     "text": [
      "{'w': d11, 'x': [[((z11 % 26) + -10) == d11] == 0], 'y': ((d11 + 6) * [[((z11 % 26) + -10) == d11] == 0]), 'z': (((z11 / 26) * ((25 * [[((z11 % 26) + -10) == d11] == 0]) + 1)) + ((d11 + 6) * [[((z11 % 26) + -10) == d11] == 0]))}\n"
     ]
    },
    {
     "name": "stdin",
     "output_type": "stream",
     "text": [
      " \n"
     ]
    },
    {
     "name": "stdout",
     "output_type": "stream",
     "text": [
      "{'w': d12, 'x': [[((z12 % 26) + -1) == d12] == 0], 'y': ((d12 + 2) * [[((z12 % 26) + -1) == d12] == 0]), 'z': (((z12 / 26) * ((25 * [[((z12 % 26) + -1) == d12] == 0]) + 1)) + ((d12 + 2) * [[((z12 % 26) + -1) == d12] == 0]))}\n"
     ]
    },
    {
     "name": "stdin",
     "output_type": "stream",
     "text": [
      " \n"
     ]
    }
   ],
   "source": [
    "# def evaluate(n):\n",
    "state = { 'w': 0, 'x': 0, 'y': 0, 'z': Symbol('0', {0})}\n",
    "# input = map(int, n)\n",
    "it = iter(symbols)\n",
    "\n",
    "i = 0\n",
    "for inst in program:\n",
    "    match inst:\n",
    "        case ['inp', x]:\n",
    "            print(state)\n",
    "            state[x] = next(it)\n",
    "            state['z'] = Symbol(f'z{i}', set(random.choices(list(state['z'].range), k=1000)))\n",
    "            i += 1\n",
    "            input()\n",
    "        case [op, a, b]:\n",
    "            b = state[b] if b in state else int(b)\n",
    "            match op:\n",
    "                case 'add': state[a] = state[a] + b\n",
    "                case 'mul': state[a] = state[a] * b\n",
    "                case 'div': state[a] = state[a] // b\n",
    "                case 'mod': state[a] = state[a] % b\n",
    "                case 'eql': state[a] = state[a] == b\n",
    "    # return state"
   ]
  },
  {
   "cell_type": "code",
   "execution_count": 12,
   "id": "1041fac8-96c4-4469-83f6-5aff7c71347f",
   "metadata": {},
   "outputs": [
    {
     "data": {
      "text/plain": [
       "(((z13 / 26) * ((25 * [[((z13 % 26) + -11) == d13] == 0]) + 1)) + ((d13 + 2) * [[((z13 % 26) + -11) == d13] == 0]))"
      ]
     },
     "execution_count": 12,
     "metadata": {},
     "output_type": "execute_result"
    }
   ],
   "source": [
    "state['z']"
   ]
  },
  {
   "cell_type": "code",
   "execution_count": null,
   "id": "3275655f-e45d-4104-b695-65fab66a6759",
   "metadata": {},
   "outputs": [],
   "source": []
  }
 ],
 "metadata": {
  "kernelspec": {
   "display_name": "Python 3",
   "language": "python",
   "name": "python3"
  },
  "language_info": {
   "codemirror_mode": {
    "name": "ipython",
    "version": 3
   },
   "file_extension": ".py",
   "mimetype": "text/x-python",
   "name": "python",
   "nbconvert_exporter": "python",
   "pygments_lexer": "ipython3",
   "version": "3.10.1"
  }
 },
 "nbformat": 4,
 "nbformat_minor": 5
}
