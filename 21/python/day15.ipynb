{
 "cells": [
  {
   "cell_type": "code",
   "execution_count": 1,
   "metadata": {},
   "outputs": [],
   "source": [
    "from collections import defaultdict\n",
    "import heapq"
   ]
  },
  {
   "cell_type": "code",
   "execution_count": 2,
   "metadata": {},
   "outputs": [],
   "source": [
    "def create_graph(lines):\n",
    "    height, width = len(lines), len(lines[0])\n",
    "    graph = defaultdict(list)\n",
    "    for i, line in enumerate(lines):\n",
    "        for j, w in enumerate(line):\n",
    "            w = int(w)\n",
    "            if i+1 != height: graph[i+1, j].append(((i, j), w))\n",
    "            if j+1 != width: graph[i, j+1].append(((i, j), w))\n",
    "            if j != 0: graph[i, j-1].append(((i, j), w))\n",
    "            if i != 0: graph[i-1, j].append(((i, j), w))\n",
    "    return graph, (height-1, width-1)"
   ]
  },
  {
   "cell_type": "code",
   "execution_count": 3,
   "metadata": {},
   "outputs": [],
   "source": [
    "def dijkstra(graph, end):\n",
    "    pq = [(0, (0, 0))]\n",
    "    visited = set()\n",
    "    while pq:\n",
    "        l, u = heapq.heappop(pq)\n",
    "        if u == end: return l\n",
    "        if u in visited: continue\n",
    "        visited.add(u)\n",
    "        for v, w in graph[u]:\n",
    "            if v in visited: continue\n",
    "            heapq.heappush(pq, (w+l, v))"
   ]
  },
  {
   "cell_type": "code",
   "execution_count": 4,
   "metadata": {},
   "outputs": [
    {
     "data": {
      "text/plain": [
       "748"
      ]
     },
     "execution_count": 4,
     "metadata": {},
     "output_type": "execute_result"
    }
   ],
   "source": [
    "lines = open('../input/day15').read().strip().split('\\n')\n",
    "dijkstra(*create_graph(lines))"
   ]
  },
  {
   "cell_type": "code",
   "execution_count": 5,
   "metadata": {},
   "outputs": [],
   "source": [
    "def make_tiled(lines, n_tiles=5):\n",
    "    n_lines = len(lines)\n",
    "    new_strip = []\n",
    "    for line in lines:\n",
    "        l = [line]\n",
    "        for i in range(n_tiles-1):\n",
    "            line = ''.join(map(lambda c: str(int(c)%9 + 1), line))\n",
    "            l.append(line)\n",
    "        new_strip.append(''.join(l))\n",
    "    \n",
    "    strips = [None]*(n_lines*n_tiles)\n",
    "    for i, line in enumerate(new_strip):\n",
    "        strips[i] = line\n",
    "        for j in range(1, n_tiles):\n",
    "            line = ''.join(map(lambda c: str(int(c)%9 + 1), line))\n",
    "            strips[j*n_lines+i] = line\n",
    "    return strips"
   ]
  },
  {
   "cell_type": "code",
   "execution_count": 6,
   "metadata": {},
   "outputs": [
    {
     "data": {
      "text/plain": [
       "3045"
      ]
     },
     "execution_count": 6,
     "metadata": {},
     "output_type": "execute_result"
    }
   ],
   "source": [
    "lines = make_tiled(lines, 5)\n",
    "dijkstra(*create_graph(lines))"
   ]
  },
  {
   "cell_type": "code",
   "execution_count": null,
   "metadata": {},
   "outputs": [],
   "source": []
  }
 ],
 "metadata": {
  "kernelspec": {
   "display_name": "Python 3",
   "language": "python",
   "name": "python3"
  },
  "language_info": {
   "codemirror_mode": {
    "name": "ipython",
    "version": 3
   },
   "file_extension": ".py",
   "mimetype": "text/x-python",
   "name": "python",
   "nbconvert_exporter": "python",
   "pygments_lexer": "ipython3",
   "version": "3.9.9"
  }
 },
 "nbformat": 4,
 "nbformat_minor": 4
}
