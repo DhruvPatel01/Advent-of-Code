{
 "cells": [
  {
   "cell_type": "code",
   "execution_count": 1,
   "metadata": {},
   "outputs": [],
   "source": [
    "inputs = []\n",
    "with open('../input/day8') as f:\n",
    "    for line in f:\n",
    "        l, r = line.strip().split('|')\n",
    "        l = list(map(set, l.strip().split(' ')))\n",
    "        r = list(map(set, r.strip().split(' ')))\n",
    "        inputs.append((l, r))"
   ]
  },
  {
   "cell_type": "code",
   "execution_count": 2,
   "metadata": {},
   "outputs": [],
   "source": [
    "uniq = {2: '1', 4: '4', 3: '7', 7: '8'}\n",
    "\n",
    "def process_display(input):\n",
    "    patterns, query = input\n",
    "    sol = {uniq[len(p)]: p for p in patterns if len(p) in uniq}\n",
    "    for p in patterns:\n",
    "        c = len(p)\n",
    "        if   c == 6:\n",
    "            if   len(sol['1'] - p) == 1: sol['6'] = p\n",
    "            elif len(sol['4'] - p) == 0: sol['9'] = p\n",
    "            else: sol['0'] = p\n",
    "        elif c == 5:\n",
    "            if   len(sol['1'] - p) == 0: sol['3'] = p\n",
    "            elif len(sol['4'] | p) == 7: sol['2'] = p\n",
    "            else: sol['5'] = p\n",
    "    sol = {''.join(sorted(v)): k for k, v in sol.items()}\n",
    "    sol = ''.join([sol[''.join(sorted(q))] for q in query])\n",
    "    if part == 1:\n",
    "        return sum(x in '1478' for x in sol)\n",
    "    else:\n",
    "        return int(sol)\n",
    "    "
   ]
  },
  {
   "cell_type": "code",
   "execution_count": 3,
   "metadata": {},
   "outputs": [
    {
     "data": {
      "text/plain": [
       "397"
      ]
     },
     "execution_count": 3,
     "metadata": {},
     "output_type": "execute_result"
    }
   ],
   "source": [
    "part = 1\n",
    "sum(map(process_display, inputs))"
   ]
  },
  {
   "cell_type": "code",
   "execution_count": 4,
   "metadata": {},
   "outputs": [
    {
     "data": {
      "text/plain": [
       "1027422"
      ]
     },
     "execution_count": 4,
     "metadata": {},
     "output_type": "execute_result"
    }
   ],
   "source": [
    "part = 2\n",
    "sum(map(process_display, inputs))"
   ]
  },
  {
   "cell_type": "code",
   "execution_count": null,
   "metadata": {},
   "outputs": [],
   "source": []
  }
 ],
 "metadata": {
  "kernelspec": {
   "display_name": "Python 3",
   "language": "python",
   "name": "python3"
  },
  "language_info": {
   "codemirror_mode": {
    "name": "ipython",
    "version": 3
   },
   "file_extension": ".py",
   "mimetype": "text/x-python",
   "name": "python",
   "nbconvert_exporter": "python",
   "pygments_lexer": "ipython3",
   "version": "3.9.9"
  }
 },
 "nbformat": 4,
 "nbformat_minor": 4
}
