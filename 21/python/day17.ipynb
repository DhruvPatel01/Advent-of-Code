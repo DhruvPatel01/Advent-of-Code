{
 "cells": [
  {
   "cell_type": "code",
   "execution_count": 13,
   "id": "87c87a14-90dd-4cce-92f9-72dfb8b5d7ac",
   "metadata": {},
   "outputs": [],
   "source": [
    "import re\n",
    "import numpy as np"
   ]
  },
  {
   "cell_type": "code",
   "execution_count": 88,
   "id": "9142a9eb-83a0-43c3-b172-37cc41531be1",
   "metadata": {},
   "outputs": [],
   "source": [
    "inp = open('../input/day17').read().strip()\n",
    "# inp = 'target area: x=20..30, y=-10..-5'\n",
    "xl, xh, yl, yh = map(int, re.findall('-?\\d+', inp))"
   ]
  },
  {
   "cell_type": "code",
   "execution_count": 89,
   "id": "13a6dbfb-6a56-4729-8ed8-98f00b03bc53",
   "metadata": {},
   "outputs": [
    {
     "data": {
      "text/plain": [
       "((-162, -134), (56, 76))"
      ]
     },
     "execution_count": 89,
     "metadata": {},
     "output_type": "execute_result"
    }
   ],
   "source": [
    "(yl, yh), (xl, xh)"
   ]
  },
  {
   "cell_type": "code",
   "execution_count": 90,
   "id": "b7bdf752-d246-4888-a5a6-fd94868787ba",
   "metadata": {},
   "outputs": [],
   "source": [
    "vy0 = abs(yl) - 1\n",
    "y = vy0*(vy0+1)/2"
   ]
  },
  {
   "cell_type": "code",
   "execution_count": 91,
   "id": "ef48e5d7-a5a5-42ea-b34b-65548219f23a",
   "metadata": {},
   "outputs": [],
   "source": [
    "def solve_quad(a, b, c):\n",
    "    return (-b + np.sqrt(b**2 - 4*a*c))/(2*a)"
   ]
  },
  {
   "cell_type": "code",
   "execution_count": 92,
   "id": "3af31a6b-f752-46d0-ae94-9a9cd1e5bb7e",
   "metadata": {},
   "outputs": [],
   "source": [
    "x_min = int(np.ceil(solve_quad(1, 1, -2*xl)))\n",
    "x_max = int(xh)\n",
    "y_min = int(yl)\n",
    "y_max = int(-yl-1)"
   ]
  },
  {
   "cell_type": "code",
   "execution_count": 93,
   "id": "5e98da8d-28f8-4fc3-992b-c157db4c69e0",
   "metadata": {},
   "outputs": [],
   "source": [
    "ans = set()\n",
    "\n",
    "def x(t, v):\n",
    "    tmp = v*(v+1)/2\n",
    "    if t >= v: return tmp\n",
    "    return tmp - (v - t)*(v-t+1)/2\n",
    "\n",
    "def y(t, v):\n",
    "    return v*t - t*(t-1)/2\n",
    "\n",
    "for vy in range(y_min, y_max+1):\n",
    "    if vy >= 0:\n",
    "        t_min = int(np.ceil(solve_quad(1, 2*vy+1, -2*abs(yh)))) + 2*vy + 1\n",
    "    else:\n",
    "        t_min = int(np.ceil(solve_quad(1, 2*abs(vy), -2*abs(yh))))\n",
    "        \n",
    "    for vx in range(x_min, x_max+1):\n",
    "        t = t_min\n",
    "        while True:\n",
    "            if  x(t, vx) > xh or y(t, vy) < yl:\n",
    "                break\n",
    "            if xl <= x(t, vx) <= xh and yl <= y(t, vy) <= yh:\n",
    "                ans.add((str(vx), str(vy)))\n",
    "            t += 1"
   ]
  },
  {
   "cell_type": "code",
   "execution_count": 94,
   "id": "cdad224e-6da4-404e-8403-54402a95a215",
   "metadata": {},
   "outputs": [
    {
     "data": {
      "text/plain": [
       "1031"
      ]
     },
     "execution_count": 94,
     "metadata": {},
     "output_type": "execute_result"
    }
   ],
   "source": [
    "len(ans)"
   ]
  },
  {
   "cell_type": "code",
   "execution_count": null,
   "id": "7538bb2f-bb11-48c9-9f73-a7aa8b3ff860",
   "metadata": {},
   "outputs": [],
   "source": []
  }
 ],
 "metadata": {
  "kernelspec": {
   "display_name": "Python 3",
   "language": "python",
   "name": "python3"
  },
  "language_info": {
   "codemirror_mode": {
    "name": "ipython",
    "version": 3
   },
   "file_extension": ".py",
   "mimetype": "text/x-python",
   "name": "python",
   "nbconvert_exporter": "python",
   "pygments_lexer": "ipython3",
   "version": "3.10.1"
  }
 },
 "nbformat": 4,
 "nbformat_minor": 5
}
