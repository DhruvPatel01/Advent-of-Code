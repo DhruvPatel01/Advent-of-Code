{
 "cells": [
  {
   "cell_type": "code",
   "execution_count": 1,
   "id": "6966647c-9692-4fdf-bbaf-d7466a646b77",
   "metadata": {},
   "outputs": [],
   "source": [
    "import itertools\n",
    "from collections import Counter\n",
    "from functools import cache"
   ]
  },
  {
   "cell_type": "code",
   "execution_count": 2,
   "id": "4725f33a-0bf0-48b1-bf33-baf9e86ad250",
   "metadata": {},
   "outputs": [],
   "source": [
    "def ddice():\n",
    "    it = itertools.cycle(range(1, 10001))\n",
    "    while True:\n",
    "        yield sum(next(it) for _ in range(3))"
   ]
  },
  {
   "cell_type": "code",
   "execution_count": 3,
   "id": "4182f188-d873-4892-93dd-1c418ebd6c62",
   "metadata": {},
   "outputs": [
    {
     "name": "stdout",
     "output_type": "stream",
     "text": [
      "Part 1 604998\n"
     ]
    }
   ],
   "source": [
    "p1_score, p2_score, n = 0, 0, 0\n",
    "# p1_pos, p2_pos = 4, 8\n",
    "p1_pos, p2_pos = 1, 6\n",
    "\n",
    "def pos(x, roll):\n",
    "    return (x + roll -1)%10 + 1\n",
    "\n",
    "d = ddice()\n",
    "while True:\n",
    "    p1_pos = pos(p1_pos, next(d))\n",
    "    p1_score += p1_pos \n",
    "    n += 3\n",
    "    if p1_score >= 1000: \n",
    "        print(\"Part 1\", n*p2_score)\n",
    "        break\n",
    "    \n",
    "    p2_pos = pos(p2_pos, next(d))\n",
    "    p2_score += p2_pos\n",
    "    n += 3\n",
    "    if p2_score >= 1000: \n",
    "        print(\"Part 1\", n*p1_score)\n",
    "        break"
   ]
  },
  {
   "cell_type": "code",
   "execution_count": 4,
   "id": "b6c9491d-6255-40cf-a4ae-2141a6c54d97",
   "metadata": {},
   "outputs": [],
   "source": [
    "dirac = Counter([i+j+k for i in range(1, 4) for j in range(1, 4) for k in range(1, 4)])"
   ]
  },
  {
   "cell_type": "code",
   "execution_count": 7,
   "id": "325cd575-3dbb-4805-957f-c25a6e2ebbfa",
   "metadata": {},
   "outputs": [],
   "source": [
    "@cache\n",
    "def a_round(p1_pos, p1_score, p2_pos, p2_score, turn):\n",
    "    if turn == 1 and p1_score >= 21:\n",
    "        return 1, 0\n",
    "    if turn == 0 and p2_score >= 21:\n",
    "        return 0, 1\n",
    "    \n",
    "    p1_wins, p2_wins = 0, 0\n",
    "    if turn == 1:\n",
    "        for roll, cnt in dirac.items():\n",
    "            p = pos(p2_pos, roll)\n",
    "            a, b = a_round(p1_pos, p1_score,  p, p2_score+p, 0)\n",
    "            p1_wins += a*cnt\n",
    "            p2_wins += b*cnt\n",
    "    else:\n",
    "        for roll, cnt in dirac.items():\n",
    "            p = pos(p1_pos, roll)\n",
    "            a, b = a_round(p, p1_score+p,  p2_pos, p2_score, 1)\n",
    "            p1_wins += a*cnt\n",
    "            p2_wins += b*cnt\n",
    "    return p1_wins, p2_wins"
   ]
  },
  {
   "cell_type": "code",
   "execution_count": 8,
   "id": "42aee621-478e-46d2-b1e6-8e5f4cb407e3",
   "metadata": {},
   "outputs": [
    {
     "data": {
      "text/plain": [
       "(157253621231420, 63247472387933)"
      ]
     },
     "execution_count": 8,
     "metadata": {},
     "output_type": "execute_result"
    }
   ],
   "source": [
    "# p1_pos, p2_pos = 4, 8\n",
    "p1_pos, p2_pos = 1, 6\n",
    "a_round(p1_pos, 0, p2_pos, 0, 0)"
   ]
  },
  {
   "cell_type": "code",
   "execution_count": 9,
   "id": "6f9033af-ff92-4c15-b61b-932766d8338f",
   "metadata": {},
   "outputs": [
    {
     "data": {
      "text/plain": [
       "False"
      ]
     },
     "execution_count": 9,
     "metadata": {},
     "output_type": "execute_result"
    }
   ],
   "source": [
    "157253621231420 < 63247472387933"
   ]
  },
  {
   "cell_type": "code",
   "execution_count": null,
   "id": "7cca4000-1384-45cd-a47f-f7a0ee0431c1",
   "metadata": {},
   "outputs": [],
   "source": []
  }
 ],
 "metadata": {
  "kernelspec": {
   "display_name": "Python 3",
   "language": "python",
   "name": "python3"
  },
  "language_info": {
   "codemirror_mode": {
    "name": "ipython",
    "version": 3
   },
   "file_extension": ".py",
   "mimetype": "text/x-python",
   "name": "python",
   "nbconvert_exporter": "python",
   "pygments_lexer": "ipython3",
   "version": "3.10.1"
  }
 },
 "nbformat": 4,
 "nbformat_minor": 5
}
