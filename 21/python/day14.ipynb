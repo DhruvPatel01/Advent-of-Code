{
 "cells": [
  {
   "cell_type": "code",
   "execution_count": 1,
   "metadata": {},
   "outputs": [],
   "source": [
    "from collections import Counter"
   ]
  },
  {
   "cell_type": "code",
   "execution_count": 57,
   "metadata": {},
   "outputs": [],
   "source": [
    "filename = \"../input/day14\"\n",
    "# filename = '../clojure/test.txt'"
   ]
  },
  {
   "cell_type": "code",
   "execution_count": 76,
   "metadata": {},
   "outputs": [],
   "source": [
    "with open(filename) as f:\n",
    "    template_raw, rules = f.read().split('\\n\\n')\n",
    "rules = dict(map(lambda r: tuple(r.split(' -> ')), rules.strip().split('\\n')))\n",
    "template = Counter(template_raw[i-1:i+1] for i in range(1, len(template_raw)))"
   ]
  },
  {
   "cell_type": "code",
   "execution_count": 77,
   "metadata": {},
   "outputs": [],
   "source": [
    "def step(template):\n",
    "    c = Counter()\n",
    "    for k, v in template.items():\n",
    "        r = rules[k]\n",
    "        c[k[0] + r] += v\n",
    "        c[r + k[1]] += v\n",
    "    return c"
   ]
  },
  {
   "cell_type": "code",
   "execution_count": 80,
   "metadata": {},
   "outputs": [],
   "source": [
    "import pprint\n",
    "def run_for(part, steps):\n",
    "    new = template\n",
    "    for i in range(steps): new = step(new)\n",
    "    freq = Counter()\n",
    "    freq[template_raw[0]] += 1\n",
    "    for k, v in new.items(): freq[k[1]] += v\n",
    "    freq = freq.most_common()\n",
    "    print(f\"Part {part}: \", freq[0][1] - freq[-1][1])"
   ]
  },
  {
   "cell_type": "code",
   "execution_count": 81,
   "metadata": {},
   "outputs": [
    {
     "name": "stdout",
     "output_type": "stream",
     "text": [
      "Part 1:  2712\n"
     ]
    }
   ],
   "source": [
    "run_for(1, 10)"
   ]
  },
  {
   "cell_type": "code",
   "execution_count": 82,
   "metadata": {},
   "outputs": [
    {
     "name": "stdout",
     "output_type": "stream",
     "text": [
      "Part 2:  8336623059567\n"
     ]
    }
   ],
   "source": [
    "run_for(2, 40)"
   ]
  },
  {
   "cell_type": "code",
   "execution_count": null,
   "metadata": {},
   "outputs": [],
   "source": []
  }
 ],
 "metadata": {
  "kernelspec": {
   "display_name": "Python 3",
   "language": "python",
   "name": "python3"
  },
  "language_info": {
   "codemirror_mode": {
    "name": "ipython",
    "version": 3
   },
   "file_extension": ".py",
   "mimetype": "text/x-python",
   "name": "python",
   "nbconvert_exporter": "python",
   "pygments_lexer": "ipython3",
   "version": "3.9.9"
  }
 },
 "nbformat": 4,
 "nbformat_minor": 4
}
