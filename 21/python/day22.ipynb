{
 "cells": [
  {
   "cell_type": "code",
   "execution_count": 21,
   "id": "065c4be2-67c4-428f-9c49-d00f99e4e703",
   "metadata": {},
   "outputs": [],
   "source": [
    "import re\n",
    "import numpy as np"
   ]
  },
  {
   "cell_type": "code",
   "execution_count": 9,
   "id": "4d0c13a9-fa1d-4f65-ba1e-5ccf56fbf38d",
   "metadata": {},
   "outputs": [],
   "source": [
    "data = open('../input/day22').readlines()\n",
    "commands = []\n",
    "for command in data:\n",
    "    command = command.split()\n",
    "    commands.append((command[0] == 'on', \n",
    "                     list(map(int, re.findall('-?\\d+', command[1])))))"
   ]
  },
  {
   "cell_type": "code",
   "execution_count": 15,
   "id": "aa28e152-4305-405b-a155-6795961997db",
   "metadata": {},
   "outputs": [],
   "source": [
    "mn_x, mx_x =  min(c[1][0] for c in commands), max(c[1][1] for c in commands), \n",
    "mn_y, mx_y =  min(c[1][2] for c in commands), max(c[1][3] for c in commands), \n",
    "mn_z, mx_z =  min(c[1][3] for c in commands), max(c[1][5] for c in commands), "
   ]
  },
  {
   "cell_type": "code",
   "execution_count": 23,
   "id": "ba92d34b-8c41-4e61-b3bb-8a7f4944f02f",
   "metadata": {},
   "outputs": [],
   "source": [
    "nx = mx_x - mn_x + 1\n",
    "ny = mx_y - mn_y + 1\n",
    "nz = mx_z - mn_z + 1"
   ]
  },
  {
   "cell_type": "code",
   "execution_count": 37,
   "id": "5cc80906-4456-44dc-9550-5631f86da1f5",
   "metadata": {},
   "outputs": [],
   "source": [
    "inf  = float('inf')\n",
    "minf = -inf\n",
    "\n",
    "zs = [[minf, minf], [inf, inf]]"
   ]
  },
  {
   "cell_type": "code",
   "execution_count": 53,
   "id": "e5ead305-7d12-4bc2-b738-daf7de889724",
   "metadata": {},
   "outputs": [],
   "source": [
    "def insert_z(ll, uu):\n",
    "    for i, (l, u) in enumerate(zs):\n",
    "        if ll > uu: break\n",
    "        if uu < l:\n",
    "            zs.insert(i, [ll, uu])\n",
    "            return zs\n",
    "        if ll > u:\n",
    "            continue\n",
    "        \n",
    "        if ll <= l: \n",
    "            zs[i][0] = ll\n",
    "        \n",
    "        if uu > u:\n",
    "            ll = u+1\n",
    "        else:\n",
    "            return zs\n",
    "    return zs\n",
    "        \n",
    "        "
   ]
  },
  {
   "cell_type": "code",
   "execution_count": 54,
   "id": "08412cec-9dc9-460e-8c0b-dd7dfdd71755",
   "metadata": {},
   "outputs": [
    {
     "data": {
      "text/plain": [
       "[[-inf, -inf], [-5, 5], [10, 20], [21, 30], [inf, inf]]"
      ]
     },
     "execution_count": 54,
     "metadata": {},
     "output_type": "execute_result"
    }
   ],
   "source": [
    "zs = [[minf, minf], [inf, inf]]\n",
    "insert_z(-5, 5)\n",
    "insert_z(10, 20)\n",
    "insert_z(15, 30)"
   ]
  },
  {
   "cell_type": "code",
   "execution_count": 55,
   "id": "1821aecb-1b09-42f1-923d-01d697e303cd",
   "metadata": {},
   "outputs": [
    {
     "data": {
      "text/plain": [
       "[[-inf, -inf], [-5, 5], [8, 20], [21, 30], [inf, inf]]"
      ]
     },
     "execution_count": 55,
     "metadata": {},
     "output_type": "execute_result"
    }
   ],
   "source": [
    "insert_z(8, 15)"
   ]
  },
  {
   "cell_type": "code",
   "execution_count": 56,
   "id": "c72ad1e0-a787-4d95-9967-899d29081146",
   "metadata": {},
   "outputs": [
    {
     "data": {
      "text/plain": [
       "[[-inf, -inf], [-5, 5], [6, 20], [21, 30], [inf, inf]]"
      ]
     },
     "execution_count": 56,
     "metadata": {},
     "output_type": "execute_result"
    }
   ],
   "source": [
    "insert_z(3, 15)"
   ]
  },
  {
   "cell_type": "code",
   "execution_count": null,
   "id": "1c6affb8-798a-4628-9c90-9952d32514f7",
   "metadata": {},
   "outputs": [],
   "source": []
  }
 ],
 "metadata": {
  "kernelspec": {
   "display_name": "Python 3",
   "language": "python",
   "name": "python3"
  },
  "language_info": {
   "codemirror_mode": {
    "name": "ipython",
    "version": 3
   },
   "file_extension": ".py",
   "mimetype": "text/x-python",
   "name": "python",
   "nbconvert_exporter": "python",
   "pygments_lexer": "ipython3",
   "version": "3.10.1"
  }
 },
 "nbformat": 4,
 "nbformat_minor": 5
}
