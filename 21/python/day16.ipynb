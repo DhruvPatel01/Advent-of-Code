{
 "cells": [
  {
   "cell_type": "code",
   "execution_count": 1,
   "id": "5ed1c2ef-4c1c-40f5-b9b7-b0418db68dba",
   "metadata": {},
   "outputs": [],
   "source": [
    "from math import prod"
   ]
  },
  {
   "cell_type": "code",
   "execution_count": 2,
   "id": "cf539d43-309e-4dff-8b57-a2185fe88bc9",
   "metadata": {},
   "outputs": [],
   "source": [
    "def parse_literal(s):\n",
    "    res, i = '', 0\n",
    "    while True:\n",
    "        res += s[i+1:i+5]\n",
    "        i += 5\n",
    "        if s[i-5] == '0': break\n",
    "    return s[i:], int(res, 2)\n",
    "\n",
    "def parse_operator(s):\n",
    "    packets = []\n",
    "    if s[0] == '0':\n",
    "        length, s = int(s[1:16], 2), s[16:]\n",
    "        s_ret, s = s[length:], s[:length]\n",
    "        while s:\n",
    "            s, p = parse(s)\n",
    "            packets.append(p)\n",
    "        s = s_ret\n",
    "    else:\n",
    "        length, s = int(s[1:12], 2), s[12:]\n",
    "        for i in range(length):\n",
    "            s, p = parse(s)\n",
    "            packets.append(p)\n",
    "    return s, packets\n",
    "        \n",
    "    \n",
    "def parse(s):\n",
    "    ver, op, s = int(s[:3], 2), int(s[3:6], 2), s[6:]\n",
    "    if op == 4: s, p = parse_literal(s)\n",
    "    else: s, p = parse_operator(s)\n",
    "    return s, (ver, op, p)\n",
    "    "
   ]
  },
  {
   "cell_type": "code",
   "execution_count": 3,
   "id": "014fcd6e-dc58-4528-ad70-5ba8744436bc",
   "metadata": {},
   "outputs": [],
   "source": [
    "inp = '{:b}'.format(int(open('../input/day16').read().strip(), 16))\n",
    "_, parsed = parse(inp)"
   ]
  },
  {
   "cell_type": "code",
   "execution_count": 4,
   "id": "6b75a29e-601a-45b6-9a71-a030cd085011",
   "metadata": {},
   "outputs": [],
   "source": [
    "def part1(inp):\n",
    "    if isinstance(inp, tuple):\n",
    "        if inp[1] == 4: return inp[0]\n",
    "        return inp[0] + part1(inp[2])\n",
    "    else:\n",
    "        return sum(map(part1, inp))"
   ]
  },
  {
   "cell_type": "code",
   "execution_count": 5,
   "id": "eb443053-0fec-4a72-b28f-5b317ed73638",
   "metadata": {},
   "outputs": [
    {
     "data": {
      "text/plain": [
       "879"
      ]
     },
     "execution_count": 5,
     "metadata": {},
     "output_type": "execute_result"
    }
   ],
   "source": [
    "part1(parsed)"
   ]
  },
  {
   "cell_type": "code",
   "execution_count": 6,
   "id": "f79e3307-4e62-47c0-9948-f4c3696553ba",
   "metadata": {},
   "outputs": [],
   "source": [
    "def part2(inp):\n",
    "    ver, op, operands = inp\n",
    "    if op == 0: return sum(map(part2, operands))\n",
    "    if op == 1: return prod(map(part2, operands))\n",
    "    if op == 2: return min(map(part2, operands))\n",
    "    if op == 3: return max(map(part2, operands))\n",
    "    if op == 4: return operands\n",
    "    if op == 5: return 1 if part2(operands[0]) > part2(operands[1]) else 0\n",
    "    if op == 6: return 1 if part2(operands[0]) < part2(operands[1]) else 0\n",
    "    if op == 7: return 1 if part2(operands[0]) == part2(operands[1]) else 0"
   ]
  },
  {
   "cell_type": "code",
   "execution_count": 7,
   "id": "b3f68332-84ed-4128-800d-e05139273514",
   "metadata": {},
   "outputs": [
    {
     "data": {
      "text/plain": [
       "539051801941"
      ]
     },
     "execution_count": 7,
     "metadata": {},
     "output_type": "execute_result"
    }
   ],
   "source": [
    "part2(parsed)"
   ]
  }
 ],
 "metadata": {
  "kernelspec": {
   "display_name": "Python 3",
   "language": "python",
   "name": "python3"
  },
  "language_info": {
   "codemirror_mode": {
    "name": "ipython",
    "version": 3
   },
   "file_extension": ".py",
   "mimetype": "text/x-python",
   "name": "python",
   "nbconvert_exporter": "python",
   "pygments_lexer": "ipython3",
   "version": "3.10.1"
  }
 },
 "nbformat": 4,
 "nbformat_minor": 5
}
