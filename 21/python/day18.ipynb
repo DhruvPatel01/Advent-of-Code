{
 "cells": [
  {
   "cell_type": "code",
   "execution_count": 92,
   "id": "fb29869c-87bf-4f3f-b773-a14569ac4ec5",
   "metadata": {},
   "outputs": [],
   "source": [
    "from itertools import chain, permutations"
   ]
  },
  {
   "cell_type": "code",
   "execution_count": 2,
   "id": "6b290f03-2684-40d8-9fa5-12a0ae5049f2",
   "metadata": {},
   "outputs": [],
   "source": [
    "def read_snailno(s):\n",
    "    depth = 0\n",
    "    stack = []\n",
    "    reg = 0\n",
    "    prev_reg = True\n",
    "    for c in s:\n",
    "        if   c == '[':\n",
    "            depth += 1\n",
    "            prev_reg = False\n",
    "        elif c == ']':\n",
    "            if prev_reg:\n",
    "                stack.append((reg, depth))\n",
    "                reg = 0\n",
    "            depth -= 1\n",
    "            prev_reg = False\n",
    "        elif c == ',':\n",
    "            if prev_reg:\n",
    "                stack.append((reg, depth))\n",
    "                reg = 0\n",
    "            prev_reg = False\n",
    "        else:\n",
    "            reg = reg*10 + int(c)\n",
    "            prev_reg = True\n",
    "    return stack"
   ]
  },
  {
   "cell_type": "code",
   "execution_count": 41,
   "id": "f79f7282-d472-4620-a922-25baccf5cfb3",
   "metadata": {},
   "outputs": [],
   "source": [
    "def exploded_addtion(l, r):\n",
    "    result = []\n",
    "    carry = 0\n",
    "    it = chain(l, r)\n",
    "    for (reg, depth) in it:\n",
    "        if depth >= 4:\n",
    "            if result:\n",
    "                (prev, pdepth) = result.pop()\n",
    "                result.append((prev+reg+carry, pdepth))\n",
    "            carry, _ = next(it)\n",
    "            result.append((0, depth))\n",
    "        else:\n",
    "            result.append((reg+carry, depth+1))\n",
    "            carry = 0\n",
    "    return result"
   ]
  },
  {
   "cell_type": "code",
   "execution_count": 42,
   "id": "e4465365-e58e-4e7d-bc98-b9c005110d58",
   "metadata": {},
   "outputs": [],
   "source": [
    "l = read_snailno('[[[[4,3],4],4],[7,[[8,4],9]]]')\n",
    "r = read_snailno('[1,1]')"
   ]
  },
  {
   "cell_type": "code",
   "execution_count": 43,
   "id": "e8e404dc-26bb-4255-b048-60ec92eccd27",
   "metadata": {},
   "outputs": [],
   "source": [
    "# import pprint\n",
    "# pp = pprint.PrettyPrinter(indent=4, width = 10)\n",
    "# pp.pprint(eval('[[[[[4,3],4],4],[7,[[8,4],9]]],[1,1]]'))"
   ]
  },
  {
   "cell_type": "code",
   "execution_count": 44,
   "id": "33397af8-895f-4001-8e60-e1c034ebd19c",
   "metadata": {},
   "outputs": [
    {
     "data": {
      "text/plain": [
       "[(0, 4), (7, 4), (4, 3), (15, 3), (0, 4), (13, 4), (1, 2), (1, 2)]"
      ]
     },
     "execution_count": 44,
     "metadata": {},
     "output_type": "execute_result"
    }
   ],
   "source": [
    "exploded_addtion(l, r)"
   ]
  },
  {
   "cell_type": "code",
   "execution_count": 45,
   "id": "abdff4c1-97c8-407e-b99d-cc15192835fb",
   "metadata": {},
   "outputs": [],
   "source": [
    "def split(s):\n",
    "    result = []\n",
    "    carry = 0\n",
    "    it = iter(s)\n",
    "    for reg, depth in it:\n",
    "        reg += carry\n",
    "        carry = 0\n",
    "        \n",
    "        if reg < 10: \n",
    "            result.append((reg, depth))\n",
    "        else:\n",
    "            a = reg//2\n",
    "            b = reg - a\n",
    "            if depth < 4:\n",
    "                result.append((a, depth+1))\n",
    "                result.append((b, depth+1))\n",
    "                result.extend(it)\n",
    "                return split(result)\n",
    "            else:\n",
    "                if result:\n",
    "                    prev, pdepth = result.pop()\n",
    "                    result.append((prev+a, pdepth))\n",
    "                carry = b\n",
    "                result.append((0, depth))\n",
    "                for (reg, depth) in it:\n",
    "                    result.append((reg+carry, depth))\n",
    "                    carry = 0\n",
    "                return split(result)\n",
    "    return result"
   ]
  },
  {
   "cell_type": "code",
   "execution_count": 46,
   "id": "5f8bb6e0-b4a3-498d-9f2f-1bbfcafeecd9",
   "metadata": {},
   "outputs": [
    {
     "data": {
      "text/plain": [
       "[(0, 4), (7, 4), (4, 3), (7, 4), (8, 4), (6, 4), (0, 4), (8, 2), (1, 2)]"
      ]
     },
     "execution_count": 46,
     "metadata": {},
     "output_type": "execute_result"
    }
   ],
   "source": [
    "s = read_snailno('[[[[0,7],4],[15,[0,13]]],[1,1]]')\n",
    "\n",
    "split(s)"
   ]
  },
  {
   "cell_type": "code",
   "execution_count": 86,
   "id": "60b18ee0-4938-4b4a-937b-a3f071a5da68",
   "metadata": {},
   "outputs": [],
   "source": [
    "# inp = '''[[[0,[4,5]],[0,0]],[[[4,5],[2,6]],[9,5]]]\n",
    "# [7,[[[3,7],[4,3]],[[6,3],[8,8]]]]\n",
    "# [[2,[[0,8],[3,4]]],[[[6,7],1],[7,[1,6]]]]\n",
    "# [[[[2,4],7],[6,[0,5]]],[[[6,8],[2,8]],[[2,1],[4,5]]]]\n",
    "# [7,[5,[[3,8],[1,4]]]]\n",
    "# [[2,[2,2]],[8,[8,1]]]\n",
    "# [2,9]\n",
    "# [1,[[[9,3],9],[[9,0],[0,7]]]]\n",
    "# [[[5,[7,4]],7],1]\n",
    "# [[[[4,2],2],6],[8,7]]'''\n",
    "\n",
    "# inp = '''[[[0,[5,8]],[[1,7],[9,6]]],[[4,[1,2]],[[1,4],2]]]\n",
    "# [[[5,[2,8]],4],[5,[[9,9],0]]]\n",
    "# [6,[[[6,2],[5,6]],[[7,6],[4,7]]]]\n",
    "# [[[6,[0,7]],[0,9]],[4,[9,[9,0]]]]\n",
    "# [[[7,[6,4]],[3,[1,3]]],[[[5,5],1],9]]\n",
    "# [[6,[[7,3],[3,2]]],[[[3,8],[5,7]],4]]\n",
    "# [[[[5,4],[7,7]],8],[[8,3],8]]\n",
    "# [[9,3],[[9,9],[6,[4,9]]]]\n",
    "# [[2,[[7,7],7]],[[5,8],[[9,3],[0,2]]]]\n",
    "# [[[[5,2],5],[8,[3,7]]],[[5,[7,5]],[4,4]]]'''\n",
    "\n",
    "inp = open('../input/day18').read().strip()"
   ]
  },
  {
   "cell_type": "code",
   "execution_count": 87,
   "id": "f6907648-7735-43a7-bf4d-c7b168fcafcc",
   "metadata": {},
   "outputs": [],
   "source": [
    "nos = list(map(read_snailno, inp.strip().split('\\n')))"
   ]
  },
  {
   "cell_type": "code",
   "execution_count": 88,
   "id": "b4375512-cb02-4c28-b86c-064db8a9d09e",
   "metadata": {},
   "outputs": [],
   "source": [
    "l = nos[0]\n",
    "for r in nos[1:]:\n",
    "    l = exploded_addtion(l, r)\n",
    "    l = split(l)"
   ]
  },
  {
   "cell_type": "code",
   "execution_count": 89,
   "id": "2181f169-135f-4c85-a652-826ecfe582e0",
   "metadata": {},
   "outputs": [],
   "source": [
    "def magnitude(s):\n",
    "    stack = []\n",
    "    for elem in s:\n",
    "        stack.append(elem)\n",
    "        while len(stack) > 1 and stack[-1][-1] == stack[-2][-1]:\n",
    "            r, d = stack.pop()\n",
    "            l, d = stack.pop()\n",
    "            stack.append((3*l+2*r, d-1))\n",
    "    return stack[0][0]"
   ]
  },
  {
   "cell_type": "code",
   "execution_count": 91,
   "id": "8909104f-0106-4848-bf6d-724727d50a96",
   "metadata": {},
   "outputs": [
    {
     "name": "stdout",
     "output_type": "stream",
     "text": [
      "Part1:  4323\n"
     ]
    }
   ],
   "source": [
    "print(\"Part1: \", magnitude(l))"
   ]
  },
  {
   "cell_type": "code",
   "execution_count": 95,
   "id": "e1ea99a9-c3fb-44f6-9c29-333648b39dcb",
   "metadata": {},
   "outputs": [],
   "source": [
    "largest = float('-inf')\n",
    "for l, r in permutations(nos, 2):\n",
    "    n = magnitude(split(exploded_addtion(l, r)))\n",
    "    if n > largest:\n",
    "        largest = n"
   ]
  },
  {
   "cell_type": "code",
   "execution_count": 97,
   "id": "5aa424fe-4139-4376-8e62-1760383a432a",
   "metadata": {},
   "outputs": [
    {
     "name": "stdout",
     "output_type": "stream",
     "text": [
      "Part2:  4749\n"
     ]
    }
   ],
   "source": [
    "print(\"Part2: \", largest)"
   ]
  },
  {
   "cell_type": "code",
   "execution_count": null,
   "id": "2e94b671-03fb-4948-915c-f817de13c220",
   "metadata": {},
   "outputs": [],
   "source": []
  }
 ],
 "metadata": {
  "kernelspec": {
   "display_name": "Python 3",
   "language": "python",
   "name": "python3"
  },
  "language_info": {
   "codemirror_mode": {
    "name": "ipython",
    "version": 3
   },
   "file_extension": ".py",
   "mimetype": "text/x-python",
   "name": "python",
   "nbconvert_exporter": "python",
   "pygments_lexer": "ipython3",
   "version": "3.10.1"
  }
 },
 "nbformat": 4,
 "nbformat_minor": 5
}
