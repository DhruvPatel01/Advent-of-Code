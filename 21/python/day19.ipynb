{
 "cells": [
  {
   "cell_type": "code",
   "execution_count": 1,
   "id": "716d5c37-e715-41fe-9f76-a3619aa6287a",
   "metadata": {},
   "outputs": [],
   "source": [
    "import numpy as np\n",
    "from itertools import permutations\n",
    "from tqdm.notebook import trange\n",
    "from scipy.spatial.transform import Rotation as R"
   ]
  },
  {
   "cell_type": "code",
   "execution_count": 3,
   "id": "4956b8d6-56e6-40bb-a798-e81457853fc8",
   "metadata": {},
   "outputs": [],
   "source": [
    "rots = []\n",
    "for x in [0, 90, 180, 270]:\n",
    "    for y in [0, 90, 180, 270]:\n",
    "        for z in [0, 90, 180, 270]:\n",
    "            r = R.from_euler('xyz', [x, y, z], degrees=True).as_matrix()\n",
    "            r = r * (np.abs(r) > .01)\n",
    "            if np.linalg.matrix_rank(r) == 3:\n",
    "                rots.append(r + 0)\n",
    "\n",
    "new = []\n",
    "for m in rots:\n",
    "    for n in new:\n",
    "        if np.allclose(m, n):\n",
    "            break\n",
    "    else:\n",
    "        new.append(m)\n",
    "        \n",
    "rots = new"
   ]
  },
  {
   "cell_type": "code",
   "execution_count": 47,
   "id": "6de6eaf6-18af-42c1-b019-f9b1fe1391fc",
   "metadata": {},
   "outputs": [],
   "source": [
    "scanners = []\n",
    "# it = iter(open('./test.txt').readlines())\n",
    "it = iter(open('../input/day19').readlines())\n",
    "cur = None\n",
    "for line in it:\n",
    "    if not line.strip(): continue\n",
    "    if 'scanner' in line:\n",
    "        if cur is not None:\n",
    "            scanners.append(np.array(cur))\n",
    "        cur = []\n",
    "    else:\n",
    "        cur.append(list(map(int, line.split(','))))\n",
    "scanners.append(np.array(cur))     "
   ]
  },
  {
   "cell_type": "code",
   "execution_count": 48,
   "id": "79aeeb44-290e-40ea-b18f-98e90ec88964",
   "metadata": {},
   "outputs": [],
   "source": [
    "def np2set(a):\n",
    "    return set(map(tuple, a))\n",
    "\n",
    "\n",
    "def correspondance(s1, s2):\n",
    "    s2set = np2set(s2)\n",
    "    for r in rots:\n",
    "        # p2 = r*p1 + b => b = p2 - r*p1\n",
    "        for p1 in s1:\n",
    "            for p2 in s2:\n",
    "                b = p2 - r@p1\n",
    "                tmp = np2set((r@s1.T).T + b)\n",
    "                if len(s2set & tmp) >= 12:\n",
    "                    return r, b"
   ]
  },
  {
   "cell_type": "code",
   "execution_count": 49,
   "id": "c8df8b7c-04a8-4a5f-88de-a8bc03f8ed76",
   "metadata": {},
   "outputs": [
    {
     "data": {
      "application/vnd.jupyter.widget-view+json": {
       "model_id": "24d2f658da3f49b89ecf08aa8e0010d3",
       "version_major": 2,
       "version_minor": 0
      },
      "text/plain": [
       "  0%|          | 0/32 [00:00<?, ?it/s]"
      ]
     },
     "metadata": {},
     "output_type": "display_data"
    },
    {
     "data": {
      "application/vnd.jupyter.widget-view+json": {
       "model_id": "17b5287aa92046ffb795de17484f9b4b",
       "version_major": 2,
       "version_minor": 0
      },
      "text/plain": [
       "  0%|          | 0/32 [00:00<?, ?it/s]"
      ]
     },
     "metadata": {},
     "output_type": "display_data"
    },
    {
     "data": {
      "application/vnd.jupyter.widget-view+json": {
       "model_id": "3d3eae41ceb94494944944ae434a919d",
       "version_major": 2,
       "version_minor": 0
      },
      "text/plain": [
       "  0%|          | 0/32 [00:00<?, ?it/s]"
      ]
     },
     "metadata": {},
     "output_type": "display_data"
    },
    {
     "data": {
      "application/vnd.jupyter.widget-view+json": {
       "model_id": "b9ff9ab72eff4027895d340cf6824462",
       "version_major": 2,
       "version_minor": 0
      },
      "text/plain": [
       "  0%|          | 0/32 [00:00<?, ?it/s]"
      ]
     },
     "metadata": {},
     "output_type": "display_data"
    },
    {
     "data": {
      "application/vnd.jupyter.widget-view+json": {
       "model_id": "c4d84d90d90d4c45b96acc4569e84079",
       "version_major": 2,
       "version_minor": 0
      },
      "text/plain": [
       "  0%|          | 0/32 [00:00<?, ?it/s]"
      ]
     },
     "metadata": {},
     "output_type": "display_data"
    },
    {
     "data": {
      "application/vnd.jupyter.widget-view+json": {
       "model_id": "17d0d490e56347a7825a93e38f3283fd",
       "version_major": 2,
       "version_minor": 0
      },
      "text/plain": [
       "  0%|          | 0/32 [00:00<?, ?it/s]"
      ]
     },
     "metadata": {},
     "output_type": "display_data"
    },
    {
     "data": {
      "application/vnd.jupyter.widget-view+json": {
       "model_id": "c85df516a30047bbad46885379818ac6",
       "version_major": 2,
       "version_minor": 0
      },
      "text/plain": [
       "  0%|          | 0/32 [00:00<?, ?it/s]"
      ]
     },
     "metadata": {},
     "output_type": "display_data"
    },
    {
     "data": {
      "application/vnd.jupyter.widget-view+json": {
       "model_id": "3664993a291443a9add8ba41efc9d632",
       "version_major": 2,
       "version_minor": 0
      },
      "text/plain": [
       "  0%|          | 0/32 [00:00<?, ?it/s]"
      ]
     },
     "metadata": {},
     "output_type": "display_data"
    },
    {
     "data": {
      "application/vnd.jupyter.widget-view+json": {
       "model_id": "956d6afc6f4e4f00abd5c25d24f12f2b",
       "version_major": 2,
       "version_minor": 0
      },
      "text/plain": [
       "  0%|          | 0/32 [00:00<?, ?it/s]"
      ]
     },
     "metadata": {},
     "output_type": "display_data"
    },
    {
     "data": {
      "application/vnd.jupyter.widget-view+json": {
       "model_id": "3e7596e172cd4d23950041488c4b3e9f",
       "version_major": 2,
       "version_minor": 0
      },
      "text/plain": [
       "  0%|          | 0/32 [00:00<?, ?it/s]"
      ]
     },
     "metadata": {},
     "output_type": "display_data"
    },
    {
     "data": {
      "application/vnd.jupyter.widget-view+json": {
       "model_id": "4329ccb3d0734bc3b1d5c3db9fee82a4",
       "version_major": 2,
       "version_minor": 0
      },
      "text/plain": [
       "  0%|          | 0/32 [00:00<?, ?it/s]"
      ]
     },
     "metadata": {},
     "output_type": "display_data"
    },
    {
     "data": {
      "application/vnd.jupyter.widget-view+json": {
       "model_id": "be02f4df83aa48eaa5c55ac0b809a3b2",
       "version_major": 2,
       "version_minor": 0
      },
      "text/plain": [
       "  0%|          | 0/32 [00:00<?, ?it/s]"
      ]
     },
     "metadata": {},
     "output_type": "display_data"
    },
    {
     "data": {
      "application/vnd.jupyter.widget-view+json": {
       "model_id": "5523b123d5e84dc69855966278a1b3d2",
       "version_major": 2,
       "version_minor": 0
      },
      "text/plain": [
       "  0%|          | 0/32 [00:00<?, ?it/s]"
      ]
     },
     "metadata": {},
     "output_type": "display_data"
    },
    {
     "data": {
      "application/vnd.jupyter.widget-view+json": {
       "model_id": "31298beb9f78402496de4a56954d0d02",
       "version_major": 2,
       "version_minor": 0
      },
      "text/plain": [
       "  0%|          | 0/32 [00:00<?, ?it/s]"
      ]
     },
     "metadata": {},
     "output_type": "display_data"
    },
    {
     "data": {
      "application/vnd.jupyter.widget-view+json": {
       "model_id": "ae2f10ef7a3142ce8272bd3352952f85",
       "version_major": 2,
       "version_minor": 0
      },
      "text/plain": [
       "  0%|          | 0/32 [00:00<?, ?it/s]"
      ]
     },
     "metadata": {},
     "output_type": "display_data"
    },
    {
     "data": {
      "application/vnd.jupyter.widget-view+json": {
       "model_id": "c63a697e65224fda81c29408921d4645",
       "version_major": 2,
       "version_minor": 0
      },
      "text/plain": [
       "  0%|          | 0/32 [00:00<?, ?it/s]"
      ]
     },
     "metadata": {},
     "output_type": "display_data"
    },
    {
     "data": {
      "application/vnd.jupyter.widget-view+json": {
       "model_id": "999f7d83f0fe4f2b859362f9a08b640e",
       "version_major": 2,
       "version_minor": 0
      },
      "text/plain": [
       "  0%|          | 0/32 [00:00<?, ?it/s]"
      ]
     },
     "metadata": {},
     "output_type": "display_data"
    },
    {
     "data": {
      "application/vnd.jupyter.widget-view+json": {
       "model_id": "f8bb6c7dbcf1432eac0715ad115599b1",
       "version_major": 2,
       "version_minor": 0
      },
      "text/plain": [
       "  0%|          | 0/32 [00:00<?, ?it/s]"
      ]
     },
     "metadata": {},
     "output_type": "display_data"
    },
    {
     "data": {
      "application/vnd.jupyter.widget-view+json": {
       "model_id": "eef4aa1539de4f5b82ac0389e5cb62f5",
       "version_major": 2,
       "version_minor": 0
      },
      "text/plain": [
       "  0%|          | 0/32 [00:00<?, ?it/s]"
      ]
     },
     "metadata": {},
     "output_type": "display_data"
    },
    {
     "data": {
      "application/vnd.jupyter.widget-view+json": {
       "model_id": "9748f02eb35740eba5a8428af41c45d8",
       "version_major": 2,
       "version_minor": 0
      },
      "text/plain": [
       "  0%|          | 0/32 [00:00<?, ?it/s]"
      ]
     },
     "metadata": {},
     "output_type": "display_data"
    },
    {
     "data": {
      "application/vnd.jupyter.widget-view+json": {
       "model_id": "5875ba1bd2044661b19f53328c8ed7bf",
       "version_major": 2,
       "version_minor": 0
      },
      "text/plain": [
       "  0%|          | 0/32 [00:00<?, ?it/s]"
      ]
     },
     "metadata": {},
     "output_type": "display_data"
    },
    {
     "data": {
      "application/vnd.jupyter.widget-view+json": {
       "model_id": "27eabe37465d4b2ca795c0d3bbed928a",
       "version_major": 2,
       "version_minor": 0
      },
      "text/plain": [
       "  0%|          | 0/32 [00:00<?, ?it/s]"
      ]
     },
     "metadata": {},
     "output_type": "display_data"
    },
    {
     "data": {
      "application/vnd.jupyter.widget-view+json": {
       "model_id": "220a1cf386c04404a702e634f161c977",
       "version_major": 2,
       "version_minor": 0
      },
      "text/plain": [
       "  0%|          | 0/32 [00:00<?, ?it/s]"
      ]
     },
     "metadata": {},
     "output_type": "display_data"
    },
    {
     "data": {
      "application/vnd.jupyter.widget-view+json": {
       "model_id": "bac1ba0a0f7f4aa2876a7a4e17d1381a",
       "version_major": 2,
       "version_minor": 0
      },
      "text/plain": [
       "  0%|          | 0/32 [00:00<?, ?it/s]"
      ]
     },
     "metadata": {},
     "output_type": "display_data"
    },
    {
     "data": {
      "application/vnd.jupyter.widget-view+json": {
       "model_id": "408594b3af144dd989d6091ef82dc784",
       "version_major": 2,
       "version_minor": 0
      },
      "text/plain": [
       "  0%|          | 0/32 [00:00<?, ?it/s]"
      ]
     },
     "metadata": {},
     "output_type": "display_data"
    },
    {
     "data": {
      "application/vnd.jupyter.widget-view+json": {
       "model_id": "9b9a2d9fc5be4822a89695556994007b",
       "version_major": 2,
       "version_minor": 0
      },
      "text/plain": [
       "  0%|          | 0/32 [00:00<?, ?it/s]"
      ]
     },
     "metadata": {},
     "output_type": "display_data"
    },
    {
     "data": {
      "application/vnd.jupyter.widget-view+json": {
       "model_id": "70e1c2878ec54275841772bc0e7a4f79",
       "version_major": 2,
       "version_minor": 0
      },
      "text/plain": [
       "  0%|          | 0/32 [00:00<?, ?it/s]"
      ]
     },
     "metadata": {},
     "output_type": "display_data"
    },
    {
     "data": {
      "application/vnd.jupyter.widget-view+json": {
       "model_id": "dec6a9c92d664446b7e1cb4e9e13ea94",
       "version_major": 2,
       "version_minor": 0
      },
      "text/plain": [
       "  0%|          | 0/32 [00:00<?, ?it/s]"
      ]
     },
     "metadata": {},
     "output_type": "display_data"
    },
    {
     "data": {
      "application/vnd.jupyter.widget-view+json": {
       "model_id": "4e2ade4c151b40dabafe224b527b9388",
       "version_major": 2,
       "version_minor": 0
      },
      "text/plain": [
       "  0%|          | 0/32 [00:00<?, ?it/s]"
      ]
     },
     "metadata": {},
     "output_type": "display_data"
    },
    {
     "data": {
      "application/vnd.jupyter.widget-view+json": {
       "model_id": "3e0cd4c57cf547ecbd05f3057a94262e",
       "version_major": 2,
       "version_minor": 0
      },
      "text/plain": [
       "  0%|          | 0/32 [00:00<?, ?it/s]"
      ]
     },
     "metadata": {},
     "output_type": "display_data"
    },
    {
     "data": {
      "application/vnd.jupyter.widget-view+json": {
       "model_id": "45f9d01004cd44f3802c27e9ed3e2dc0",
       "version_major": 2,
       "version_minor": 0
      },
      "text/plain": [
       "  0%|          | 0/32 [00:00<?, ?it/s]"
      ]
     },
     "metadata": {},
     "output_type": "display_data"
    },
    {
     "data": {
      "application/vnd.jupyter.widget-view+json": {
       "model_id": "d47646c473864a3eb3b2f4db8e39f586",
       "version_major": 2,
       "version_minor": 0
      },
      "text/plain": [
       "  0%|          | 0/32 [00:00<?, ?it/s]"
      ]
     },
     "metadata": {},
     "output_type": "display_data"
    },
    {
     "data": {
      "application/vnd.jupyter.widget-view+json": {
       "model_id": "e9175e9dfaf449f29a80a1b926bb77ad",
       "version_major": 2,
       "version_minor": 0
      },
      "text/plain": [
       "  0%|          | 0/32 [00:00<?, ?it/s]"
      ]
     },
     "metadata": {},
     "output_type": "display_data"
    }
   ],
   "source": [
    "d = {}\n",
    "for i in trange(len(scanners)):\n",
    "    for j in trange(len(scanners)):\n",
    "        if i == j: continue\n",
    "        res = correspondance(scanners[i], scanners[j])\n",
    "        if res is not None:\n",
    "            d[i, j] = res"
   ]
  },
  {
   "cell_type": "code",
   "execution_count": 76,
   "id": "84ecdde7-0ef6-4c3f-8681-1f61a59c3ccc",
   "metadata": {
    "tags": []
   },
   "outputs": [
    {
     "name": "stdout",
     "output_type": "stream",
     "text": [
      "{17, 12, 20}\n",
      "28\n",
      "{0, 27}\n",
      "26\n",
      "{8, 9, 21}\n",
      "23\n",
      "{1, 6, 11, 28, 31}\n",
      "18\n",
      "{3, 4, 7, 10, 16, 29}\n",
      "12\n",
      "{5, 13, 23, 24, 30}\n",
      "7\n",
      "{14, 15, 18, 19, 22, 25, 26}\n",
      "0\n"
     ]
    }
   ],
   "source": [
    "convs = {0: (np.eye(3), np.zeros(3))}\n",
    "not_found = set(range(len(scanners))) - set(convs.keys())\n",
    "while not_found:\n",
    "    to_remove = set()\n",
    "    to_add = {}\n",
    "    for i in not_found:\n",
    "        for j in convs:\n",
    "            rj, bj = convs[j]\n",
    "            if (i, j) in d:\n",
    "                ri, bi = d[i, j]\n",
    "                to_add[i] = (rj@ri, rj@bi + bj)\n",
    "                to_remove.add(i)\n",
    "            elif (j, i) in d:\n",
    "                ri, bi = d[j, i]\n",
    "                ri_inv = np.linalg.inv(ri)\n",
    "                to_add[i] = (ri_inv, ri_inv@bi)\n",
    "                to_remove.add(i)\n",
    "    print(to_remove)\n",
    "    not_found = not_found - to_remove\n",
    "    convs.update(to_add)\n",
    "    print(len(not_found))"
   ]
  },
  {
   "cell_type": "code",
   "execution_count": 77,
   "id": "514a97ca-62c2-476f-97a8-ee7a898ec608",
   "metadata": {},
   "outputs": [],
   "source": [
    "points = set()\n",
    "for i, s in enumerate(scanners):\n",
    "    r, b = convs[i]\n",
    "    points.update(np2set((r@s.T).T + b))"
   ]
  },
  {
   "cell_type": "code",
   "execution_count": 78,
   "id": "53e10d9c-615b-429a-bfbc-bfd2a1fd6cb1",
   "metadata": {},
   "outputs": [
    {
     "data": {
      "text/plain": [
       "467"
      ]
     },
     "execution_count": 78,
     "metadata": {},
     "output_type": "execute_result"
    }
   ],
   "source": [
    "len(points)"
   ]
  },
  {
   "cell_type": "code",
   "execution_count": 59,
   "id": "69321d54-fa14-4585-983b-b7abadbf766d",
   "metadata": {},
   "outputs": [],
   "source": [
    "import networkx as nx"
   ]
  },
  {
   "cell_type": "code",
   "execution_count": 60,
   "id": "4b64a451-83c0-43cf-abda-82b1762ebe43",
   "metadata": {},
   "outputs": [],
   "source": [
    "g = nx.Graph()"
   ]
  },
  {
   "cell_type": "code",
   "execution_count": 61,
   "id": "c17ea22d-4cba-4825-b66f-d096c17f1161",
   "metadata": {},
   "outputs": [],
   "source": [
    "for i, j in d:\n",
    "    g.add_edge(i, j)"
   ]
  },
  {
   "cell_type": "code",
   "execution_count": 63,
   "id": "ce5ced54-c663-455d-ac19-369a83fc07b0",
   "metadata": {},
   "outputs": [
    {
     "data": {
      "image/png": "[encoded data removed]",
      "text/plain": [
       "<Figure size 432x288 with 1 Axes>"
      ]
     },
     "metadata": {},
     "output_type": "display_data"
    }
   ],
   "source": [
    "nx.draw(g)"
   ]
  },
  {
   "cell_type": "code",
   "execution_count": 67,
   "id": "d295c110-7919-4d49-9e14-187592226bb0",
   "metadata": {},
   "outputs": [],
   "source": [
    "points = set(map(lambda x: tuple(map(int, x)), points))"
   ]
  },
  {
   "cell_type": "code",
   "execution_count": 69,
   "id": "c29b21eb-f62b-4877-b859-b2d82baba294",
   "metadata": {},
   "outputs": [
    {
     "data": {
      "text/plain": [
       "{(-4273, -575, -811),\n",
       " (-4232, -822, -1774),\n",
       " (-4228, -497, -883),\n",
       " (-4202, -590, -720),\n",
       " (-4168, 637, -683),\n",
       " (-4160, 510, -747),\n",
       " (-4148, 645, -690),\n",
       " (-4123, -671, -1807),\n",
       " (-4074, 826, -2029),\n",
       " (-4051, -787, -1703),\n",
       " (-4035, 835, -1984),\n",
       " (-4004, 801, -1857),\n",
       " (-3615, 103, -1303),\n",
       " (-3587, -44, -1171),\n",
       " (-3026, 776, -1769),\n",
       " (-2931, -513, -1914),\n",
       " (-2912, 835, -1807),\n",
       " (-2906, -346, -1875),\n",
       " (-2899, 701, -1770),\n",
       " (-2880, -380, -390),\n",
       " (-2872, -505, -1904),\n",
       " (-2860, -522, -443),\n",
       " (-2847, -306, -458),\n",
       " (-2774, 706, -557),\n",
       " (-2674, 607, -605),\n",
       " (-2667, 868, -577),\n",
       " (-2401, 40, -1315),\n",
       " (-2304, 121, -1133),\n",
       " (-2129, -542, -289),\n",
       " (-2114, -1571, -732),\n",
       " (-2083, -608, 638),\n",
       " (-2066, -1570, -736),\n",
       " (-2063, -625, 610),\n",
       " (-2051, -1568, -684),\n",
       " (-2013, -552, -229),\n",
       " (-2003, -1687, -551),\n",
       " (-1997, -458, -397),\n",
       " (-1966, 870, -1758),\n",
       " (-1963, -452, -320),\n",
       " (-1945, -501, 648),\n",
       " (-1944, -467, -535),\n",
       " (-1942, 2049, -1791),\n",
       " (-1939, -499, -325),\n",
       " (-1936, 1936, -1674),\n",
       " (-1936, 2016, -783),\n",
       " (-1922, 697, -1802),\n",
       " (-1916, 823, -732),\n",
       " (-1898, 2131, -822),\n",
       " (-1884, -1768, -636),\n",
       " (-1882, 790, -812),\n",
       " (-1871, -2663, -1726),\n",
       " (-1868, -2729, 589),\n",
       " (-1866, 2017, -1783),\n",
       " (-1856, -2767, 777),\n",
       " (-1844, -1893, 600),\n",
       " (-1829, -4381, -411),\n",
       " (-1829, -1811, 495),\n",
       " (-1824, 806, -1822),\n",
       " (-1815, -2761, -1841),\n",
       " (-1813, -1681, -501),\n",
       " (-1802, -4340, -371),\n",
       " (-1802, -2736, -1673),\n",
       " (-1790, -1796, 596),\n",
       " (-1784, 909, -781),\n",
       " (-1778, -2671, 693),\n",
       " (-1776, -4428, -439),\n",
       " (-1768, -2687, -838),\n",
       " (-1758, -2702, -564),\n",
       " (-1745, -2791, -726),\n",
       " (-1737, 2016, -832),\n",
       " (-1735, -1872, 609),\n",
       " (-1728, -371, -2047),\n",
       " (-1706, -1955, 671),\n",
       " (-1697, -312, -2016),\n",
       " (-1683, -4401, -1929),\n",
       " (-1662, -274, -2109),\n",
       " (-1644, -4348, -1985),\n",
       " (-1590, -4326, -1815),\n",
       " (-1582, -1913, 585),\n",
       " (-1387, -1301, 49),\n",
       " (-1248, -3453, -1142),\n",
       " (-1238, 1253, -1179),\n",
       " (-1234, 35, -1199),\n",
       " (-1219, -2427, -27),\n",
       " (-1172, -3580, -1246),\n",
       " (-1138, 1158, -1292),\n",
       " (-1099, 148, -1142),\n",
       " (-1092, -2259, -111),\n",
       " (-1066, -41, -1299),\n",
       " (-1028, 446, -642),\n",
       " (-1019, -1876, 425),\n",
       " (-1004, -1931, 653),\n",
       " (-1002, -1971, 588),\n",
       " (-963, -514, -697),\n",
       " (-947, 756, 882),\n",
       " (-940, 445, -582),\n",
       " (-938, 758, 912),\n",
       " (-910, -457, 543),\n",
       " (-903, -667, -766),\n",
       " (-901, -394, 429),\n",
       " (-878, -358, 541),\n",
       " (-869, 375, -657),\n",
       " (-859, -590, -740),\n",
       " (-851, -3061, -1811),\n",
       " (-825, -4143, -2044),\n",
       " (-808, -3212, 812),\n",
       " (-802, -1797, -1898),\n",
       " (-792, -1615, -1998),\n",
       " (-789, -3205, 874),\n",
       " (-786, -4131, -2067),\n",
       " (-785, -3134, -1937),\n",
       " (-780, 792, 801),\n",
       " (-768, -1649, -1988),\n",
       " (-767, -3186, 663),\n",
       " (-756, 714, 660),\n",
       " (-741, 736, 928),\n",
       " (-719, -4204, 1923),\n",
       " (-712, -4135, -2097),\n",
       " (-707, -1616, -582),\n",
       " (-687, -2974, -2850),\n",
       " (-675, -1508, -526),\n",
       " (-675, -734, 554),\n",
       " (-667, 777, 772),\n",
       " (-659, -734, 653),\n",
       " (-645, -3064, -1861),\n",
       " (-643, -825, 592),\n",
       " (-639, -4244, 1979),\n",
       " (-634, -2948, -2790),\n",
       " (-622, -742, 1869),\n",
       " (-619, -4111, 1882),\n",
       " (-619, -4047, -482),\n",
       " (-619, 744, -2004),\n",
       " (-608, -4129, -515),\n",
       " (-608, -769, 2038),\n",
       " (-604, 1885, -666),\n",
       " (-601, -830, 1932),\n",
       " (-592, 1678, -722),\n",
       " (-589, -4045, -486),\n",
       " (-586, -2017, -422),\n",
       " (-579, -1645, -565),\n",
       " (-566, 1787, -646),\n",
       " (-565, -1973, -345),\n",
       " (-561, -472, -1672),\n",
       " (-556, -5154, 480),\n",
       " (-543, -2129, -400),\n",
       " (-516, 795, -1954),\n",
       " (-497, -772, -502),\n",
       " (-484, -4270, -3000),\n",
       " (-484, 698, 1828),\n",
       " (-484, 738, -2041),\n",
       " (-482, -2955, -2830),\n",
       " (-479, -5492, 1577),\n",
       " (-478, -2675, 1562),\n",
       " (-475, -2780, 1680),\n",
       " (-470, -5525, 1653),\n",
       " (-451, -5085, 519),\n",
       " (-447, -1541, 591),\n",
       " (-445, -2720, 1533),\n",
       " (-438, -1604, 366),\n",
       " (-437, -775, -647),\n",
       " (-432, -5576, 1610),\n",
       " (-432, 764, 1837),\n",
       " (-423, -4222, 590),\n",
       " (-420, -2812, -387),\n",
       " (-408, -736, -558),\n",
       " (-408, -437, -1740),\n",
       " (-407, -4071, 551),\n",
       " (-401, -4312, -2970),\n",
       " (-401, -4182, 448),\n",
       " (-393, -1463, 434),\n",
       " (-392, -5135, 532),\n",
       " (-392, -2929, -483),\n",
       " (-391, -3049, -404),\n",
       " (-361, 457, -746),\n",
       " (-360, 579, -799),\n",
       " (-358, 609, 1853),\n",
       " (-348, -509, -1627),\n",
       " (-346, 498, -726),\n",
       " (-328, 1868, -1715),\n",
       " (-327, 1755, -1761),\n",
       " (-306, -4200, -3045),\n",
       " (-269, 1852, -1722),\n",
       " (-237, -1231, 154),\n",
       " (-209, -53, 141),\n",
       " (-93, -1164, 18),\n",
       " (-74, 44, 28),\n",
       " (-52, -1141, 55),\n",
       " (-50, -3489, -2495),\n",
       " (-43, -1339, 136),\n",
       " (-31, 126, 1248),\n",
       " (-25, -3452, -1284),\n",
       " (-21, 33, -80),\n",
       " (-16, -2418, 37),\n",
       " (33, 148, -1291),\n",
       " (46, -4788, 1116),\n",
       " (49, -2418, -1247),\n",
       " (49, -2270, -81),\n",
       " (50, -3621, -1223),\n",
       " (83, 1, -1138),\n",
       " (87, -1161, -1211),\n",
       " (93, 11, 1172),\n",
       " (99, -3535, -2339),\n",
       " (119, -8, 72),\n",
       " (122, -3546, 1213),\n",
       " (123, -4674, 1256),\n",
       " (139, -1107, -84),\n",
       " (144, -2258, -1157),\n",
       " (221, -2016, -346),\n",
       " (243, 448, -494),\n",
       " (243, 739, -412),\n",
       " (247, 730, 933),\n",
       " (292, -2058, -364),\n",
       " (309, 770, 997),\n",
       " (310, 496, -379),\n",
       " (311, 567, -368),\n",
       " (324, -429, 846),\n",
       " (325, -310, 907),\n",
       " (351, -2111, 435),\n",
       " (356, 787, 1006),\n",
       " (368, -2869, -480),\n",
       " (368, -621, 627),\n",
       " (369, -5232, 1634),\n",
       " (373, -642, 759),\n",
       " (378, -633, 749),\n",
       " (378, 703, -438),\n",
       " (384, -1467, 1569),\n",
       " (386, -1652, 566),\n",
       " (386, 464, -477),\n",
       " (389, -1565, 1684),\n",
       " (390, -5367, 628),\n",
       " (395, -2829, -583),\n",
       " (397, -3146, -214),\n",
       " (398, -2014, -287),\n",
       " (403, 529, 1806),\n",
       " (408, -1585, 1720),\n",
       " (414, -5198, 1653),\n",
       " (414, -2076, 524),\n",
       " (418, -496, 1983),\n",
       " (418, -357, 961),\n",
       " (423, -3193, 1707),\n",
       " (428, -371, 1872),\n",
       " (430, 603, 1851),\n",
       " (448, -1552, 492),\n",
       " (450, -2098, 603),\n",
       " (452, -5281, 774),\n",
       " (455, -5083, 1615),\n",
       " (457, -2811, -558),\n",
       " (467, -379, 1905),\n",
       " (468, -677, -2002),\n",
       " (472, -1708, -2074),\n",
       " (473, 635, -522),\n",
       " (476, -1692, 500),\n",
       " (482, -5305, 558),\n",
       " (487, -450, -187),\n",
       " (496, 480, 1919),\n",
       " (507, -883, 871),\n",
       " (521, 704, -521),\n",
       " (524, -3019, 2039),\n",
       " (525, -3001, 2070),\n",
       " (526, -3170, -336),\n",
       " (526, 521, -519),\n",
       " (529, -1941, 337),\n",
       " (541, -443, -249),\n",
       " (550, -3129, -279),\n",
       " (550, -581, -1884),\n",
       " (555, -2072, 2146),\n",
       " (558, -2018, 2190),\n",
       " (561, -1928, 2172),\n",
       " (566, -4355, 493),\n",
       " (568, -1639, -701),\n",
       " (570, -3175, 1726),\n",
       " (574, -4197, -1786),\n",
       " (578, -2949, -1926),\n",
       " (583, -4275, 451),\n",
       " (583, -700, -1957),\n",
       " (585, -4274, 455),\n",
       " (588, -3283, 1669),\n",
       " (596, -1765, -1959),\n",
       " (603, -1757, -682),\n",
       " (612, -4221, -1827),\n",
       " (613, -3097, 1979),\n",
       " (617, -851, -187),\n",
       " (620, -3024, -2924),\n",
       " (626, -696, -533),\n",
       " (631, 448, -357),\n",
       " (636, 505, -1904),\n",
       " (637, -1642, -2029),\n",
       " (639, -879, 773),\n",
       " (641, -2959, -1939),\n",
       " (642, -3031, 666),\n",
       " (643, -4400, -1811),\n",
       " (645, -2783, 642),\n",
       " (646, -1715, -696),\n",
       " (651, -1843, 317),\n",
       " (652, -802, 888),\n",
       " (652, 698, 840),\n",
       " (653, -918, 524),\n",
       " (653, -355, -631),\n",
       " (654, -459, -273),\n",
       " (656, -720, -317),\n",
       " (658, -3903, 1694),\n",
       " (668, 539, -2021),\n",
       " (669, -3025, -2877),\n",
       " (688, 388, -535),\n",
       " (693, 546, 736),\n",
       " (694, -3925, 1615),\n",
       " (694, -803, 562),\n",
       " (694, 380, -1994),\n",
       " (701, 586, 941),\n",
       " (705, -1944, 372),\n",
       " (709, -2862, 614),\n",
       " (710, -4189, 2054),\n",
       " (710, -3987, 804),\n",
       " (718, -634, -463),\n",
       " (719, -2924, -1964),\n",
       " (739, -769, 543),\n",
       " (745, -489, -656),\n",
       " (746, -4105, 2166),\n",
       " (752, -316, -718),\n",
       " (757, -3890, 1526),\n",
       " (758, -903, -233),\n",
       " (766, -4070, 1951),\n",
       " (767, 476, -436),\n",
       " (769, 860, 408),\n",
       " (773, -847, -227),\n",
       " (793, -1751, -860),\n",
       " (797, 828, 435),\n",
       " (797, 844, 507),\n",
       " (806, -4254, -3134),\n",
       " (816, -3943, 727),\n",
       " (820, -3196, 819),\n",
       " (821, -1853, -778),\n",
       " (826, -3118, 862),\n",
       " (841, 866, 478),\n",
       " (845, -3859, -395),\n",
       " (877, -3960, -414),\n",
       " (887, -3985, 745),\n",
       " (888, -3005, -2931),\n",
       " (893, -3881, -443),\n",
       " (910, 816, 445),\n",
       " (914, -3198, 868),\n",
       " (926, -4287, -3174),\n",
       " (936, 802, 517),\n",
       " (940, -4217, -3024),\n",
       " (942, -1769, -825),\n",
       " (1074, 32, 108),\n",
       " (1156, -3523, 1296),\n",
       " (1157, 74, 85),\n",
       " (1158, -2289, 66),\n",
       " (1193, -2283, 1182),\n",
       " (1204, -3552, 1243),\n",
       " (1204, -1130, 227),\n",
       " (1209, -2329, 1392),\n",
       " (1259, -2474, 1277),\n",
       " (1266, -3611, -85),\n",
       " (1267, -3460, -1289),\n",
       " (1268, -61, 196),\n",
       " (1287, -3629, -1164),\n",
       " (1304, -2401, 1107),\n",
       " (1308, -3660, 1426),\n",
       " (1323, -1207, 48),\n",
       " (1324, -3460, 1102),\n",
       " (1327, -2355, 197),\n",
       " (1330, -2446, -100),\n",
       " (1407, -370, -318),\n",
       " (1435, -308, -205),\n",
       " (1449, -380, -179),\n",
       " (1547, 658, -594),\n",
       " (1552, 473, 679),\n",
       " (1561, -3066, 621),\n",
       " (1592, -3084, 620),\n",
       " (1593, -834, -512),\n",
       " (1616, 659, -642),\n",
       " (1618, 525, 688),\n",
       " (1648, -561, 514),\n",
       " (1651, -3872, 691),\n",
       " (1652, -3162, 709),\n",
       " (1673, -4028, 746),\n",
       " (1690, -1732, -260),\n",
       " (1694, -3984, 669),\n",
       " (1699, -895, -505),\n",
       " (1702, -2931, 750),\n",
       " (1707, 399, 663),\n",
       " (1712, 415, 592),\n",
       " (1713, -389, 665),\n",
       " (1716, -3178, -1751),\n",
       " (1726, -444, 563),\n",
       " (1730, 656, -589),\n",
       " (1751, -1695, -360),\n",
       " (1752, -1883, -338),\n",
       " (1756, -3995, -1806),\n",
       " (1759, -436, 524),\n",
       " (1762, -807, -526),\n",
       " (1767, -4029, -1735),\n",
       " (1769, -3233, -1772),\n",
       " (1769, -1959, 2007),\n",
       " (1772, -1863, -497),\n",
       " (1778, 544, -262),\n",
       " (1779, -2899, 696),\n",
       " (1780, 538, 526),\n",
       " (1787, -362, 710),\n",
       " (1794, -4067, -1813),\n",
       " (1794, 699, -336),\n",
       " (1797, -2827, -464),\n",
       " (1799, -2040, 1991),\n",
       " (1801, -1920, -465),\n",
       " (1803, 633, -388),\n",
       " (1815, -4241, -895),\n",
       " (1825, 464, 499),\n",
       " (1832, -1803, -277),\n",
       " (1836, -455, 597),\n",
       " (1844, -1967, 1758),\n",
       " (1845, -3227, -1650),\n",
       " (1857, -3129, 2136),\n",
       " (1873, -2032, 1940),\n",
       " (1876, -2828, -581),\n",
       " (1878, -4228, -812),\n",
       " (1878, -4035, -868),\n",
       " (1884, -3220, 2133),\n",
       " (1887, -4135, 2208),\n",
       " (1895, -1975, 1832),\n",
       " (1906, -2842, -578),\n",
       " (1907, -1614, 413),\n",
       " (1911, -1894, 1862),\n",
       " (1911, -1650, 504),\n",
       " (1913, -3121, 2158),\n",
       " (1918, -2932, 753),\n",
       " (1937, -3968, 754),\n",
       " (1947, -1630, 485),\n",
       " (1951, -2845, -379),\n",
       " (1952, -4095, 2206),\n",
       " (1984, -1538, 356),\n",
       " (2016, -3990, 790),\n",
       " (2037, -3155, 1747),\n",
       " (2040, -3064, 1774),\n",
       " (2062, -3056, 1718),\n",
       " (2062, -1532, 480),\n",
       " (2064, -1534, 438),\n",
       " (2069, -2740, -382),\n",
       " (2098, -2785, -349),\n",
       " (2105, -3955, 853),\n",
       " (2110, -4030, 1679),\n",
       " (2112, -4070, 1744),\n",
       " (2115, -4190, 2223),\n",
       " (2127, -4125, 1516),\n",
       " (2514, -3496, -23),\n",
       " (2884, -3993, -506),\n",
       " (2884, -2977, 790),\n",
       " (2903, -2769, 756),\n",
       " (2908, -2669, -480),\n",
       " (2933, -2760, -522),\n",
       " (2980, -3969, -397),\n",
       " (2999, -2885, 759),\n",
       " (3002, -3936, -484),\n",
       " (3025, -2724, -510),\n",
       " (3159, -4433, 407),\n",
       " (3174, -4431, 355),\n",
       " (3222, -4430, 359)}"
      ]
     },
     "execution_count": 69,
     "metadata": {},
     "output_type": "execute_result"
    }
   ],
   "source": [
    "points"
   ]
  },
  {
   "cell_type": "code",
   "execution_count": null,
   "id": "b94102d1-d82c-4d71-a415-eb6e93f948dd",
   "metadata": {},
   "outputs": [],
   "source": []
  }
 ],
 "metadata": {
  "kernelspec": {
   "display_name": "Python 3",
   "language": "python",
   "name": "python3"
  },
  "language_info": {
   "codemirror_mode": {
    "name": "ipython",
    "version": 3
   },
   "file_extension": ".py",
   "mimetype": "text/x-python",
   "name": "python",
   "nbconvert_exporter": "python",
   "pygments_lexer": "ipython3",
   "version": "3.10.1"
  }
 },
 "nbformat": 4,
 "nbformat_minor": 5
}
