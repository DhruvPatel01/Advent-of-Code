{
 "cells": [
  {
   "cell_type": "code",
   "execution_count": 21,
   "id": "2b14aeb2-bf91-4234-8228-c906dc246faf",
   "metadata": {},
   "outputs": [],
   "source": [
    "import numpy as np"
   ]
  },
  {
   "cell_type": "code",
   "execution_count": 135,
   "id": "9f55f117-e3c5-4fa9-99e7-74ebcb2da4a1",
   "metadata": {},
   "outputs": [],
   "source": [
    "def to_bin(s):\n",
    "    return [1 if c == '#' else 0 for c in s]\n",
    "\n",
    "def to_normal(s):\n",
    "    return ''.join('#' if c == 1 else '.' for c in s)\n",
    "\n",
    "def pad(img, padding=2, init=True, pad_with=0):\n",
    "    H, W = img.shape\n",
    "    nimg = np.zeros((H+2*padding, W+2*padding), dtype=np.uint8) + pad_with\n",
    "    if not init:\n",
    "        return nimg\n",
    "    \n",
    "    for i in range(H):\n",
    "        for j in range(W):\n",
    "            nimg[i+padding, j+padding] = img[i, j]\n",
    "    return nimg\n",
    "\n",
    "def print_img(img):\n",
    "    for row in img:\n",
    "        print(to_normal(row))"
   ]
  },
  {
   "cell_type": "code",
   "execution_count": 183,
   "id": "1e8cdffc-fd45-401c-bf1d-d78035438069",
   "metadata": {},
   "outputs": [],
   "source": [
    "inp = list(map(str.strip, open('../input/day20').readlines()))\n",
    "# inp = list(map(str.strip, open('test.txt').readlines()))\n",
    "lookup = dict(enumerate(to_bin(inp[0])))\n",
    "img = np.array([to_bin(l) for l in inp[2:]])\n",
    "# print_img(img)\n",
    "# print(img.shape)"
   ]
  },
  {
   "cell_type": "code",
   "execution_count": 184,
   "id": "80864251-1f8f-4bbd-ab9d-7e140d49f7e7",
   "metadata": {},
   "outputs": [],
   "source": [
    "def convolution(img, border):\n",
    "    H, W = img.shape\n",
    "    nimg = pad(img, 2, init=True, pad_with=border)\n",
    "    img = nimg.copy()\n",
    "    for i in range(1, H+3):\n",
    "        for j in range(1, W+3):\n",
    "            idx = 0\n",
    "            for k in img[i-1:i+2, j-1:j+2].ravel():\n",
    "                idx = idx*2 + k\n",
    "            nimg[i, j] = lookup[idx]\n",
    "    border = lookup[0] if border == 0 else lookup[511]\n",
    "    return nimg[1:-1, 1:-1], border"
   ]
  },
  {
   "cell_type": "code",
   "execution_count": 185,
   "id": "137b1c43-178c-473e-8241-325030bd44a3",
   "metadata": {},
   "outputs": [],
   "source": [
    "nimg, border = img, 0\n",
    "for i in range(50):\n",
    "    nimg, border = convolution(nimg, border)\n",
    "    # print_img(nimg)\n",
    "    # print(nimg.shape)\n",
    "    # print()"
   ]
  },
  {
   "cell_type": "code",
   "execution_count": 182,
   "id": "e8ddbd28-a1bc-42f4-86b2-95ee17243174",
   "metadata": {},
   "outputs": [
    {
     "name": "stdout",
     "output_type": "stream",
     "text": [
      "Part 1:  3351\n"
     ]
    }
   ],
   "source": [
    "print(\"Part 1: \", nimg.sum())"
   ]
  },
  {
   "cell_type": "code",
   "execution_count": 186,
   "id": "1d84bceb-ecbd-464b-9394-611e1a020eee",
   "metadata": {},
   "outputs": [
    {
     "name": "stdout",
     "output_type": "stream",
     "text": [
      "Part 2:  18723\n"
     ]
    }
   ],
   "source": [
    "print(\"Part 2: \", nimg.sum())"
   ]
  },
  {
   "cell_type": "code",
   "execution_count": null,
   "id": "77f1b955-f889-4b41-9dcc-f2d485b6b5bc",
   "metadata": {},
   "outputs": [],
   "source": []
  }
 ],
 "metadata": {
  "kernelspec": {
   "display_name": "Python 3",
   "language": "python",
   "name": "python3"
  },
  "language_info": {
   "codemirror_mode": {
    "name": "ipython",
    "version": 3
   },
   "file_extension": ".py",
   "mimetype": "text/x-python",
   "name": "python",
   "nbconvert_exporter": "python",
   "pygments_lexer": "ipython3",
   "version": "3.10.1"
  }
 },
 "nbformat": 4,
 "nbformat_minor": 5
}
