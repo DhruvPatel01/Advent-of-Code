{
 "cells": [
  {
   "cell_type": "code",
   "execution_count": 1,
   "metadata": {},
   "outputs": [],
   "source": [
    "import matplotlib.pyplot as plt\n",
    "import numpy as np"
   ]
  },
  {
   "cell_type": "code",
   "execution_count": 21,
   "metadata": {},
   "outputs": [],
   "source": [
    "with open('input/day7') as f:\n",
    "    x = np.array(list(map(int, f.readline().strip().split(','))))\n",
    "    x.sort()"
   ]
  },
  {
   "cell_type": "code",
   "execution_count": 85,
   "metadata": {},
   "outputs": [],
   "source": [
    "def cost(X, x):\n",
    "    d = np.abs(X-x)\n",
    "    return d*(d+1)/2"
   ]
  },
  {
   "cell_type": "code",
   "execution_count": 98,
   "metadata": {},
   "outputs": [],
   "source": [
    "a, b = x.min(), x.max()\n",
    "s = np.linspace(a, b, 10000)\n",
    "costs = [cost(x, p).sum() for p in s]"
   ]
  },
  {
   "cell_type": "code",
   "execution_count": 99,
   "metadata": {},
   "outputs": [
    {
     "data": {
      "text/plain": [
       "482.596"
      ]
     },
     "execution_count": 99,
     "metadata": {},
     "output_type": "execute_result"
    }
   ],
   "source": [
    "x.mean()"
   ]
  },
  {
   "cell_type": "code",
   "execution_count": 103,
   "metadata": {},
   "outputs": [
    {
     "data": {
      "text/plain": [
       "Text(0, 0.5, 'Fuel Consumption')"
      ]
     },
     "execution_count": 103,
     "metadata": {},
     "output_type": "execute_result"
    },
    {
     "data": {
      "image/png": "[encoded data removed]",
      "text/plain": [
       "<Figure size 432x288 with 1 Axes>"
      ]
     },
     "metadata": {
      "needs_background": "light"
     },
     "output_type": "display_data"
    }
   ],
   "source": [
    "plt.plot(s, costs)\n",
    "tmp = np.argmin(costs)\n",
    "xmin, ymin = s[tmp], costs[tmp]\n",
    "plt.scatter(xmin, ymin)\n",
    "plt.xlabel('Candidate Target')\n",
    "plt.ylabel('Fuel Consumption')"
   ]
  },
  {
   "cell_type": "code",
   "execution_count": 39,
   "metadata": {},
   "outputs": [],
   "source": [
    "p = round(x.mean())"
   ]
  },
  {
   "cell_type": "code",
   "execution_count": 111,
   "metadata": {},
   "outputs": [
    {
     "data": {
      "text/plain": [
       "True"
      ]
     },
     "execution_count": 111,
     "metadata": {},
     "output_type": "execute_result"
    }
   ],
   "source": [
    "cost(x, 482).sum() < cost(x, 483).sum()"
   ]
  },
  {
   "cell_type": "code",
   "execution_count": 109,
   "metadata": {},
   "outputs": [
    {
     "data": {
      "text/plain": [
       "(482.55545554555454, 482.596)"
      ]
     },
     "execution_count": 109,
     "metadata": {},
     "output_type": "execute_result"
    }
   ],
   "source": [
    "s[tmp], x.mean()\n",
    "#p, cost(x, p).sum()"
   ]
  },
  {
   "cell_type": "code",
   "execution_count": 41,
   "metadata": {},
   "outputs": [
    {
     "data": {
      "text/plain": [
       "2572"
      ]
     },
     "execution_count": 41,
     "metadata": {},
     "output_type": "execute_result"
    }
   ],
   "source": [
    "np.argmin(costs)"
   ]
  },
  {
   "cell_type": "code",
   "execution_count": 42,
   "metadata": {},
   "outputs": [
    {
     "data": {
      "text/plain": [
       "(94862001.64856985, 482.55545554555454)"
      ]
     },
     "execution_count": 42,
     "metadata": {},
     "output_type": "execute_result"
    }
   ],
   "source": [
    "costs[2572], s[2572]"
   ]
  },
  {
   "cell_type": "code",
   "execution_count": 43,
   "metadata": {},
   "outputs": [
    {
     "data": {
      "text/plain": [
       "94862124.0"
      ]
     },
     "execution_count": 43,
     "metadata": {},
     "output_type": "execute_result"
    }
   ],
   "source": [
    "cost(x, 482).sum()"
   ]
  },
  {
   "cell_type": "code",
   "execution_count": 46,
   "metadata": {},
   "outputs": [
    {
     "data": {
      "text/plain": [
       "94862126.0"
      ]
     },
     "execution_count": 46,
     "metadata": {},
     "output_type": "execute_result"
    }
   ],
   "source": [
    "cost(x, 483).sum()"
   ]
  },
  {
   "cell_type": "code",
   "execution_count": 47,
   "metadata": {},
   "outputs": [
    {
     "data": {
      "text/plain": [
       "94862004.80000001"
      ]
     },
     "execution_count": 47,
     "metadata": {},
     "output_type": "execute_result"
    }
   ],
   "source": [
    "cost(x, x.mean()).sum()"
   ]
  },
  {
   "cell_type": "code",
   "execution_count": 48,
   "metadata": {},
   "outputs": [
    {
     "data": {
      "text/plain": [
       "482.596"
      ]
     },
     "execution_count": 48,
     "metadata": {},
     "output_type": "execute_result"
    }
   ],
   "source": [
    "x.mean()"
   ]
  },
  {
   "cell_type": "code",
   "execution_count": 78,
   "metadata": {},
   "outputs": [],
   "source": [
    "n2, n1 = (x > x.mean()).sum(), (x < x.mean()).sum() "
   ]
  },
  {
   "cell_type": "code",
   "execution_count": 52,
   "metadata": {},
   "outputs": [],
   "source": [
    "import torch"
   ]
  },
  {
   "cell_type": "code",
   "execution_count": 66,
   "metadata": {},
   "outputs": [],
   "source": [
    "p = torch.tensor(0.0, requires_grad=True)"
   ]
  },
  {
   "cell_type": "code",
   "execution_count": 67,
   "metadata": {},
   "outputs": [],
   "source": [
    "losses = []\n",
    "\n",
    "xt = torch.tensor(x).to(torch.float32)\n",
    "optim = torch.optim.SGD([p], lr=0.00001)\n",
    "\n",
    "for _ in range(10_000):\n",
    "    d = (xt - p).abs()\n",
    "    optim.zero_grad()\n",
    "    loss = (d**2 + d).sum()\n",
    "    loss.backward()\n",
    "    optim.step()\n",
    "    losses.append(loss.item())"
   ]
  },
  {
   "cell_type": "code",
   "execution_count": 74,
   "metadata": {},
   "outputs": [
    {
     "data": {
      "text/plain": [
       "482.4972839355469"
      ]
     },
     "execution_count": 74,
     "metadata": {},
     "output_type": "execute_result"
    }
   ],
   "source": [
    "p.item()"
   ]
  },
  {
   "cell_type": "code",
   "execution_count": 77,
   "metadata": {},
   "outputs": [
    {
     "data": {
      "text/plain": [
       "482.59600830078125"
      ]
     },
     "execution_count": 77,
     "metadata": {},
     "output_type": "execute_result"
    }
   ],
   "source": [
    "xt.mean().item()"
   ]
  },
  {
   "cell_type": "code",
   "execution_count": 79,
   "metadata": {},
   "outputs": [
    {
     "data": {
      "text/plain": [
       "482.49800830078124"
      ]
     },
     "execution_count": 79,
     "metadata": {},
     "output_type": "execute_result"
    }
   ],
   "source": [
    "xt.mean().item() + (n2 - n1)/(2*len(x))"
   ]
  },
  {
   "cell_type": "code",
   "execution_count": 87,
   "metadata": {},
   "outputs": [
    {
     "data": {
      "text/plain": [
       "94861999.998"
      ]
     },
     "execution_count": 87,
     "metadata": {},
     "output_type": "execute_result"
    }
   ],
   "source": [
    "cost(x, 482.4980).sum()"
   ]
  },
  {
   "cell_type": "code",
   "execution_count": 88,
   "metadata": {},
   "outputs": [
    {
     "data": {
      "text/plain": [
       "94861999.99831998"
      ]
     },
     "execution_count": 88,
     "metadata": {},
     "output_type": "execute_result"
    }
   ],
   "source": [
    "cost(x, 482.4972).sum()"
   ]
  },
  {
   "cell_type": "code",
   "execution_count": 94,
   "metadata": {},
   "outputs": [
    {
     "data": {
      "text/plain": [
       "array([   0,    0,    0,    0,    0,    0,    0,    1,    1,    1,    1,\n",
       "          1,    1,    1,    1,    2,    2,    3,    3,    3,    3,    4,\n",
       "          5,    5,    5,    6,    7,    7,    8,    9,   10,   10,   10,\n",
       "         10,   11,   11,   11,   12,   12,   13,   14,   15,   15,   16,\n",
       "         16,   16,   16,   16,   16,   17,   17,   17,   17,   18,   20,\n",
       "         20,   20,   20,   20,   22,   22,   22,   22,   23,   23,   23,\n",
       "         24,   24,   25,   25,   26,   27,   28,   28,   28,   28,   28,\n",
       "         29,   29,   30,   31,   32,   32,   32,   32,   32,   32,   33,\n",
       "         34,   34,   35,   35,   35,   35,   35,   36,   38,   39,   41,\n",
       "         42,   42,   43,   43,   45,   45,   45,   46,   46,   46,   47,\n",
       "         47,   48,   50,   50,   51,   51,   51,   52,   52,   52,   52,\n",
       "         52,   53,   53,   54,   54,   55,   56,   56,   57,   57,   58,\n",
       "         59,   59,   60,   60,   60,   64,   64,   65,   65,   65,   65,\n",
       "         65,   65,   65,   65,   66,   66,   66,   66,   66,   67,   67,\n",
       "         67,   67,   67,   69,   69,   69,   70,   70,   71,   71,   74,\n",
       "         74,   74,   75,   75,   75,   76,   76,   79,   80,   80,   80,\n",
       "         81,   81,   82,   82,   85,   85,   85,   85,   86,   86,   86,\n",
       "         87,   89,   90,   91,   91,   92,   92,   92,   93,   93,   93,\n",
       "         94,   96,   96,   97,   97,   97,   97,   97,   98,   98,   99,\n",
       "         99,   99,   99,  100,  100,  101,  101,  101,  101,  101,  101,\n",
       "        102,  103,  103,  103,  103,  104,  104,  105,  105,  105,  107,\n",
       "        107,  108,  109,  110,  110,  110,  110,  111,  111,  111,  112,\n",
       "        112,  113,  114,  114,  115,  115,  115,  115,  116,  116,  116,\n",
       "        116,  116,  117,  118,  119,  119,  119,  119,  121,  122,  123,\n",
       "        124,  124,  124,  125,  126,  126,  127,  127,  128,  128,  129,\n",
       "        130,  131,  132,  132,  132,  133,  135,  136,  136,  137,  137,\n",
       "        137,  138,  140,  141,  141,  141,  144,  145,  145,  146,  147,\n",
       "        147,  147,  147,  149,  150,  150,  150,  151,  151,  152,  154,\n",
       "        155,  156,  158,  159,  159,  160,  160,  160,  161,  163,  163,\n",
       "        163,  163,  164,  165,  165,  167,  167,  168,  169,  169,  170,\n",
       "        170,  172,  173,  174,  175,  175,  177,  178,  178,  178,  180,\n",
       "        181,  181,  182,  182,  183,  184,  184,  186,  186,  188,  192,\n",
       "        194,  194,  194,  199,  199,  200,  201,  202,  202,  203,  204,\n",
       "        205,  206,  206,  206,  206,  207,  208,  213,  213,  214,  214,\n",
       "        216,  216,  217,  217,  217,  218,  220,  220,  221,  224,  226,\n",
       "        228,  230,  231,  233,  233,  236,  236,  237,  237,  238,  240,\n",
       "        240,  240,  242,  243,  244,  246,  247,  247,  248,  249,  250,\n",
       "        250,  251,  252,  252,  255,  255,  256,  257,  260,  262,  263,\n",
       "        265,  266,  267,  268,  269,  269,  271,  272,  272,  272,  273,\n",
       "        274,  275,  276,  276,  277,  278,  279,  282,  282,  284,  285,\n",
       "        285,  285,  288,  288,  290,  293,  293,  295,  295,  295,  296,\n",
       "        296,  297,  297,  297,  297,  297,  299,  299,  300,  301,  303,\n",
       "        306,  306,  310,  312,  314,  317,  318,  319,  320,  322,  324,\n",
       "        324,  326,  326,  328,  333,  335,  336,  338,  339,  340,  341,\n",
       "        341,  342,  342,  344,  345,  346,  347,  347,  349,  351,  352,\n",
       "        353,  354,  354,  354,  358,  358,  358,  359,  359,  359,  360,\n",
       "        361,  362,  362,  363,  363,  363,  365,  366,  366,  369,  371,\n",
       "        372,  379,  379,  380,  381,  383,  384,  385,  388,  391,  392,\n",
       "        393,  393,  393,  399,  400,  401,  403,  405,  405,  405,  406,\n",
       "        408,  409,  409,  409,  411,  411,  412,  413,  414,  414,  415,\n",
       "        418,  420,  422,  423,  424,  424,  424,  425,  426,  427,  428,\n",
       "        430,  431,  433,  433,  435,  435,  436,  436,  437,  440,  443,\n",
       "        444,  444,  444,  445,  445,  451,  454,  457,  457,  457,  460,\n",
       "        462,  464,  464,  465,  466,  468,  474,  475,  475,  477,  478,\n",
       "        478,  480,  481,  482,  483,  484,  486,  487,  489,  490,  492,\n",
       "        492,  494,  494,  495,  500,  502,  502,  504,  504,  507,  508,\n",
       "        509,  513,  515,  516,  516,  519,  521,  521,  521,  522,  523,\n",
       "        523,  530,  531,  531,  535,  537,  539,  541,  541,  543,  544,\n",
       "        546,  548,  548,  550,  551,  551,  552,  553,  555,  558,  559,\n",
       "        562,  564,  566,  567,  569,  571,  572,  572,  573,  573,  573,\n",
       "        573,  574,  581,  581,  582,  589,  590,  591,  598,  600,  602,\n",
       "        603,  604,  608,  612,  613,  613,  617,  617,  618,  618,  619,\n",
       "        620,  623,  626,  626,  626,  627,  629,  632,  633,  634,  634,\n",
       "        636,  636,  639,  640,  640,  644,  645,  645,  649,  651,  653,\n",
       "        655,  656,  657,  663,  663,  663,  665,  665,  671,  672,  673,\n",
       "        675,  675,  677,  684,  685,  687,  691,  692,  694,  697,  699,\n",
       "        699,  707,  710,  711,  718,  718,  720,  721,  724,  725,  725,\n",
       "        726,  727,  729,  730,  730,  731,  731,  732,  738,  742,  748,\n",
       "        750,  750,  752,  754,  755,  756,  757,  757,  760,  761,  764,\n",
       "        765,  766,  768,  769,  772,  772,  774,  777,  779,  780,  785,\n",
       "        786,  787,  789,  789,  790,  791,  791,  792,  795,  796,  796,\n",
       "        798,  799,  802,  804,  806,  816,  817,  819,  821,  822,  825,\n",
       "        826,  831,  834,  834,  835,  835,  836,  837,  840,  841,  843,\n",
       "        845,  852,  852,  854,  857,  860,  867,  869,  870,  872,  872,\n",
       "        878,  882,  884,  889,  897,  898,  908,  908,  916,  918,  921,\n",
       "        923,  929,  931,  933,  935,  935,  936,  939,  941,  941,  946,\n",
       "        948,  951,  952,  956,  960,  963,  963,  968,  972,  976,  980,\n",
       "        981,  985,  987,  994,  996,  997, 1001, 1003, 1005, 1008, 1016,\n",
       "       1021, 1025, 1026, 1029, 1032, 1034, 1040, 1041, 1041, 1050, 1052,\n",
       "       1055, 1055, 1062, 1068, 1072, 1073, 1075, 1077, 1084, 1093, 1097,\n",
       "       1101, 1102, 1106, 1107, 1111, 1113, 1114, 1123, 1127, 1128, 1129,\n",
       "       1130, 1132, 1135, 1154, 1156, 1157, 1164, 1166, 1172, 1174, 1174,\n",
       "       1176, 1178, 1180, 1183, 1195, 1206, 1209, 1211, 1213, 1222, 1235,\n",
       "       1235, 1241, 1242, 1242, 1243, 1244, 1244, 1244, 1248, 1248, 1260,\n",
       "       1261, 1264, 1267, 1273, 1273, 1277, 1281, 1282, 1283, 1293, 1300,\n",
       "       1309, 1314, 1317, 1318, 1323, 1325, 1328, 1336, 1337, 1338, 1340,\n",
       "       1351, 1358, 1362, 1364, 1364, 1373, 1386, 1388, 1391, 1396, 1419,\n",
       "       1424, 1427, 1442, 1446, 1449, 1450, 1455, 1456, 1457, 1462, 1469,\n",
       "       1480, 1481, 1483, 1499, 1509, 1515, 1515, 1523, 1532, 1560, 1561,\n",
       "       1566, 1576, 1585, 1596, 1607, 1621, 1624, 1629, 1648, 1655, 1676,\n",
       "       1682, 1706, 1708, 1724, 1739, 1758, 1777, 1825, 1829, 1876])"
      ]
     },
     "execution_count": 94,
     "metadata": {},
     "output_type": "execute_result"
    }
   ],
   "source": [
    "x"
   ]
  },
  {
   "cell_type": "code",
   "execution_count": null,
   "metadata": {},
   "outputs": [],
   "source": []
  }
 ],
 "metadata": {
  "kernelspec": {
   "display_name": "Python 3",
   "language": "python",
   "name": "python3"
  },
  "language_info": {
   "codemirror_mode": {
    "name": "ipython",
    "version": 3
   },
   "file_extension": ".py",
   "mimetype": "text/x-python",
   "name": "python",
   "nbconvert_exporter": "python",
   "pygments_lexer": "ipython3",
   "version": "3.9.9"
  }
 },
 "nbformat": 4,
 "nbformat_minor": 4
}
