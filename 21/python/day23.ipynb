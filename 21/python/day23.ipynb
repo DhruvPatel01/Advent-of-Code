{
 "cells": [
  {
   "cell_type": "code",
   "execution_count": 1,
   "id": "cdc130e4-7d55-4529-9735-1d6a563b4014",
   "metadata": {},
   "outputs": [],
   "source": [
    "from heapq import heappush, heappop\n",
    "from collections import defaultdict"
   ]
  },
  {
   "cell_type": "markdown",
   "id": "2453bb0e-a286-4000-9602-05db6a48dd12",
   "metadata": {},
   "source": [
    "## Experience\n",
    "\n",
    "This one was easy but took time.\n",
    "\n",
    "Each position was given an integer.\n",
    "\n",
    "```\n",
    "#{16}{17}...{18}...{19}....{20}....{21}{22}#\n",
    "#########{0}####{4}####{8} ####{12}#########\n",
    "        #{1}####{5}####{9} ####{13}#\n",
    "        #{2}####{6}####{10}####{14}#\n",
    "        #{3}####{7}####{11}####{15}#\n",
    "```\n",
    "\n",
    "So state can be described as a list of 23 elements. 4\\*4 Amphipods, and 7 unoccpied. Unoccupied is denoted as 100.\n",
    "\n",
    "\n",
    "### First Approach\n",
    "\n",
    "I (implicitly) created a dense graph. This meant each node(state) all possible neighbours were allowed.\n",
    "\n",
    "That means that if some room had 3 Amphipods, `XYZ.` (dot being at bottom), I had allowed `XY.Z`. This created a dense graph. Similarly `XY.Z` had `X.YZ` and `XYZ.` as neightbours.\n",
    "\n",
    "Initially, I also allowed neighbours that violated rules of the Amphipod. E.g. if A is at hallway X, it was allowed to roam at X+2 or X-2 (provided that is was not occupied). This violated the rule that Amphipod's are allowed to stop only once in the hallway.\n",
    "\n",
    "This approch quickly filled memory (7GB in around a minute). So had to be improved. I am really embarassed that I didn't read the rules carefully, they have given so many hints.\n",
    "\n",
    "### Second approach (mapping of English rules to state space)\n",
    "\n",
    "* You can only move from room to hallway, and hallway to room.\n",
    "* You can only move to bottomest allowed position if you are moving into a room.\n",
    "* You can't enter the room if it is occupied by some other variety of amphipod.\n",
    "\n",
    "At first, I felt that the rules described in the puzzle were arbitrary. But after my failed first approach, I realized that these rules made the statespace quite small so that it can be explored with small enough computer.\n",
    "\n",
    "### Possible improvements:\n",
    "A* search. A variation of L1 distance as heuristic."
   ]
  },
  {
   "cell_type": "code",
   "execution_count": 2,
   "id": "85e13ff7-966f-4231-9c8d-713bf23389a9",
   "metadata": {},
   "outputs": [],
   "source": [
    "corridor2base = {\n",
    "    (16, 0): 3, (16, 1): 5, (16, 2): 7, (16, 3): 9, \n",
    "    (17, 0): 2, (17, 1): 4, (17, 2): 6, (17, 3): 8,\n",
    "    (18, 0): 2, (18, 1): 2, (18, 2): 4, (18, 3): 6, \n",
    "    (19, 0): 4, (19, 1): 2, (19, 2): 2, (19, 3): 4,\n",
    "    (20, 0): 6, (20, 1): 4, (20, 2): 2, (20, 3): 2,\n",
    "    (21, 0): 8, (21, 1): 6, (21, 2): 4, (21, 3): 2, \n",
    "    (22, 0): 9, (22, 1): 7, (22, 2): 5, (22, 3): 3,\n",
    "}\n",
    "\n",
    "def is_end(s):\n",
    "    for i in range(16):\n",
    "        if s[i] == 100 or s[i] != i//4: return False\n",
    "    return True\n",
    "\n",
    "def can_exit(s, hall):\n",
    "    base = hall//4 * 4\n",
    "    for i in range(hall-1, base-1, -1):\n",
    "        if s[i] != 100: return False\n",
    "    return True\n",
    "\n",
    "def find_deepest(s, base, a):\n",
    "    for i in range(base+3, base-1, -1):\n",
    "        if s[i] == 100: return i\n",
    "        if s[i] != a: return None\n",
    "    return None\n",
    "\n",
    "costs = [1, 10, 100, 1000]\n",
    "\n",
    "def neighbours(s):\n",
    "    s = list(s)\n",
    "    for i, a in enumerate(s):\n",
    "        if a == 100: continue # Not occupied\n",
    "        if i < 16: # Room\n",
    "            if not can_exit(s, i): continue\n",
    "            base = i//4\n",
    "            left_cor = 17 + base\n",
    "            d = i-base*4\n",
    "            for k in range(left_cor, 15, -1):\n",
    "                d += 2\n",
    "                if s[k] != 100: break\n",
    "                if k == 16: d -= 1\n",
    "                s[k], s[i] = a, 100\n",
    "                yield tuple(s), d*costs[a]\n",
    "                s[k], s[i] = 100, a                \n",
    "            d = i-base*4\n",
    "            for k in range(left_cor+1, 23):\n",
    "                d += 2\n",
    "                if s[k] != 100: break\n",
    "                s[k], s[i] = a, 100\n",
    "                if k == 22: d -= 1\n",
    "                yield tuple(s), d*costs[a]\n",
    "                s[k], s[i] = 100, a\n",
    "        else: # Corridor\n",
    "            base = a*4\n",
    "            k = find_deepest(s, base, a)\n",
    "            if k is None: continue\n",
    "            r = 17+a\n",
    "            if r >= i:\n",
    "                r = r+1\n",
    "                l = i+1\n",
    "                dir = 1\n",
    "            else:\n",
    "                l = i-1\n",
    "                dir = -1\n",
    "                  \n",
    "            can_enter = True\n",
    "            for c in range(l, r, dir):\n",
    "                if s[c] != 100:\n",
    "                    can_enter = False\n",
    "                    break\n",
    "            if not can_enter: continue\n",
    "                \n",
    "            s[k], s[i] = a, 100\n",
    "            yield tuple(s), (corridor2base[i, a]+(k-base))*costs[a]\n",
    "            s[k], s[i] = 100, a\n",
    "            \n",
    "                "
   ]
  },
  {
   "cell_type": "code",
   "execution_count": 3,
   "id": "725a9367-d0fe-446d-997d-634925867db5",
   "metadata": {},
   "outputs": [],
   "source": [
    "inputs = {\n",
    "    'test_part1': 'BAAACDBBBCCCDADD',\n",
    "    'test_part2': 'BDDACCBDBBACDACA',\n",
    "    'Part1': 'DDAABABBCBCCCADD',\n",
    "    'Part2': 'DDDDBCBACBABCACA',\n",
    "    'debug1': 'AAAABBBBCCCCDDDD'\n",
    "}"
   ]
  },
  {
   "cell_type": "code",
   "execution_count": 4,
   "id": "04423c0e-6c7c-4ee8-b62a-87ac047fd6aa",
   "metadata": {},
   "outputs": [],
   "source": [
    "def solve(part):\n",
    "    initial = tuple(['ABCD'.index(c) for c in inputs[part]] + [100]*7)\n",
    "    heap = [(0, initial)]\n",
    "    found = {}\n",
    "    cost_d = defaultdict(lambda: float('inf'))\n",
    "    while heap:\n",
    "        cost, node = heappop(heap)\n",
    "        if is_end(node):\n",
    "            print(part, cost)\n",
    "            break\n",
    "        if node in found: continue\n",
    "        found[node] = cost\n",
    "\n",
    "        for n, c in neighbours(node):\n",
    "            if n not in found and cost+c < cost_d[n]:\n",
    "                cost_d[n] = cost+c\n",
    "                heappush(heap, (cost+c, n))"
   ]
  },
  {
   "cell_type": "code",
   "execution_count": 5,
   "id": "e596f234-aa3d-433c-9c80-0770d9c96f4a",
   "metadata": {},
   "outputs": [
    {
     "name": "stdout",
     "output_type": "stream",
     "text": [
      "Part1 19019\n"
     ]
    }
   ],
   "source": [
    "solve('Part1')"
   ]
  },
  {
   "cell_type": "code",
   "execution_count": 6,
   "id": "5b4345fb-bf37-40a2-83d7-23168227f465",
   "metadata": {},
   "outputs": [
    {
     "name": "stdout",
     "output_type": "stream",
     "text": [
      "Part2 47533\n"
     ]
    }
   ],
   "source": [
    "solve('Part2')"
   ]
  },
  {
   "cell_type": "markdown",
   "id": "f34737af-d82d-4532-9225-0887fc8ddf4d",
   "metadata": {},
   "source": [
    "## For Debugging"
   ]
  },
  {
   "cell_type": "code",
   "execution_count": 7,
   "id": "2cbbdbd6-494e-4a3b-adc6-fa2b738fe186",
   "metadata": {},
   "outputs": [],
   "source": [
    "def pprint(node):\n",
    "    m = {0: 'A', 1: 'B', 2: 'C', 3: 'D', 100: '.'}\n",
    "    node = tuple(m[n] for n in node)\n",
    "#     s = \"\"\"\n",
    "# #############\n",
    "# #{16}{17}.{18}.{19}.{20}.{21}{22}#\n",
    "# ###{0}#{4}#{8}#{12}###\n",
    "#   #{1}#{5}#{9}#{13}#\n",
    "#   #########\n",
    "# \"\"\"\n",
    "    s = \"\"\"\n",
    "#############\n",
    "#{16}{17}.{18}.{19}.{20}.{21}{22}#\n",
    "###{0}#{4}#{8}#{12}###\n",
    "  #{1}#{5}#{9}#{13}#\n",
    "  #{2}#{6}#{10}#{14}#\n",
    "  #{3}#{7}#{11}#{15}#\n",
    "  #########\n",
    "\"\"\"\n",
    " \n",
    "    print(s.format(*node))"
   ]
  },
  {
   "cell_type": "code",
   "execution_count": null,
   "id": "8ccb3cc3-bf9b-4760-87a4-60815c7fca28",
   "metadata": {},
   "outputs": [],
   "source": []
  }
 ],
 "metadata": {
  "kernelspec": {
   "display_name": "Python 3",
   "language": "python",
   "name": "python3"
  },
  "language_info": {
   "codemirror_mode": {
    "name": "ipython",
    "version": 3
   },
   "file_extension": ".py",
   "mimetype": "text/x-python",
   "name": "python",
   "nbconvert_exporter": "python",
   "pygments_lexer": "ipython3",
   "version": "3.10.1"
  }
 },
 "nbformat": 4,
 "nbformat_minor": 5
}
